{
 "cells": [
  {
   "cell_type": "code",
   "execution_count": 1,
   "metadata": {
    "collapsed": true
   },
   "outputs": [],
   "source": [
    "import sys\n",
    "import json\n",
    "import os\n",
    "import numpy as np\n",
    "import tensorflow as tf\n",
    "\n",
    "from model.assembler import get_model_logits\n",
    "from model import train_ops\n",
    "from model import summary_ops\n",
    "import data.ops\n",
    "\n",
    "import matplotlib.pyplot as plt\n",
    "import seaborn as sns\n",
    "import pandas as pd\n",
    "\n",
    "sns.set_style('dark')\n",
    "sns.set_context('poster')\n",
    "%matplotlib inline\n",
    "\n",
    "proto_path = 'small_resnet.json'\n",
    "proto_name = os.path.splitext(proto_path)[0]\n",
    "proto_name = os.path.basename(proto_name)"
   ]
  },
  {
   "cell_type": "code",
   "execution_count": 2,
   "metadata": {},
   "outputs": [
    {
     "name": "stdout",
     "output_type": "stream",
     "text": [
      "Tensor(\"var_features/FCN_block_0/Conv0/conv1d/Squeeze:0\", shape=(?, ?, 4), dtype=float32)\n",
      "Tensor(\"var_features/FCN_block_0/Conv1/conv1d/Squeeze:0\", shape=(?, ?, 4), dtype=float32)\n",
      "Tensor(\"var_features/FCN_block_0/Conv2/conv1d/Squeeze:0\", shape=(?, ?, 4), dtype=float32)\n",
      "\n",
      "Tensor(\"var_features/FCN_block_1/Conv0/conv1d/Squeeze:0\", shape=(?, ?, 4), dtype=float32)\n",
      "Tensor(\"var_features/FCN_block_1/Conv1/conv1d/Squeeze:0\", shape=(?, ?, 4), dtype=float32)\n",
      "\n",
      "Tensor(\"var_features/FCN_block_2/Conv0/conv1d/Squeeze:0\", shape=(?, ?, 4), dtype=float32)\n",
      "Tensor(\"var_features/FCN_block_2/Conv1/conv1d/Squeeze:0\", shape=(?, ?, 4), dtype=float32)\n",
      "\n",
      "Tensor(\"var_features/FCN_block_3/Conv0/conv1d/Squeeze:0\", shape=(?, ?, 8), dtype=float32)\n",
      "Tensor(\"var_features/FCN_block_3/Conv1/conv1d/Squeeze:0\", shape=(?, ?, 8), dtype=float32)\n",
      "\n",
      "Tensor(\"var_features/FCN_block_4/Conv0/conv1d/Squeeze:0\", shape=(?, ?, 8), dtype=float32)\n",
      "Tensor(\"var_features/FCN_block_4/Conv1/conv1d/Squeeze:0\", shape=(?, ?, 8), dtype=float32)\n",
      "\n",
      "Tensor(\"var_features/FCN_block_5/Conv0/conv1d/Squeeze:0\", shape=(?, ?, 8), dtype=float32)\n",
      "Tensor(\"var_features/FCN_block_5/Conv1/conv1d/Squeeze:0\", shape=(?, ?, 8), dtype=float32)\n",
      "\n",
      "Variable sized windowing -- number of windows: 5\n",
      "  Dimensions: [batch_size, num_windows, window_size, num_features]\n",
      "Tensor(\"fix_len/sample_division/Reshape:0\", shape=(?, 5, ?, 8), dtype=float32)\n",
      "Local reduce:\n",
      "Tensor(\"fix_len/Mean:0\", shape=(?, 5, 8), dtype=float32)\n",
      "\n",
      "FC--fc\n",
      "Tensor(\"classifier/logits_batchnorm/BatchNorm/cond/Merge:0\", shape=(?, 4), dtype=float32)\n",
      "Tensor(\"classifier/predictions:0\", shape=(?, 4), dtype=float32)\n"
     ]
    }
   ],
   "source": [
    "EPOCHS = 1000\n",
    "BATCH_SIZE = 8\n",
    "TRAIN_STEPS = (EPOCHS * 8525) // BATCH_SIZE\n",
    "\n",
    "# proto_path = argv[-1]\n",
    "proto_path = 'proto/smallkernel_less_features.json'\n",
    "proto_name = os.path.splitext(proto_path)[0]\n",
    "proto_name = os.path.basename(proto_name)\n",
    "\n",
    "tf.reset_default_graph()\n",
    "network_params = json.load(open(proto_path))\n",
    "bsize = tf.placeholder_with_default(BATCH_SIZE, [], 'batch_size')\n",
    "input_op, seq_len, label_op = data.ops.get_batch_producer(\n",
    "    './data/TFRecords/aug_train.TFRecord', bsize)\n",
    "\n",
    "# for debug!!!\n",
    "summary_ops.add_label_hist(label_op)\n",
    "logits = get_model_logits(seq_len, input_op, **network_params)\n",
    "\n",
    "t_ops = train_ops.get_trainer(label_op, logits)\n",
    "step, train, loss, conf, acc, lrate = t_ops\n",
    "\n",
    "tf.summary.histogram('sample_diversity', label_op)\n",
    "s_op = summary_ops.get_all_summaries(*t_ops)"
   ]
  },
  {
   "cell_type": "code",
   "execution_count": 3,
   "metadata": {},
   "outputs": [
    {
     "data": {
      "text/plain": [
       "[<tf.Variable 'averages/evaluation/accuracy_eval/accuracy/ema:0' shape=() dtype=float32_ref>,\n",
       " <tf.Variable 'averages/evaluation/total_loss/ema:0' shape=() dtype=float32_ref>,\n",
       " <tf.Variable 'averages/evaluation/l2_loss_all/ema:0' shape=() dtype=float32_ref>,\n",
       " <tf.Variable 'averages/evaluation/train_loss/ema:0' shape=() dtype=float32_ref>]"
      ]
     },
     "execution_count": 3,
     "metadata": {},
     "output_type": "execute_result"
    }
   ],
   "source": [
    "tf.get_collection('moving_average_stat')\n",
    "tf.cast()\n"
   ]
  },
  {
   "cell_type": "code",
   "execution_count": null,
   "metadata": {
    "collapsed": true
   },
   "outputs": [],
   "source": [
    "tf.train.ExponentialMovingAverage\n",
    "tf.train.exponential_decay"
   ]
  },
  {
   "cell_type": "markdown",
   "metadata": {},
   "source": [
    "# Supervised training"
   ]
  },
  {
   "cell_type": "code",
   "execution_count": 7,
   "metadata": {},
   "outputs": [
    {
     "data": {
      "text/plain": [
       "'update_ops'"
      ]
     },
     "execution_count": 7,
     "metadata": {},
     "output_type": "execute_result"
    }
   ],
   "source": [
    "tf.GraphKeys.UPDATE_OPS"
   ]
  },
  {
   "cell_type": "code",
   "execution_count": null,
   "metadata": {
    "collapsed": true
   },
   "outputs": [],
   "source": [
    "tf.contrib.opt.LazyAdamOptimizer.apply_gradients"
   ]
  },
  {
   "cell_type": "code",
   "execution_count": 64,
   "metadata": {},
   "outputs": [
    {
     "data": {
      "text/plain": [
       "<tf.Tensor 'learning_rate_1:0' shape=() dtype=string>"
      ]
     },
     "execution_count": 64,
     "metadata": {},
     "output_type": "execute_result"
    }
   ],
   "source": [
    "graph = tf.get_default_graph()\n",
    "graph.get_tensor_by_name('learning_rate_1:0')"
   ]
  },
  {
   "cell_type": "markdown",
   "metadata": {},
   "source": [
    "# Misc"
   ]
  },
  {
   "cell_type": "code",
   "execution_count": 28,
   "metadata": {},
   "outputs": [
    {
     "data": {
      "text/plain": [
       "[<tf.Variable 'classifier/logits/weights:0' shape=(5, 4) dtype=float32_ref>,\n",
       " <tf.Variable 'classifier/logits/biases:0' shape=(4,) dtype=float32_ref>]"
      ]
     },
     "execution_count": 28,
     "metadata": {},
     "output_type": "execute_result"
    }
   ],
   "source": [
    "tf.trainable_variables()"
   ]
  },
  {
   "cell_type": "raw",
   "metadata": {},
   "source": [
    "#%%timeit\n",
    "feed = {\n",
    "    input_op: np.random.randn(128, 2048),\n",
    "    label_op: np.ones(128)*2\n",
    "    }\n",
    "with tf.Session() as sess:\n",
    "    tf.global_variables_initializer().run()\n",
    "    res = logits.eval(feed)"
   ]
  },
  {
   "cell_type": "raw",
   "metadata": {},
   "source": [
    "%%timeit\n",
    "feed = {\n",
    "    'is_training:0':True,\n",
    "    input_op: np.random.randn(2048, 128),\n",
    "    label_op: np.random.randint(0, 3, [2048])\n",
    "    }\n",
    "with tf.Session() as sess:\n",
    "    tf.global_variables_initializer().run()\n",
    "    loss.eval(feed)"
   ]
  },
  {
   "cell_type": "code",
   "execution_count": 27,
   "metadata": {},
   "outputs": [
    {
     "data": {
      "text/plain": [
       "{'beta1_power': <tf.Variable 'beta1_power:0' shape=() dtype=float32_ref>,\n",
       " 'beta2_power': <tf.Variable 'beta2_power:0' shape=() dtype=float32_ref>,\n",
       " 'classifier/logits/biases/loss_avg': <tf.Variable 'classifier/logits/biases:0' shape=(4,) dtype=float32_ref>,\n",
       " 'classifier/logits/biases/variable_avg': <tf.Variable 'classifier/logits/biases/variable_avg:0' shape=(4,) dtype=float32_ref>,\n",
       " 'classifier/logits/weights/Adam': <tf.Variable 'classifier/logits/weights/Adam:0' shape=(5, 4) dtype=float32_ref>,\n",
       " 'classifier/logits/weights/Adam_1': <tf.Variable 'classifier/logits/weights/Adam_1:0' shape=(5, 4) dtype=float32_ref>,\n",
       " 'classifier/logits/weights/loss_avg': <tf.Variable 'classifier/logits/weights:0' shape=(5, 4) dtype=float32_ref>,\n",
       " 'classifier/logits/weights/variable_avg': <tf.Variable 'classifier/logits/weights/variable_avg:0' shape=(5, 4) dtype=float32_ref>,\n",
       " 'global_step': <tf.Variable 'global_step:0' shape=() dtype=int32_ref>,\n",
       " 'loss_aux/classifier/logits/l2_loss/loss_avg': <tf.Variable 'loss_aux/classifier/logits/l2_loss/loss_avg:0' shape=() dtype=float32_ref>,\n",
       " 'loss_aux/l2_loss_all/loss_avg': <tf.Variable 'loss_aux/l2_loss_all/loss_avg:0' shape=() dtype=float32_ref>,\n",
       " 'loss_aux/train_loss/loss_avg': <tf.Variable 'loss_aux/train_loss/loss_avg:0' shape=() dtype=float32_ref>}"
      ]
     },
     "execution_count": 27,
     "metadata": {},
     "output_type": "execute_result"
    }
   ],
   "source": [
    "avg2"
   ]
  },
  {
   "cell_type": "code",
   "execution_count": 26,
   "metadata": {},
   "outputs": [
    {
     "data": {
      "text/plain": [
       "{'beta1_power': <tf.Variable 'beta1_power:0' shape=() dtype=float32_ref>,\n",
       " 'beta2_power': <tf.Variable 'beta2_power:0' shape=() dtype=float32_ref>,\n",
       " 'classifier/logits/biases/variable_avg': <tf.Variable 'classifier/logits/biases:0' shape=(4,) dtype=float32_ref>,\n",
       " 'classifier/logits/weights/Adam': <tf.Variable 'classifier/logits/weights/Adam:0' shape=(5, 4) dtype=float32_ref>,\n",
       " 'classifier/logits/weights/Adam_1': <tf.Variable 'classifier/logits/weights/Adam_1:0' shape=(5, 4) dtype=float32_ref>,\n",
       " 'classifier/logits/weights/variable_avg': <tf.Variable 'classifier/logits/weights:0' shape=(5, 4) dtype=float32_ref>,\n",
       " 'global_step': <tf.Variable 'global_step:0' shape=() dtype=int32_ref>,\n",
       " 'loss_aux/classifier/logits/l2_loss/loss_avg': <tf.Variable 'loss_aux/classifier/logits/l2_loss/loss_avg:0' shape=() dtype=float32_ref>,\n",
       " 'loss_aux/l2_loss_all/loss_avg': <tf.Variable 'loss_aux/l2_loss_all/loss_avg:0' shape=() dtype=float32_ref>,\n",
       " 'loss_aux/train_loss/loss_avg': <tf.Variable 'loss_aux/train_loss/loss_avg:0' shape=() dtype=float32_ref>}"
      ]
     },
     "execution_count": 26,
     "metadata": {},
     "output_type": "execute_result"
    }
   ],
   "source": [
    "avg1"
   ]
  },
  {
   "cell_type": "code",
   "execution_count": 25,
   "metadata": {},
   "outputs": [
    {
     "data": {
      "text/plain": [
       "(<tf.Variable 'classifier/logits/biases:0' shape=(4,) dtype=float32_ref>,\n",
       " <tf.Variable 'classifier/logits/biases/variable_avg:0' shape=(4,) dtype=float32_ref>)"
      ]
     },
     "execution_count": 25,
     "metadata": {},
     "output_type": "execute_result"
    }
   ],
   "source": [
    "avg1['classifier/logits/biases/variable_avg'], avg2['classifier/logits/biases/variable_avg']"
   ]
  },
  {
   "cell_type": "code",
   "execution_count": 23,
   "metadata": {},
   "outputs": [
    {
     "data": {
      "text/plain": [
       "{('classifier/logits/biases/variable_avg',\n",
       "  <tf.Variable 'classifier/logits/biases:0' shape=(4,) dtype=float32_ref>),\n",
       " ('classifier/logits/weights/variable_avg',\n",
       "  <tf.Variable 'classifier/logits/weights:0' shape=(5, 4) dtype=float32_ref>)}"
      ]
     },
     "execution_count": 23,
     "metadata": {},
     "output_type": "execute_result"
    }
   ],
   "source": [
    "set(avg1.items()).difference(set(avg2.items()))\n"
   ]
  },
  {
   "cell_type": "code",
   "execution_count": 9,
   "metadata": {},
   "outputs": [
    {
     "data": {
      "text/plain": [
       "{'beta1_power': <tf.Variable 'beta1_power:0' shape=() dtype=float32_ref>,\n",
       " 'beta2_power': <tf.Variable 'beta2_power:0' shape=() dtype=float32_ref>,\n",
       " 'classifier/logits/biases/loss_avg': <tf.Variable 'classifier/logits/biases:0' shape=(4,) dtype=float32_ref>,\n",
       " 'classifier/logits/biases/variable_avg': <tf.Variable 'classifier/logits/biases/variable_avg:0' shape=(4,) dtype=float32_ref>,\n",
       " 'classifier/logits/weights/Adam': <tf.Variable 'classifier/logits/weights/Adam:0' shape=(5, 4) dtype=float32_ref>,\n",
       " 'classifier/logits/weights/Adam_1': <tf.Variable 'classifier/logits/weights/Adam_1:0' shape=(5, 4) dtype=float32_ref>,\n",
       " 'classifier/logits/weights/loss_avg': <tf.Variable 'classifier/logits/weights:0' shape=(5, 4) dtype=float32_ref>,\n",
       " 'classifier/logits/weights/variable_avg': <tf.Variable 'classifier/logits/weights/variable_avg:0' shape=(5, 4) dtype=float32_ref>,\n",
       " 'global_step': <tf.Variable 'global_step:0' shape=() dtype=int32_ref>,\n",
       " 'loss_aux/classifier/logits/l2_loss/loss_avg': <tf.Variable 'loss_aux/classifier/logits/l2_loss/loss_avg:0' shape=() dtype=float32_ref>,\n",
       " 'loss_aux/l2_loss_all/loss_avg': <tf.Variable 'loss_aux/l2_loss_all/loss_avg:0' shape=() dtype=float32_ref>,\n",
       " 'loss_aux/train_loss/loss_avg': <tf.Variable 'loss_aux/train_loss/loss_avg:0' shape=() dtype=float32_ref>}"
      ]
     },
     "execution_count": 9,
     "metadata": {},
     "output_type": "execute_result"
    }
   ],
   "source": [
    "#tf.train.ExponentialMovingAverage.apply\n",
    "tf.moving_average_variables()\n"
   ]
  },
  {
   "cell_type": "code",
   "execution_count": 4,
   "metadata": {
    "collapsed": true
   },
   "outputs": [],
   "source": [
    "_1 = summary_ops.get_general_summaries(loss, acc, lrate, conf)\n",
    "_2 = summary_ops.get_variables_histogram(loss)\n",
    "_3 = summary_ops.get_label_hist(label_op)\n"
   ]
  },
  {
   "cell_type": "markdown",
   "metadata": {},
   "source": [
    "# Using tf.Supervisor"
   ]
  },
  {
   "cell_type": "code",
   "execution_count": null,
   "metadata": {
    "collapsed": true
   },
   "outputs": [],
   "source": [
    "sv = tf.train.Supervisor()"
   ]
  },
  {
   "cell_type": "markdown",
   "metadata": {},
   "source": [
    "# Miscallenous"
   ]
  },
  {
   "cell_type": "code",
   "execution_count": null,
   "metadata": {
    "collapsed": true
   },
   "outputs": [],
   "source": [
    "graph = tf.get_default_graph()\n",
    "res_out = graph.get_tensor_by_name('CNN_block_1/Conv3/Conv_dim8_ker16_pool1/Relu:0')"
   ]
  },
  {
   "cell_type": "code",
   "execution_count": null,
   "metadata": {
    "collapsed": true
   },
   "outputs": [],
   "source": [
    "#sns.heatmap(res[1])\n",
    "with tf.Session() as sess:\n",
    "    tf.global_variables_initializer().run()\n",
    "    res = sess.run(res_out, {input_op:np.random.randn(1000, 100)})\n",
    "#df = pd.DataFrame(res, columns=['Normal', 'Fibrill', 'Other', 'Noise'])\n",
    "#df.plot.kde()\n",
    "plt.plot(res.squeeze()[..., 0])"
   ]
  },
  {
   "cell_type": "code",
   "execution_count": 19,
   "metadata": {},
   "outputs": [
    {
     "data": {
      "text/plain": [
       "(1000, 33, 1, 8)"
      ]
     },
     "execution_count": 19,
     "metadata": {},
     "output_type": "execute_result"
    }
   ],
   "source": [
    "res.shape"
   ]
  },
  {
   "cell_type": "code",
   "execution_count": 16,
   "metadata": {},
   "outputs": [
    {
     "data": {
      "text/plain": [
       "<matplotlib.axes._subplots.AxesSubplot at 0x7f4c798157b8>"
      ]
     },
     "execution_count": 16,
     "metadata": {},
     "output_type": "execute_result"
    },
    {
     "data": {
      "image/png": "[encoded data removed]",
      "text/plain": [
       "<matplotlib.figure.Figure at 0x7f4c476eab38>"
      ]
     },
     "metadata": {},
     "output_type": "display_data"
    }
   ],
   "source": [
    "with tf.Session() as sess:\n",
    "    tf.global_variables_initializer().run()\n",
    "    #res = sess.run(res_out, {input_op:np.random.randn(1000, 100)})\n",
    "df = pd.DataFrame(res[1], columns=['Normal', 'Fibrill', 'Other', 'Noise'])\n",
    "df.plot.kde()"
   ]
  },
  {
   "cell_type": "code",
   "execution_count": 8,
   "metadata": {
    "collapsed": true
   },
   "outputs": [],
   "source": [
    "x = tf.placeholder(1, [None, None, 1, None])\n",
    "def divide_x(x, N):\n",
    "    with tf.name_scope('sample_division'):\n",
    "        x_shape = tf.shape(x)\n",
    "        batch_size, seq_len = x_shape[0], x_shape[1]\n",
    "        # Make sure sequence can be divided to equal parts\n",
    "        padding = [[0,0],[0, N-seq_len%N],[0,0], [0,0]]\n",
    "        x_pad = tf.pad(x, padding, 'SYMMETRIC')\n",
    "        \n",
    "        # Don't pad if not necessary, i.e. seq_len%N == 0\n",
    "        x = tf.cond(tf.equal(seq_len%N, 0), lambda: x, lambda: x_pad)\n",
    "        seq_len = tf.shape(x)[1]\n",
    "        div_x = tf.reshape(x, [batch_size, N, seq_len//N, x_shape[-1]])\n",
    "        return div_x\n",
    "\n",
    "div_x = divide_x(x, 10)"
   ]
  },
  {
   "cell_type": "code",
   "execution_count": 9,
   "metadata": {},
   "outputs": [
    {
     "data": {
      "text/plain": [
       "1"
      ]
     },
     "execution_count": 9,
     "metadata": {},
     "output_type": "execute_result"
    }
   ],
   "source": [
    "dim = x.shape[2]\n",
    "dim.value"
   ]
  },
  {
   "cell_type": "code",
   "execution_count": 10,
   "metadata": {
    "collapsed": true
   },
   "outputs": [],
   "source": [
    "with tf.Session() as sess:\n",
    "    res = div_x.eval({x:np.arange(1000*91).reshape(1000, 91, 1, 1)})"
   ]
  },
  {
   "cell_type": "code",
   "execution_count": 11,
   "metadata": {},
   "outputs": [
    {
     "data": {
      "text/plain": [
       "(1000, 10, 10, 1)"
      ]
     },
     "execution_count": 11,
     "metadata": {},
     "output_type": "execute_result"
    }
   ],
   "source": [
    "#res[0, -1, :, 0]\n",
    "res.shape"
   ]
  },
  {
   "cell_type": "code",
   "execution_count": 12,
   "metadata": {},
   "outputs": [
    {
     "data": {
      "text/plain": [
       "[<matplotlib.lines.Line2D at 0x7f4c79862b38>,\n",
       " <matplotlib.lines.Line2D at 0x7f4c79862e10>,\n",
       " <matplotlib.lines.Line2D at 0x7f4c79866080>,\n",
       " <matplotlib.lines.Line2D at 0x7f4c798662b0>,\n",
       " <matplotlib.lines.Line2D at 0x7f4c798664e0>,\n",
       " <matplotlib.lines.Line2D at 0x7f4c79866710>,\n",
       " <matplotlib.lines.Line2D at 0x7f4c79866940>,\n",
       " <matplotlib.lines.Line2D at 0x7f4c79866b70>,\n",
       " <matplotlib.lines.Line2D at 0x7f4c79866da0>,\n",
       " <matplotlib.lines.Line2D at 0x7f4c79866fd0>]"
      ]
     },
     "execution_count": 12,
     "metadata": {},
     "output_type": "execute_result"
    },
    {
     "data": {
      "image/png": "[encoded data removed]",
      "text/plain": [
       "<matplotlib.figure.Figure at 0x7f4c7995fcf8>"
      ]
     },
     "metadata": {},
     "output_type": "display_data"
    }
   ],
   "source": [
    "plt.plot(res[-5].squeeze().T)"
   ]
  },
  {
   "cell_type": "code",
   "execution_count": null,
   "metadata": {
    "collapsed": true
   },
   "outputs": [],
   "source": []
  }
 ],
 "metadata": {
  "kernelspec": {
   "display_name": "Python 3",
   "language": "python",
   "name": "python3"
  },
  "language_info": {
   "codemirror_mode": {
    "name": "ipython",
    "version": 3
   },
   "file_extension": ".py",
   "mimetype": "text/x-python",
   "name": "python",
   "nbconvert_exporter": "python",
   "pygments_lexer": "ipython3",
   "version": "3.5.3"
  }
 },
 "nbformat": 4,
 "nbformat_minor": 2
}
