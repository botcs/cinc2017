{
 "cells": [
  {
   "cell_type": "code",
   "execution_count": 1,
   "metadata": {
    "collapsed": false,
    "deletable": true,
    "editable": true
   },
   "outputs": [
    {
     "name": "stdout",
     "output_type": "stream",
     "text": [
      "Reading files: 08527   \n",
      "Reading successful!\n"
     ]
    }
   ],
   "source": [
    "import tensorflow as tf\n",
    "import numpy\n",
    "import data\n",
    "import model\n",
    "\n",
    "learning_rate = .001\n",
    "grad_clip = 5.\n",
    "batch_size = 64"
   ]
  },
  {
   "cell_type": "code",
   "execution_count": 2,
   "metadata": {
    "collapsed": false,
    "deletable": true,
    "editable": true
   },
   "outputs": [],
   "source": [
    "tf.reset_default_graph()\n",
    "c = model.classifier(\n",
    "    rnn_sizes=[128, 128, 128], \n",
    "    fc_sizes=[64, 32, 16],\n",
    "    time_steps=1200,\n",
    "    batch_size=batch_size)\n",
    "feeder = data.batch_pool(batch_size)\n",
    "batch = next(feeder)"
   ]
  },
  {
   "cell_type": "markdown",
   "metadata": {
    "deletable": true,
    "editable": true
   },
   "source": [
    "# Loss, accuracy and optimizer"
   ]
  },
  {
   "cell_type": "code",
   "execution_count": 3,
   "metadata": {
    "collapsed": false,
    "deletable": true,
    "editable": true
   },
   "outputs": [],
   "source": [
    "'''\n",
    "    Name scope is good for graph definition for debugging in TensorBoard\n",
    "'''\n",
    "labels = tf.placeholder(tf.int64, [c.batch_size], 'labels')\n",
    "global_step = tf.Variable(initial_value=0, trainable=False, name='global_step')\n",
    "\n",
    "with tf.name_scope('cross_entropy'):\n",
    "    loss = tf.nn.sparse_softmax_cross_entropy_with_logits(labels=labels, logits=c.logits)\n",
    "    with tf.name_scope('total'):\n",
    "        loss = tf.reduce_mean(loss)\n",
    "with tf.name_scope('accuracy'):\n",
    "    with tf.name_scope('correct_prediction'):\n",
    "        correct_prediction = tf.equal(tf.argmax(c.preds, 1), labels)\n",
    "    with tf.name_scope('acc'):\n",
    "        accuracy = tf.reduce_mean(tf.cast(correct_prediction, tf.float32))\n",
    "    \n",
    "with tf.name_scope('train'):\n",
    "    optimizer = tf.train.AdamOptimizer(learning_rate=learning_rate)\n",
    "    gvs = optimizer.compute_gradients(loss)\n",
    "    with tf.name_scope('gradient_clipping'):\n",
    "        capped_gvs = [(tf.clip_by_value(grad, -grad_clip, grad_clip), var) \n",
    "                      for grad, var in gvs]\n",
    "        \n",
    "    opt = optimizer.apply_gradients(capped_gvs, global_step)"
   ]
  },
  {
   "cell_type": "markdown",
   "metadata": {
    "deletable": true,
    "editable": true
   },
   "source": [
    "# Summaries"
   ]
  },
  {
   "cell_type": "code",
   "execution_count": 4,
   "metadata": {
    "collapsed": false,
    "deletable": true,
    "editable": true
   },
   "outputs": [],
   "source": [
    "summaries = tf.summary.merge([\n",
    "    [(tf.summary.histogram('gradient', grad), \n",
    "      tf.summary.histogram('variable', var)) for grad, var in gvs],\n",
    "    tf.summary.scalar('loss', loss),\n",
    "    tf.summary.scalar('accuracy', accuracy)\n",
    "])"
   ]
  },
  {
   "cell_type": "markdown",
   "metadata": {
    "deletable": true,
    "editable": true
   },
   "source": [
    "# Train test"
   ]
  },
  {
   "cell_type": "code",
   "execution_count": 5,
   "metadata": {
    "collapsed": false,
    "deletable": true,
    "editable": true
   },
   "outputs": [],
   "source": [
    "sess = tf.InteractiveSession()\n",
    "writer = tf.summary.FileWriter('/tmp/tensorflow_logdir/', graph=sess.graph)\n",
    "saver = tf.train.Saver(keep_checkpoint_every_n_hours=1)\n",
    "tf.global_variables_initializer().run()"
   ]
  },
  {
   "cell_type": "code",
   "execution_count": 6,
   "metadata": {
    "collapsed": false,
    "deletable": true,
    "editable": true
   },
   "outputs": [
    {
     "name": "stdout",
     "output_type": "stream",
     "text": [
      "16800\t 0 0.896767 0.625\n",
      "16800\t 1 0.708403 0.703125\n",
      "16800\t 2 0.839523 0.65625\n",
      "16800\t 3 0.932737 0.578125\n",
      "16800\t 4 1.04351 0.546875\n",
      "16800\t 5 0.885754 0.59375\n",
      "16800\t 6 0.925986 0.625\n",
      "16800\t 7 0.817321 0.625\n",
      "16800\t 8 0.990868 0.625\n",
      "16800\t 9 0.911252 0.5625\n",
      "16800\t 10 0.919819 0.5625\n",
      "16800\t 11 0.806155 0.703125\n",
      "16800\t 12 0.919337 0.59375\n",
      "16800\t 13 1.12182 0.421875\n",
      "16800\t 14 0.959142 0.546875\n",
      "16800\t 15 1.01605 0.5625\n",
      "16800\t 16 0.907044 0.5625\n",
      "16800\t 17 0.866555 0.625\n",
      "16800\t 18 1.02129 0.484375\n",
      "16800\t 19 1.00296 0.578125\n",
      "16800\t 20 0.982482 0.546875\n",
      "16800\t 21 1.01608 0.46875\n",
      "16800\t 22 0.875286 0.640625\n",
      "16800\t 23 0.94555 0.5\n",
      "16800\t 24 0.923029 0.625\n",
      "16800\t 25 0.914011 0.59375\n",
      "16800\t 26 0.831556 0.5\n",
      "16800\t 27 0.900615 0.640625\n",
      "16800\t 28 0.935535 0.53125\n",
      "16800\t 29 0.834163 0.6875\n",
      "16800\t 30 0.769934 0.75\n",
      "16800\t 31 0.915303 0.609375\n",
      "16800\t 32 0.852863 0.640625\n",
      "16800\t 33 0.854967 0.671875\n",
      "16800\t 34 0.824289 0.640625\n",
      "16800\t 35 0.932153 0.609375\n",
      "16800\t 36 0.907618 0.609375\n",
      "16800\t 37 0.959064 0.53125\n",
      "16800\t 38 0.963659 0.578125\n",
      "16800\t 39 0.86786 0.609375\n",
      "16800\t 40 0.791309 0.59375\n",
      "16800\t 41 0.956685 0.5625\n",
      "16800\t 42 0.821921 0.671875\n",
      "16800\t 43 0.933673 0.625\n",
      "16800\t 44 0.970853 0.578125\n",
      "16800\t 45 0.93907 0.53125\n",
      "16800\t 46 0.903106 0.609375\n",
      "16800\t 47 0.839542 0.609375\n",
      "16800\t 48 0.675264 0.703125\n",
      "16800\t 49 0.922914 0.53125\n",
      "16800\t 50 0.960285 0.546875\n",
      "16800\t 51 1.00981 0.5625\n",
      "16800\t 52 0.861329 0.625\n",
      "16800\t 53 0.978317 0.578125\n",
      "16800\t 54 0.849083 0.65625\n",
      "16800\t 55 0.92432 0.609375\n",
      "16800\t 56 0.74013 0.75\n",
      "16800\t 57 0.925846 0.640625\n",
      "16800\t 58 0.932871 0.625\n",
      "16800\t 59 0.982567 0.515625\n",
      "16800\t 60 0.91878 0.59375\n",
      "16800\t 61 0.842369 0.640625\n",
      "16800\t 62 0.821043 0.640625\n",
      "16800\t 63 0.93199 0.578125\n",
      "16800\t 64 0.885949 0.484375\n",
      "16800\t 65 0.897688 0.6875\n",
      "16800\t 66 0.898531 0.5625\n",
      "16800\t 67 0.887349 0.6875\n",
      "16800\t 68 0.734423 0.734375\n",
      "16800\t 69 0.928738 0.5625\n",
      "16800\t 70 0.843457 0.640625\n",
      "16800\t 71 0.942761 0.609375\n",
      "16800\t 72 0.840756 0.625\n",
      "16800\t 73 0.681483 0.703125\n",
      "16800\t 74 0.799921 0.625\n",
      "16800\t 75 0.86602 0.625\n",
      "16800\t 76 1.02086 0.484375\n",
      "16800\t 77 0.846971 0.71875\n",
      "16800\t 78 0.918642 0.546875\n",
      "16800\t 79 0.808948 0.703125\n",
      "16800\t 80 0.807153 0.703125\n",
      "16800\t 81 0.790609 0.625\n",
      "16800\t 82 0.67023 0.796875\n",
      "16800\t 83 0.914227 0.625\n",
      "16800\t 84 0.74967 0.6875\n",
      "16800\t 85 0.989552 0.53125\n",
      "16800\t 86 0.820205 0.65625\n",
      "16800\t 87 0.913262 0.578125\n",
      "16800\t 88 0.890916 0.671875\n",
      "16800\t 89 0.837458 0.625\n",
      "16800\t 90 0.885526 0.59375\n",
      "16800\t 91 0.910247 0.625\n",
      "16800\t 92 1.00984 0.515625\n",
      "16800\t 93 0.894898 0.59375\n",
      "16800\t 94 0.88175 0.59375\n",
      "16800\t 95 0.76452 0.703125\n",
      "16800\t 96 0.906276 0.625\n",
      "16800\t 97 1.04099 0.546875\n",
      "16800\t 98 0.769381 0.6875\n",
      "16800\t 99 0.959145 0.546875\n",
      "16800\t 100 0.986908 0.625\n",
      "16800\t 101 0.960191 0.5625\n",
      "16800\t 102 0.905964 0.578125\n",
      "16800\t 103 0.963917 0.625\n",
      "16800\t 104 0.910064 0.609375\n",
      "16800\t 105 0.898544 0.546875\n",
      "16800\t 106 0.821919 0.671875\n",
      "16800\t 107 1.03928 0.484375\n",
      "16800\t 108 0.952519 0.546875\n",
      "16800\t 109 1.00286 0.53125\n",
      "16800\t 110 0.775467 0.734375\n",
      "16800\t 111 0.912304 0.609375\n",
      "16800\t 112 1.06582 0.515625\n",
      "16800\t 113 1.00213 0.46875\n",
      "16800\t 114 0.807954 0.6875\n",
      "16800\t 115 1.07109 0.46875\n",
      "16800\t 116 0.974338 0.625\n",
      "16800\t 117 0.856462 0.609375\n",
      "16800\t 118 0.898302 0.59375\n",
      "16800\t 119 1.03937 0.609375\n",
      "16800\t 120 1.01202 0.578125\n",
      "16800\t 121 0.915123 0.625\n",
      "16800\t 122 0.896924 0.625\n",
      "16800\t 123 1.01082 0.546875\n",
      "16800\t 124 0.99553 0.5625\n",
      "16800\t 125 0.839577 0.671875\n",
      "16800\t 126 0.914944 0.609375\n",
      "16800\t 127 0.980299 0.5\n",
      "16800\t 128 0.900022 0.65625\n",
      "16800\t 129 0.910578 0.640625\n",
      "16800\t 130 0.962845 0.5\n",
      "16800\t 131 0.849023 0.609375\n"
     ]
    },
    {
     "ename": "ValueError",
     "evalue": "Cannot feed value of shape (16, 1200, 1) for Tensor 'input/X:0', which has shape '(64, ?, 1)'",
     "output_type": "error",
     "traceback": [
      "\u001b[0;31m---------------------------------------------------------------------------\u001b[0m",
      "\u001b[0;31mValueError\u001b[0m                                Traceback (most recent call last)",
      "\u001b[0;32m<ipython-input-6-dadc845966a1>\u001b[0m in \u001b[0;36m<module>\u001b[0;34m()\u001b[0m\n\u001b[1;32m     23\u001b[0m         }\n\u001b[1;32m     24\u001b[0m \u001b[0;34m\u001b[0m\u001b[0m\n\u001b[0;32m---> 25\u001b[0;31m         \u001b[0mfetched\u001b[0m \u001b[0;34m=\u001b[0m \u001b[0msess\u001b[0m\u001b[0;34m.\u001b[0m\u001b[0mrun\u001b[0m\u001b[0;34m(\u001b[0m\u001b[0mfetch_dict\u001b[0m\u001b[0;34m,\u001b[0m \u001b[0mfeed_dict\u001b[0m\u001b[0;34m)\u001b[0m\u001b[0;34m\u001b[0m\u001b[0m\n\u001b[0m\u001b[1;32m     26\u001b[0m         \u001b[0mstate\u001b[0m \u001b[0;34m=\u001b[0m \u001b[0mfetched\u001b[0m\u001b[0;34m[\u001b[0m\u001b[0;34m'state'\u001b[0m\u001b[0;34m]\u001b[0m\u001b[0;34m\u001b[0m\u001b[0m\n\u001b[1;32m     27\u001b[0m         \u001b[0;32mif\u001b[0m \u001b[0midx\u001b[0m\u001b[0;34m%\u001b[0m\u001b[0;34m(\u001b[0m\u001b[0;36m2\u001b[0m \u001b[0;34m*\u001b[0m \u001b[0mc\u001b[0m\u001b[0;34m.\u001b[0m\u001b[0mtime_steps\u001b[0m\u001b[0;34m)\u001b[0m \u001b[0;34m==\u001b[0m \u001b[0;36m0\u001b[0m\u001b[0;34m:\u001b[0m\u001b[0;34m\u001b[0m\u001b[0m\n",
      "\u001b[0;32m/usr/lib/python3.5/site-packages/tensorflow/python/client/session.py\u001b[0m in \u001b[0;36mrun\u001b[0;34m(self, fetches, feed_dict, options, run_metadata)\u001b[0m\n\u001b[1;32m    765\u001b[0m     \u001b[0;32mtry\u001b[0m\u001b[0;34m:\u001b[0m\u001b[0;34m\u001b[0m\u001b[0m\n\u001b[1;32m    766\u001b[0m       result = self._run(None, fetches, feed_dict, options_ptr,\n\u001b[0;32m--> 767\u001b[0;31m                          run_metadata_ptr)\n\u001b[0m\u001b[1;32m    768\u001b[0m       \u001b[0;32mif\u001b[0m \u001b[0mrun_metadata\u001b[0m\u001b[0;34m:\u001b[0m\u001b[0;34m\u001b[0m\u001b[0m\n\u001b[1;32m    769\u001b[0m         \u001b[0mproto_data\u001b[0m \u001b[0;34m=\u001b[0m \u001b[0mtf_session\u001b[0m\u001b[0;34m.\u001b[0m\u001b[0mTF_GetBuffer\u001b[0m\u001b[0;34m(\u001b[0m\u001b[0mrun_metadata_ptr\u001b[0m\u001b[0;34m)\u001b[0m\u001b[0;34m\u001b[0m\u001b[0m\n",
      "\u001b[0;32m/usr/lib/python3.5/site-packages/tensorflow/python/client/session.py\u001b[0m in \u001b[0;36m_run\u001b[0;34m(self, handle, fetches, feed_dict, options, run_metadata)\u001b[0m\n\u001b[1;32m    942\u001b[0m                 \u001b[0;34m'Cannot feed value of shape %r for Tensor %r, '\u001b[0m\u001b[0;34m\u001b[0m\u001b[0m\n\u001b[1;32m    943\u001b[0m                 \u001b[0;34m'which has shape %r'\u001b[0m\u001b[0;34m\u001b[0m\u001b[0m\n\u001b[0;32m--> 944\u001b[0;31m                 % (np_val.shape, subfeed_t.name, str(subfeed_t.get_shape())))\n\u001b[0m\u001b[1;32m    945\u001b[0m           \u001b[0;32mif\u001b[0m \u001b[0;32mnot\u001b[0m \u001b[0mself\u001b[0m\u001b[0;34m.\u001b[0m\u001b[0mgraph\u001b[0m\u001b[0;34m.\u001b[0m\u001b[0mis_feedable\u001b[0m\u001b[0;34m(\u001b[0m\u001b[0msubfeed_t\u001b[0m\u001b[0;34m)\u001b[0m\u001b[0;34m:\u001b[0m\u001b[0;34m\u001b[0m\u001b[0m\n\u001b[1;32m    946\u001b[0m             \u001b[0;32mraise\u001b[0m \u001b[0mValueError\u001b[0m\u001b[0;34m(\u001b[0m\u001b[0;34m'Tensor %s may not be fed.'\u001b[0m \u001b[0;34m%\u001b[0m \u001b[0msubfeed_t\u001b[0m\u001b[0;34m)\u001b[0m\u001b[0;34m\u001b[0m\u001b[0m\n",
      "\u001b[0;31mValueError\u001b[0m: Cannot feed value of shape (16, 1200, 1) for Tensor 'input/X:0', which has shape '(64, ?, 1)'"
     ]
    }
   ],
   "source": [
    "for i, batch in enumerate(feeder):\n",
    "    state = sess.run(c.zero_state)\n",
    "    x_feed, label_feed, lens_feed = batch\n",
    "    \n",
    "    for idx in range(0, lens_feed.max(), c.time_steps):\n",
    "        data_window = x_feed[:, idx:idx+c.time_steps]\n",
    "        lens_window = lens_feed-idx\n",
    "        \n",
    "        feed_dict = {\n",
    "            c.x:data_window,\n",
    "            c.init_state:state,\n",
    "            c.seq_len:lens_window,\n",
    "            labels:label_feed\n",
    "        }\n",
    "        \n",
    "        fetch_dict = {\n",
    "            'opt' : opt,\n",
    "            'state' : c.rnn_last_states,\n",
    "            'step' : global_step,\n",
    "            'loss' : loss,\n",
    "            'acc' : accuracy,\n",
    "            'sum' : summaries\n",
    "        }\n",
    "        \n",
    "        fetched = sess.run(fetch_dict, feed_dict)\n",
    "        state = fetched['state']\n",
    "        if idx%(2 * c.time_steps) == 0:\n",
    "            print('\\r%d'%idx, end='', flush=True)\n",
    "            writer.add_summary(summary=fetched['sum'], global_step=fetched['step'])\n",
    "            \n",
    "    if i%100 == 0: \n",
    "        saver.save(sess, c.get_checkpoint_path(), fetched['step'])\n",
    "    print('\\t', i, fetched['loss'], fetched['acc'])\n",
    "        "
   ]
  },
  {
   "cell_type": "code",
   "execution_count": null,
   "metadata": {
    "collapsed": true,
    "deletable": true,
    "editable": true
   },
   "outputs": [],
   "source": []
  }
 ],
 "metadata": {
  "kernelspec": {
   "display_name": "Python 3",
   "language": "python",
   "name": "python3"
  },
  "language_info": {
   "codemirror_mode": {
    "name": "ipython",
    "version": 3
   },
   "file_extension": ".py",
   "mimetype": "text/x-python",
   "name": "python",
   "nbconvert_exporter": "python",
   "pygments_lexer": "ipython3",
   "version": "3.5.3"
  }
 },
 "nbformat": 4,
 "nbformat_minor": 2
}
