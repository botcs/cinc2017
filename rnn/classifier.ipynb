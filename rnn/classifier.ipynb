{
 "cells": [
  {
   "cell_type": "code",
   "execution_count": 1,
   "metadata": {
    "collapsed": false,
    "deletable": true,
    "editable": true
   },
   "outputs": [
    {
     "name": "stdout",
     "output_type": "stream",
     "text": [
      "Reading files: 08527   \n",
      "Reading successful!\n"
     ]
    }
   ],
   "source": [
    "import tensorflow as tf\n",
    "import numpy\n",
    "import data\n",
    "import model\n",
    "\n",
    "learning_rate = .001\n",
    "grad_clip = 5.\n",
    "batch_size = 64"
   ]
  },
  {
   "cell_type": "code",
   "execution_count": 2,
   "metadata": {
    "collapsed": false,
    "deletable": true,
    "editable": true
   },
   "outputs": [],
   "source": [
    "tf.reset_default_graph()\n",
    "c = model.classifier(rnn_sizes=[128, 128], fc_sizes=[64, 32], batch_size=batch_size)\n",
    "feeder = data.batch_pool(batch_size)\n",
    "batch = next(feeder)"
   ]
  },
  {
   "cell_type": "markdown",
   "metadata": {
    "deletable": true,
    "editable": true
   },
   "source": [
    "# Loss, accuracy and optimizer"
   ]
  },
  {
   "cell_type": "code",
   "execution_count": 3,
   "metadata": {
    "collapsed": false,
    "deletable": true,
    "editable": true
   },
   "outputs": [],
   "source": [
    "'''\n",
    "    Name scope is good for graph definition for debugging in TensorBoard\n",
    "'''\n",
    "labels = tf.placeholder(tf.int64, [c.batch_size], 'labels')\n",
    "global_step = tf.Variable(initial_value=0, trainable=False, name='global_step')\n",
    "\n",
    "with tf.name_scope('cross_entropy'):\n",
    "    loss = tf.nn.sparse_softmax_cross_entropy_with_logits(labels=labels, logits=c.logits)\n",
    "    with tf.name_scope('total'):\n",
    "        loss = tf.reduce_mean(loss)\n",
    "with tf.name_scope('accuracy'):\n",
    "    with tf.name_scope('correct_prediction'):\n",
    "        correct_prediction = tf.equal(tf.argmax(c.preds, 1), labels)\n",
    "    with tf.name_scope('acc'):\n",
    "        accuracy = tf.reduce_mean(tf.cast(correct_prediction, tf.float32))\n",
    "    \n",
    "with tf.name_scope('train'):\n",
    "    optimizer = tf.train.AdamOptimizer(learning_rate=learning_rate)\n",
    "    gvs = optimizer.compute_gradients(loss)\n",
    "    with tf.name_scope('gradient_clipping'):\n",
    "        capped_gvs = [(tf.clip_by_value(grad, -grad_clip, grad_clip), var) \n",
    "                      for grad, var in gvs]\n",
    "        \n",
    "    opt = optimizer.apply_gradients(capped_gvs, global_step)"
   ]
  },
  {
   "cell_type": "markdown",
   "metadata": {},
   "source": [
    "# Summaries"
   ]
  },
  {
   "cell_type": "code",
   "execution_count": 11,
   "metadata": {
    "collapsed": false
   },
   "outputs": [],
   "source": [
    "summaries = tf.summary.merge([\n",
    "    [(tf.summary.histogram('gradient', grad), \n",
    "      tf.summary.histogram('variable', var)) for grad, var in gvs],\n",
    "    tf.summary.scalar('loss', loss),\n",
    "    tf.summary.scalar('accuracy', accuracy)\n",
    "])"
   ]
  },
  {
   "cell_type": "markdown",
   "metadata": {},
   "source": [
    "# Train test"
   ]
  },
  {
   "cell_type": "code",
   "execution_count": 12,
   "metadata": {
    "collapsed": false
   },
   "outputs": [],
   "source": [
    "sess = tf.InteractiveSession()\n",
    "writer = tf.summary.FileWriter('/tmp/tensorflow_logdir/', graph=sess.graph)\n",
    "saver = tf.train.Saver(keep_checkpoint_every_n_hours=1)\n",
    "tf.global_variables_initializer().run()"
   ]
  },
  {
   "cell_type": "code",
   "execution_count": null,
   "metadata": {
    "collapsed": false,
    "deletable": true,
    "editable": true
   },
   "outputs": [
    {
     "name": "stdout",
     "output_type": "stream",
     "text": [
      "18000\t 0 0.810768 0.640625\n",
      "17400\t 1 0.817352 0.6875\n",
      "17400\t 2 0.906504 0.515625\n",
      "17400\t 3 0.835465 0.65625\n",
      "17400\t 4 0.800106 0.6875\n",
      "17400\t 5 0.955955 0.578125\n",
      "17400\t 6 0.942971 0.53125\n",
      "17400\t 7 0.725384 0.6875\n",
      "18000\t 8 0.768867 0.6875\n",
      "17400\t 9 0.954396 0.5625\n",
      "2400"
     ]
    }
   ],
   "source": [
    "for i, batch in enumerate(feeder):\n",
    "    state = sess.run(c.zero_state)\n",
    "    x_feed, label_feed, lens_feed = batch\n",
    "    \n",
    "    for idx in range(0, lens_feed.max(), c.time_steps):\n",
    "        data_window = x_feed[:, idx:idx+c.time_steps]\n",
    "        lens_window = lens_feed-idx\n",
    "        \n",
    "        feed_dict = {\n",
    "            c.x:data_window,\n",
    "            c.init_state:state,\n",
    "            c.seq_len:lens_window,\n",
    "            labels:label_feedmodel\n",
    "        }\n",
    "        \n",
    "        fetch_dict = {\n",
    "            'opt' : opt,\n",
    "            'state' : c.rnn_last_states,\n",
    "            'step' : global_step,\n",
    "            'loss' : loss,\n",
    "            'acc' : accuracy,\n",
    "            'sum' : summaries\n",
    "        }\n",
    "        \n",
    "        fetched = sess.run(fetch_dict, feed_dict)\n",
    "        state = fetched['state']\n",
    "        if idx%(2 * c.time_steps) == 0:\n",
    "            print('\\r%d'%idx, end='', flush=True)\n",
    "            writer.add_summary(summary=fetched['sum'], global_step=fetched['step'])\n",
    "    if i%100 == 0: \n",
    "        saver.save(sess, c.get_checkpoint_path(), fetched['step'])\n",
    "    print('\\t', i, fetched['loss'], fetched['acc'])\n",
    "        "
   ]
  },
  {
   "cell_type": "code",
   "execution_count": null,
   "metadata": {
    "collapsed": true
   },
   "outputs": [],
   "source": []
  }
 ],
 "metadata": {
  "kernelspec": {
   "display_name": "Python 3",
   "language": "python",
   "name": "python3"
  },
  "language_info": {
   "codemirror_mode": {
    "name": "ipython",
    "version": 3
   },
   "file_extension": ".py",
   "mimetype": "text/x-python",
   "name": "python",
   "nbconvert_exporter": "python",
   "pygments_lexer": "ipython3",
   "version": "3.5.2"
  }
 },
 "nbformat": 4,
 "nbformat_minor": 2
}
