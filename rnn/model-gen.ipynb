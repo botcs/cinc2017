{
 "cells": [
  {
   "cell_type": "code",
   "execution_count": 1,
   "metadata": {
    "collapsed": false,
    "deletable": true,
    "editable": true
   },
   "outputs": [
    {
     "name": "stdout",
     "output_type": "stream",
     "text": [
      "Reading files: 08527   \n",
      "Reading successful!\n"
     ]
    }
   ],
   "source": [
    "import tensorflow as tf\n",
    "import numpy as np\n",
    "import data\n",
    "import matplotlib.pyplot as plt\n",
    "\n",
    "%matplotlib inline"
   ]
  },
  {
   "cell_type": "code",
   "execution_count": 2,
   "metadata": {
    "collapsed": false,
    "deletable": true,
    "editable": true
   },
   "outputs": [],
   "source": [
    "num_epochs = 10\n",
    "batch_size = 4\n",
    "time_steps = 250\n",
    "input_dims = 1\n",
    "\n",
    "train_steps = 3\n",
    "\n",
    "hidden_rnn_sizes = [30, 30, 30]\n",
    "hidden_fc_sizes = [40, 30]\n",
    "output_dims = 1\n",
    "\n",
    "data_feed = data.batch_pool(batch_size, num_epochs)"
   ]
  },
  {
   "cell_type": "markdown",
   "metadata": {
    "collapsed": true,
    "deletable": true,
    "editable": true
   },
   "source": [
    "# LSTM definition"
   ]
  },
  {
   "cell_type": "code",
   "execution_count": 3,
   "metadata": {
    "collapsed": false,
    "deletable": true,
    "editable": true
   },
   "outputs": [],
   "source": [
    "tf.reset_default_graph()\n",
    "x = tf.placeholder(tf.float32, [batch_size, None, input_dims])\n",
    "seq_len = tf.placeholder(tf.int16, [None])\n",
    "\n",
    "''' FIXED HIDDEN STATE SIZE\n",
    "init_state = np.zeros((num_layers, 2, batch_size, hidden_state_size))\n",
    "state_placeholder = tf.placeholder(tf.float32, [num_layers, 2, None, hidden_state_size])\n",
    "l = tf.unstack(state_placeholder, axis=0)\n",
    "rnn_tuple_state = tuple(\n",
    "    [tf.contrib.rnn.LSTMStateTuple(l[idx][0], l[idx][1])\n",
    "     for idx in range(num_layers)]\n",
    "    )\n",
    "'''\n",
    "\n",
    "rnn_tuple_state = []\n",
    "for size in hidden_rnn_sizes:\n",
    "    shape = [2, batch_size, size]\n",
    "    ph = tf.placeholder(tf.float32, shape)\n",
    "    rnn_tuple_state.append(\n",
    "        tf.contrib.rnn.LSTMStateTuple(ph[0], ph[1]))\n",
    "rnn_tuple_state = tuple(rnn_tuple_state)    \n",
    "\n",
    "\n",
    "    \n",
    "'lstm_cell = tf.contrib.rnn.BasicLSTMCell(hidden_state_size, forget_bias=1.)'\n",
    "cells = [tf.contrib.rnn.BasicLSTMCell(size) for size in hidden_rnn_sizes]\n",
    "multi_cell = tf.contrib.rnn.MultiRNNCell(cells)\n",
    "\n",
    "outputs, last_states = tf.nn.dynamic_rnn(\n",
    "    initial_state=rnn_tuple_state,\n",
    "    inputs=x, cell=multi_cell, \n",
    "    sequence_length=seq_len)\n",
    "\n",
    "''' \n",
    "    Does not give back the true last, may be 0\n",
    "    last_output = output[:, -1]\n",
    "'''\n",
    "\n",
    "last_output = last_states[-1][1]\n",
    "#act_fn = tf.tanh\n",
    "act_fn = tf.nn.relu\n",
    "# Classification\n",
    "# h = last_output\n",
    "# Generation\n",
    "h = outputs\n",
    "for size in hidden_fc_sizes:\n",
    "    h = tf.contrib.layers.fully_connected(h, size, act_fn)\n",
    "preds = tf.contrib.layers.fully_connected(h, output_dims, None)"
   ]
  },
  {
   "cell_type": "code",
   "execution_count": 4,
   "metadata": {
    "collapsed": false
   },
   "outputs": [],
   "source": [
    "target = tf.placeholder(tf.float32, [batch_size, None, output_dims])\n",
    "loss = tf.reduce_sum((preds-target)**2)\n",
    "opt = tf.train.AdamOptimizer().minimize(loss)"
   ]
  },
  {
   "cell_type": "code",
   "execution_count": 5,
   "metadata": {
    "collapsed": false
   },
   "outputs": [
    {
     "data": {
      "text/plain": [
       "<tf.Tensor 'fully_connected_2/Reshape_1:0' shape=(4, ?, 1) dtype=float32>"
      ]
     },
     "execution_count": 5,
     "metadata": {},
     "output_type": "execute_result"
    }
   ],
   "source": [
    "preds"
   ]
  },
  {
   "cell_type": "code",
   "execution_count": 6,
   "metadata": {
    "collapsed": true
   },
   "outputs": [],
   "source": [
    "def join_samples(sample_list, sample_lens):\n",
    "    res = np.zeros((len(sample_list), sample_lens.max(), output_dims))\n",
    "    for idx, (sample, l) in enumerate(zip(sample_list, sample_lens)):\n",
    "        res[idx, :l] = sample[None, :, None]\n",
    "    return res "
   ]
  },
  {
   "cell_type": "code",
   "execution_count": 22,
   "metadata": {
    "collapsed": false
   },
   "outputs": [
    {
     "name": "stdout",
     "output_type": "stream",
     "text": [
      "8500\n",
      "\n",
      "11500\n",
      "\n",
      "8500\n",
      "\n",
      "8500\n",
      "\n",
      "10000\n",
      "\n"
     ]
    }
   ],
   "source": [
    "with tf.Session() as sess:\n",
    "    tf.global_variables_initializer().run()\n",
    "    losses = []\n",
    "    predictions = []\n",
    "    i = 0\n",
    "    for batch in data_feed:\n",
    "        i += 1\n",
    "        s = sess.run(multi_cell.zero_state(batch_size, tf.float32))\n",
    "        x_feed, y_feed, lens_feed = batch\n",
    "        \n",
    "        x_feed = join_samples(x_feed, lens_feed)\n",
    "        # Generator\n",
    "        y_feed = np.roll(x_feed, 1)\n",
    "        for idx in range(0, lens_feed.max(), time_steps):\n",
    "            if idx%500 == 0:\n",
    "                print('\\r%d'%idx, end='', flush=True)\n",
    "            data_window = x_feed[:, idx:idx+time_steps]\n",
    "            target_window = y_feed[:, idx:idx+time_steps]\n",
    "            lens_window = lens_feed-idx\n",
    "            feed_dict = {\n",
    "                x:data_window,\n",
    "                rnn_tuple_state:s,\n",
    "                seq_len:lens_window,\n",
    "                target:target_window\n",
    "            }\n",
    "            _, p, l, s = sess.run([opt, preds, loss, last_states], feed_dict)\n",
    "            predictions.append(p.squeeze())\n",
    "            losses.append(l)\n",
    "        print('\\n')\n",
    "        if i > 4: break\n",
    "        \n",
    "        \n",
    "    "
   ]
  },
  {
   "cell_type": "code",
   "execution_count": 27,
   "metadata": {
    "collapsed": false
   },
   "outputs": [
    {
     "data": {
      "text/plain": [
       "[<matplotlib.lines.Line2D at 0x7fc9cc76e860>,\n",
       " <matplotlib.lines.Line2D at 0x7fc9cc76eb00>,\n",
       " <matplotlib.lines.Line2D at 0x7fc9cc76ecf8>,\n",
       " <matplotlib.lines.Line2D at 0x7fc9cc76eef0>]"
      ]
     },
     "execution_count": 27,
     "metadata": {},
     "output_type": "execute_result"
    },
    {
     "data": {
      "image/png": "[encoded data removed]",
      "text/plain": [
       "<matplotlib.figure.Figure at 0x7fc9cc7df4e0>"
      ]
     },
     "metadata": {},
     "output_type": "display_data"
    }
   ],
   "source": [
    "p = np.concatenate(predictions, axis=1)\n",
    "\n",
    "plt.plot(p[:, -6000:-5000].T)\n",
    "#predictions[0].shape"
   ]
  },
  {
   "cell_type": "code",
   "execution_count": 16,
   "metadata": {
    "collapsed": false
   },
   "outputs": [
    {
     "data": {
      "text/plain": [
       "[<matplotlib.lines.Line2D at 0x7fc7da639cf8>,\n",
       " <matplotlib.lines.Line2D at 0x7fc73c69dcc0>]"
      ]
     },
     "execution_count": 16,
     "metadata": {},
     "output_type": "execute_result"
    },
    {
     "data": {
      "image/png": "[encoded data removed]",
      "text/plain": [
       "<matplotlib.figure.Figure at 0x7fc73c751f28>"
      ]
     },
     "metadata": {},
     "output_type": "display_data"
    }
   ],
   "source": [
    "plt.plot(x_feed[:2].squeeze().T)\n",
    "#data_window.shape"
   ]
  },
  {
   "cell_type": "code",
   "execution_count": 47,
   "metadata": {
    "collapsed": false
   },
   "outputs": [
    {
     "data": {
      "text/plain": [
       "array([ 0.61605638,  0.71292919,  0.80252498, ...,  0.13209474,\n",
       "        0.14843857,  0.16830629], dtype=float32)"
      ]
     },
     "execution_count": 47,
     "metadata": {},
     "output_type": "execute_result"
    }
   ],
   "source": [
    "x_feed = batch[0]\n",
    "x_feed[0]-x_feed[3]"
   ]
  },
  {
   "cell_type": "code",
   "execution_count": 14,
   "metadata": {
    "collapsed": false,
    "deletable": true,
    "editable": true
   },
   "outputs": [
    {
     "data": {
      "text/plain": [
       "72"
      ]
     },
     "execution_count": 14,
     "metadata": {},
     "output_type": "execute_result"
    }
   ],
   "source": [
    "len(losses)"
   ]
  },
  {
   "cell_type": "code",
   "execution_count": 34,
   "metadata": {
    "collapsed": false,
    "deletable": true,
    "editable": true
   },
   "outputs": [
    {
     "data": {
      "text/plain": [
       "[<matplotlib.lines.Line2D at 0x7fd49cb8d780>]"
      ]
     },
     "execution_count": 34,
     "metadata": {},
     "output_type": "execute_result"
    },
    {
     "data": {
      "image/png": "[encoded data removed]",
      "text/plain": [
       "<matplotlib.figure.Figure at 0x7fd514650d68>"
      ]
     },
     "metadata": {},
     "output_type": "display_data"
    }
   ],
   "source": [
    "plt.plot(losses)"
   ]
  },
  {
   "cell_type": "code",
   "execution_count": 11,
   "metadata": {
    "collapsed": false
   },
   "outputs": [
    {
     "data": {
      "text/plain": [
       "[<matplotlib.lines.Line2D at 0x7fd51473f4e0>]"
      ]
     },
     "execution_count": 11,
     "metadata": {},
     "output_type": "execute_result"
    },
    {
     "data": {
      "image/png": "[encoded data removed]",
      "text/plain": [
       "<matplotlib.figure.Figure at 0x7fd541233470>"
      ]
     },
     "metadata": {},
     "output_type": "display_data"
    }
   ],
   "source": [
    "plt.plot(losses)"
   ]
  },
  {
   "cell_type": "code",
   "execution_count": 13,
   "metadata": {
    "collapsed": false,
    "deletable": true,
    "editable": true
   },
   "outputs": [
    {
     "data": {
      "text/plain": [
       "array([array([-223, -268, -311, ...,   33,   31,   30], dtype=int16),\n",
       "       array([-264, -254, -231, ...,   84,   89,   90], dtype=int16),\n",
       "       array([14, 15, 16, ..., 18, 18, 18], dtype=int16),\n",
       "       array([31, 55, 70, ..., 16, 14, 12], dtype=int16),\n",
       "       array([102, 126, 152, ..., -70, -52, -38], dtype=int16),\n",
       "       array([146, 185, 224, ...,  -6,  11,  25], dtype=int16),\n",
       "       array([ 162,  194,  229, ..., -302, -261, -157], dtype=int16)], dtype=object)"
      ]
     },
     "execution_count": 13,
     "metadata": {},
     "output_type": "execute_result"
    }
   ],
   "source": [
    "for batch in data_feed:\n",
    "    data, label, lens = batch\n",
    "    break\n",
    "data    "
   ]
  },
  {
   "cell_type": "code",
   "execution_count": 9,
   "metadata": {
    "collapsed": false
   },
   "outputs": [
    {
     "name": "stdout",
     "output_type": "stream",
     "text": [
      "> \u001b[0;32m<ipython-input-8-6ecb33e47eb3>\u001b[0m(22)\u001b[0;36m<module>\u001b[0;34m()\u001b[0m\n",
      "\u001b[0;32m     20 \u001b[0;31m            \u001b[0ml\u001b[0m\u001b[0;34m,\u001b[0m \u001b[0ms\u001b[0m \u001b[0;34m=\u001b[0m \u001b[0msess\u001b[0m\u001b[0;34m.\u001b[0m\u001b[0mrun\u001b[0m\u001b[0;34m(\u001b[0m\u001b[0;34m[\u001b[0m\u001b[0mpreds\u001b[0m\u001b[0;34m,\u001b[0m \u001b[0mlast_states\u001b[0m\u001b[0;34m]\u001b[0m\u001b[0;34m,\u001b[0m \u001b[0mfeed_dict\u001b[0m\u001b[0;34m)\u001b[0m\u001b[0;34m\u001b[0m\u001b[0m\n",
      "\u001b[0m\u001b[0;32m     21 \u001b[0;31m            \u001b[0mlosses\u001b[0m\u001b[0;34m.\u001b[0m\u001b[0mappend\u001b[0m\u001b[0;34m(\u001b[0m\u001b[0ml\u001b[0m\u001b[0;34m)\u001b[0m\u001b[0;34m\u001b[0m\u001b[0m\n",
      "\u001b[0m\u001b[0;32m---> 22 \u001b[0;31m        \u001b[0;32mif\u001b[0m \u001b[0mi\u001b[0m \u001b[0;34m>\u001b[0m \u001b[0;36m3\u001b[0m\u001b[0;34m:\u001b[0m \u001b[0;32mbreak\u001b[0m\u001b[0;34m\u001b[0m\u001b[0m\n",
      "\u001b[0m\u001b[0;32m     23 \u001b[0;31m\u001b[0;34m\u001b[0m\u001b[0m\n",
      "\u001b[0m\u001b[0;32m     24 \u001b[0;31m\u001b[0;34m\u001b[0m\u001b[0m\n",
      "\u001b[0m\n",
      "ipdb> data\n",
      "array([array([-127, -162, -197, ...,  -18,  -22,  -21], dtype=int16)], dtype=object)\n",
      "ipdb> exit\n"
     ]
    }
   ],
   "source": [
    "%debug"
   ]
  },
  {
   "cell_type": "markdown",
   "metadata": {},
   "source": [
    "# Misc"
   ]
  },
  {
   "cell_type": "code",
   "execution_count": 9,
   "metadata": {
    "collapsed": false,
    "deletable": true,
    "editable": true
   },
   "outputs": [],
   "source": [
    "tf.reset_default_graph()\n",
    "x = tf.placeholder(tf.float32, [None, time_steps, input_dims])\n",
    "seq_len = tf.placeholder(tf.int16, [None])\n",
    "\n",
    "''' FIXED HIDDEN STATE SIZE\n",
    "init_state = np.zeros((num_layers, 2, batch_size, hidden_state_size))\n",
    "state_placeholder = tf.placeholder(tf.float32, [num_layers, 2, None, hidden_state_size])\n",
    "l = tf.unstack(state_placeholder, axis=0)\n",
    "rnn_tuple_state = tuple(\n",
    "    [tf.contrib.rnn.LSTMStateTuple(l[idx][0], l[idx][1])\n",
    "     for idx in range(num_layers)]\n",
    ")\n",
    "'''\n",
    "\n",
    "rnn_tuple_state = []\n",
    "for size in hidden_rnn_sizes:\n",
    "    shape = [2, batch_size, size]\n",
    "    ph = tf.placeholder(tf.float32, shape)\n",
    "    rnn_tuple_state.append(\n",
    "        tf.contrib.rnn.LSTMStateTuple(ph[0], ph[1]))\n",
    "rnn_tuple_state = tuple(rnn_tuple_state)    \n",
    "\n",
    "\n",
    "    \n",
    "'lstm_cell = tf.contrib.rnn.BasicLSTMCell(hidden_state_size, forget_bias=1.)'\n",
    "cells = [tf.contrib.rnn.BasicLSTMCell(size) for size in hidden_rnn_sizes]\n",
    "multi_cell = tf.contrib.rnn.MultiRNNCell(cells)\n",
    "\n",
    "outputs, last_states = tf.nn.dynamic_rnn(\n",
    "    initial_state=rnn_tuple_state,\n",
    "    inputs=x, cell=multi_cell, \n",
    "    sequence_length=seq_len)\n",
    "\n",
    "''' \n",
    "    Does not give back the true last, may be 0\n",
    "    last_output = output[:, -1]\n",
    "'''\n",
    "\n",
    "last_output = last_states[-1][1]\n",
    "act_fn = tf.tanh\n",
    "preds = tf.contrib.layers.fully_connected(outputs, pred_size, act_fn)"
   ]
  },
  {
   "cell_type": "code",
   "execution_count": 10,
   "metadata": {
    "collapsed": false,
    "deletable": true,
    "editable": true
   },
   "outputs": [
    {
     "data": {
      "text/plain": [
       "<tf.Tensor 'fully_connected/Tanh:0' shape=(64, 15, 1) dtype=float32>"
      ]
     },
     "execution_count": 10,
     "metadata": {},
     "output_type": "execute_result"
    }
   ],
   "source": [
    "preds"
   ]
  },
  {
   "cell_type": "code",
   "execution_count": 12,
   "metadata": {
    "collapsed": false,
    "deletable": true,
    "editable": true
   },
   "outputs": [],
   "source": [
    "\n",
    "with tf.Session() as sess:\n",
    "    tf.global_variables_initializer().run()\n",
    "    s = sess.run(multi_cell.zero_state(batch_size, tf.float32))\n",
    "    for i in range(train_steps):\n",
    "        feed_dict = {\n",
    "            x:np.ones([batch_size, time_steps, input_dims]),\n",
    "            rnn_tuple_state:s,\n",
    "            seq_len:np.ones(batch_size) * time_steps+1\n",
    "        }\n",
    "        \n",
    "        #s = sess.run([last_states], feed_dict)\n",
    "        \n",
    "        p, s = sess.run([preds, last_states], feed_dict)\n",
    "        \n",
    "    "
   ]
  },
  {
   "cell_type": "code",
   "execution_count": 13,
   "metadata": {
    "collapsed": false,
    "deletable": true,
    "editable": true
   },
   "outputs": [
    {
     "data": {
      "text/plain": [
       "(LSTMStateTuple(c=array([[ 0.,  0.,  0., ...,  0.,  0.,  0.],\n",
       "       [ 0.,  0.,  0., ...,  0.,  0.,  0.],\n",
       "       [ 0.,  0.,  0., ...,  0.,  0.,  0.],\n",
       "       ..., \n",
       "       [ 0.,  0.,  0., ...,  0.,  0.,  0.],\n",
       "       [ 0.,  0.,  0., ...,  0.,  0.,  0.],\n",
       "       [ 0.,  0.,  0., ...,  0.,  0.,  0.]], dtype=float32), h=array([[ 0.,  0.,  0., ...,  0.,  0.,  0.],\n",
       "       [ 0.,  0.,  0., ...,  0.,  0.,  0.],\n",
       "       [ 0.,  0.,  0., ...,  0.,  0.,  0.],\n",
       "       ..., \n",
       "       [ 0.,  0.,  0., ...,  0.,  0.,  0.],\n",
       "       [ 0.,  0.,  0., ...,  0.,  0.,  0.],\n",
       "       [ 0.,  0.,  0., ...,  0.,  0.,  0.]], dtype=float32)),\n",
       " LSTMStateTuple(c=array([[ 0.,  0.,  0., ...,  0.,  0.,  0.],\n",
       "       [ 0.,  0.,  0., ...,  0.,  0.,  0.],\n",
       "       [ 0.,  0.,  0., ...,  0.,  0.,  0.],\n",
       "       ..., \n",
       "       [ 0.,  0.,  0., ...,  0.,  0.,  0.],\n",
       "       [ 0.,  0.,  0., ...,  0.,  0.,  0.],\n",
       "       [ 0.,  0.,  0., ...,  0.,  0.,  0.]], dtype=float32), h=array([[ 0.,  0.,  0., ...,  0.,  0.,  0.],\n",
       "       [ 0.,  0.,  0., ...,  0.,  0.,  0.],\n",
       "       [ 0.,  0.,  0., ...,  0.,  0.,  0.],\n",
       "       ..., \n",
       "       [ 0.,  0.,  0., ...,  0.,  0.,  0.],\n",
       "       [ 0.,  0.,  0., ...,  0.,  0.,  0.],\n",
       "       [ 0.,  0.,  0., ...,  0.,  0.,  0.]], dtype=float32)),\n",
       " LSTMStateTuple(c=array([[ 0.,  0.,  0., ...,  0.,  0.,  0.],\n",
       "       [ 0.,  0.,  0., ...,  0.,  0.,  0.],\n",
       "       [ 0.,  0.,  0., ...,  0.,  0.,  0.],\n",
       "       ..., \n",
       "       [ 0.,  0.,  0., ...,  0.,  0.,  0.],\n",
       "       [ 0.,  0.,  0., ...,  0.,  0.,  0.],\n",
       "       [ 0.,  0.,  0., ...,  0.,  0.,  0.]], dtype=float32), h=array([[ 0.,  0.,  0., ...,  0.,  0.,  0.],\n",
       "       [ 0.,  0.,  0., ...,  0.,  0.,  0.],\n",
       "       [ 0.,  0.,  0., ...,  0.,  0.,  0.],\n",
       "       ..., \n",
       "       [ 0.,  0.,  0., ...,  0.,  0.,  0.],\n",
       "       [ 0.,  0.,  0., ...,  0.,  0.,  0.],\n",
       "       [ 0.,  0.,  0., ...,  0.,  0.,  0.]], dtype=float32)))"
      ]
     },
     "execution_count": 13,
     "metadata": {},
     "output_type": "execute_result"
    }
   ],
   "source": [
    "s"
   ]
  },
  {
   "cell_type": "code",
   "execution_count": null,
   "metadata": {
    "collapsed": true,
    "deletable": true,
    "editable": true
   },
   "outputs": [],
   "source": []
  },
  {
   "cell_type": "code",
   "execution_count": 56,
   "metadata": {
    "collapsed": false,
    "deletable": true,
    "editable": true
   },
   "outputs": [
    {
     "data": {
      "text/plain": [
       "<tf.Tensor 'fully_connected_1/Reshape_1:0' shape=(64, 15, 1) dtype=float32>"
      ]
     },
     "execution_count": 56,
     "metadata": {},
     "output_type": "execute_result"
    }
   ],
   "source": [
    "preds"
   ]
  },
  {
   "cell_type": "code",
   "execution_count": null,
   "metadata": {
    "collapsed": true,
    "deletable": true,
    "editable": true
   },
   "outputs": [],
   "source": []
  },
  {
   "cell_type": "markdown",
   "metadata": {
    "deletable": true,
    "editable": true
   },
   "source": [
    "# Miscallenous"
   ]
  },
  {
   "cell_type": "code",
   "execution_count": 7,
   "metadata": {
    "collapsed": true,
    "deletable": true,
    "editable": true
   },
   "outputs": [],
   "source": [
    "num_epochs = 10\n",
    "batch_size = 64\n",
    "time_steps = 15\n",
    "input_dims = 1\n",
    "\n",
    "num_layers = 3\n",
    "hidden_state_size = 10"
   ]
  },
  {
   "cell_type": "code",
   "execution_count": 34,
   "metadata": {
    "collapsed": false,
    "deletable": true,
    "editable": true
   },
   "outputs": [],
   "source": [
    "batch_size = 3\n",
    "tf.reset_default_graph()\n",
    "x = tf.placeholder(tf.float32, [None, time_steps, input_dims])\n",
    "seq_len = tf.placeholder(tf.int16, [None])\n",
    "\n",
    "''' FIXED HIDDEN STATE SIZE\n",
    "init_state = np.zeros((num_layers, 2, batch_size, hidden_state_size))\n",
    "state_placeholder = tf.placeholder(tf.float32, [num_layers, 2, None, hidden_state_size])\n",
    "l = tf.unstack(state_placeholder, axis=0)\n",
    "rnn_tuple_state = tuple(\n",
    "    [tf.contrib.rnn.LSTMStateTuple(l[idx][0], l[idx][1])\n",
    "     for idx in range(num_layers)]\n",
    ")\n",
    "'''\n",
    "\n",
    "hidden_rnn_sizes = [6, 5, 4]\n",
    "rnn_tuple_state = []\n",
    "for size in hidden_rnn_sizes:\n",
    "    shape = [2, batch_size, size]\n",
    "    ph = tf.placeholder(tf.float32, shape)\n",
    "    rnn_tuple_state.append(\n",
    "        tf.contrib.rnn.LSTMStateTuple(ph[0], ph[1]))\n",
    "rnn_tuple_state = tuple(rnn_tuple_state)    \n",
    "\n",
    "\n",
    "    \n",
    "'lstm_cell = tf.contrib.rnn.BasicLSTMCell(hidden_state_size, forget_bias=1.)'\n",
    "cells = [tf.contrib.rnn.BasicLSTMCell(size) for size in hidden_rnn_sizes]\n",
    "multi_cell = tf.contrib.rnn.MultiRNNCell(cells)\n",
    "\n",
    "output, last_state = tf.nn.dynamic_rnn(\n",
    "    initial_state=rnn_tuple_state,\n",
    "    inputs=x, cell=multi_cell, \n",
    "    sequence_length=seq_len)\n",
    "\n",
    "''' \n",
    "    Does not give back the true last, may be 0\n",
    "    last_output = output[:, -1]\n",
    "'''\n",
    "\n",
    "last_output = last_state[-1][1]"
   ]
  },
  {
   "cell_type": "code",
   "execution_count": 39,
   "metadata": {
    "collapsed": false,
    "deletable": true,
    "editable": true
   },
   "outputs": [
    {
     "data": {
      "text/plain": [
       "(LSTMStateTuple(c=array([[ 0.,  0.,  0.,  0.,  0.,  0.],\n",
       "       [ 0.,  0.,  0.,  0.,  0.,  0.],\n",
       "       [ 0.,  0.,  0.,  0.,  0.,  0.]], dtype=float32), h=array([[ 0.,  0.,  0.,  0.,  0.,  0.],\n",
       "       [ 0.,  0.,  0.,  0.,  0.,  0.],\n",
       "       [ 0.,  0.,  0.,  0.,  0.,  0.]], dtype=float32)),\n",
       " LSTMStateTuple(c=array([[ 0.,  0.,  0.,  0.,  0.],\n",
       "       [ 0.,  0.,  0.,  0.,  0.],\n",
       "       [ 0.,  0.,  0.,  0.,  0.]], dtype=float32), h=array([[ 0.,  0.,  0.,  0.,  0.],\n",
       "       [ 0.,  0.,  0.,  0.,  0.],\n",
       "       [ 0.,  0.,  0.,  0.,  0.]], dtype=float32)),\n",
       " LSTMStateTuple(c=array([[ 0.,  0.,  0.,  0.],\n",
       "       [ 0.,  0.,  0.,  0.],\n",
       "       [ 0.,  0.,  0.,  0.]], dtype=float32), h=array([[ 0.,  0.,  0.,  0.],\n",
       "       [ 0.,  0.,  0.,  0.],\n",
       "       [ 0.,  0.,  0.,  0.]], dtype=float32)))"
      ]
     },
     "execution_count": 39,
     "metadata": {},
     "output_type": "execute_result"
    }
   ],
   "source": [
    "init_state"
   ]
  },
  {
   "cell_type": "code",
   "execution_count": 49,
   "metadata": {
    "collapsed": false,
    "deletable": true,
    "editable": true
   },
   "outputs": [],
   "source": [
    "with tf.Session() as sess:\n",
    "    s = sess.run(multi_cell.zero_state(batch_size, tf.float32))\n",
    "    feed_dict = {\n",
    "        x:np.ones([batch_size, time_steps, input_dims]),\n",
    "        rnn_tuple_state:s,\n",
    "        seq_len:[2, 6, 2]\n",
    "    }\n",
    "    \n",
    "    tf.global_variables_initializer().run()\n",
    "    o, l, s = sess.run([output, last_output, last_state], feed_dict)\n",
    "    "
   ]
  },
  {
   "cell_type": "code",
   "execution_count": 49,
   "metadata": {
    "collapsed": false,
    "deletable": true,
    "editable": true
   },
   "outputs": [],
   "source": [
    "with tf.Session() as sess:\n",
    "    s = sess.run(multi_cell.zero_state(batch_size, tf.float32))\n",
    "    feed_dict = {\n",
    "        x:np.ones([batch_size, time_steps, input_dims]),\n",
    "        rnn_tuple_state:s,\n",
    "        seq_len:[2, 6, 2]\n",
    "    }\n",
    "    \n",
    "    tf.global_variables_initializer().run()\n",
    "    o, l, s = sess.run([output, last_output, last_state], feed_dict)\n",
    "    "
   ]
  },
  {
   "cell_type": "code",
   "execution_count": 41,
   "metadata": {
    "collapsed": true,
    "deletable": true,
    "editable": true
   },
   "outputs": [
    {
     "data": {
      "text/plain": [
       "array([[[ 0.00414114, -0.00117444, -0.00061634,  0.00149639],\n",
       "        [ 0.01358755, -0.00358437, -0.00219923,  0.00502674],\n",
       "        [ 0.        ,  0.        ,  0.        ,  0.        ],\n",
       "        [ 0.        ,  0.        ,  0.        ,  0.        ],\n",
       "        [ 0.        ,  0.        ,  0.        ,  0.        ],\n",
       "        [ 0.        ,  0.        ,  0.        ,  0.        ],\n",
       "        [ 0.        ,  0.        ,  0.        ,  0.        ],\n",
       "        [ 0.        ,  0.        ,  0.        ,  0.        ],\n",
       "        [ 0.        ,  0.        ,  0.        ,  0.        ],\n",
       "        [ 0.        ,  0.        ,  0.        ,  0.        ],\n",
       "        [ 0.        ,  0.        ,  0.        ,  0.        ],\n",
       "        [ 0.        ,  0.        ,  0.        ,  0.        ],\n",
       "        [ 0.        ,  0.        ,  0.        ,  0.        ],\n",
       "        [ 0.        ,  0.        ,  0.        ,  0.        ],\n",
       "        [ 0.        ,  0.        ,  0.        ,  0.        ]],\n",
       "\n",
       "       [[ 0.00414114, -0.00117444, -0.00061634,  0.00149639],\n",
       "        [ 0.01358755, -0.00358437, -0.00219923,  0.00502674],\n",
       "        [ 0.02772619, -0.00680537, -0.00493089,  0.01052974],\n",
       "        [ 0.04505765, -0.01030892, -0.00883332,  0.01761924],\n",
       "        [ 0.06388091, -0.01366327, -0.01377059,  0.02576612],\n",
       "        [ 0.08272725, -0.01660139, -0.01948575,  0.03442191],\n",
       "        [ 0.        ,  0.        ,  0.        ,  0.        ],\n",
       "        [ 0.        ,  0.        ,  0.        ,  0.        ],\n",
       "        [ 0.        ,  0.        ,  0.        ,  0.        ],\n",
       "        [ 0.        ,  0.        ,  0.        ,  0.        ],\n",
       "        [ 0.        ,  0.        ,  0.        ,  0.        ],\n",
       "        [ 0.        ,  0.        ,  0.        ,  0.        ],\n",
       "        [ 0.        ,  0.        ,  0.        ,  0.        ],\n",
       "        [ 0.        ,  0.        ,  0.        ,  0.        ],\n",
       "        [ 0.        ,  0.        ,  0.        ,  0.        ]],\n",
       "\n",
       "       [[ 0.00414114, -0.00117444, -0.00061634,  0.00149639],\n",
       "        [ 0.01358755, -0.00358437, -0.00219923,  0.00502674],\n",
       "        [ 0.        ,  0.        ,  0.        ,  0.        ],\n",
       "        [ 0.        ,  0.        ,  0.        ,  0.        ],\n",
       "        [ 0.        ,  0.        ,  0.        ,  0.        ],\n",
       "        [ 0.        ,  0.        ,  0.        ,  0.        ],\n",
       "        [ 0.        ,  0.        ,  0.        ,  0.        ],\n",
       "        [ 0.        ,  0.        ,  0.        ,  0.        ],\n",
       "        [ 0.        ,  0.        ,  0.        ,  0.        ],\n",
       "        [ 0.        ,  0.        ,  0.        ,  0.        ],\n",
       "        [ 0.        ,  0.        ,  0.        ,  0.        ],\n",
       "        [ 0.        ,  0.        ,  0.        ,  0.        ],\n",
       "        [ 0.        ,  0.        ,  0.        ,  0.        ],\n",
       "        [ 0.        ,  0.        ,  0.        ,  0.        ],\n",
       "        [ 0.        ,  0.        ,  0.        ,  0.        ]]], dtype=float32)"
      ]
     },
     "execution_count": 41,
     "metadata": {},
     "output_type": "execute_result"
    }
   ],
   "source": [
    "o"
   ]
  },
  {
   "cell_type": "code",
   "execution_count": 42,
   "metadata": {
    "collapsed": true,
    "deletable": true,
    "editable": true
   },
   "outputs": [
    {
     "data": {
      "text/plain": [
       "array([[ 0.01358755, -0.00358437, -0.00219923,  0.00502674],\n",
       "       [ 0.08272725, -0.01660139, -0.01948575,  0.03442191],\n",
       "       [ 0.01358755, -0.00358437, -0.00219923,  0.00502674]], dtype=float32)"
      ]
     },
     "execution_count": 42,
     "metadata": {},
     "output_type": "execute_result"
    }
   ],
   "source": [
    "l"
   ]
  },
  {
   "cell_type": "code",
   "execution_count": null,
   "metadata": {
    "collapsed": true,
    "deletable": true,
    "editable": true
   },
   "outputs": [],
   "source": [
    "with tf.Session() as sess:\n",
    "    s = sess.run(multi_cell.zero_state(batch_size, tf.float32))\n",
    "    feed_dict = {\n",
    "        x:np.ones([batch_size, time_steps, input_dims]),\n",
    "        rnn_tuple_state:s,\n",
    "        seq_len:[2, 6, 2]\n",
    "    }\n",
    "    \n",
    "    tf.global_variables_initializer().run()\n",
    "    o, l, s = sess.run([output, last_output, last_state], feed_dict)\n",
    "    "
   ]
  },
  {
   "cell_type": "code",
   "execution_count": null,
   "metadata": {
    "collapsed": true
   },
   "outputs": [],
   "source": []
  },
  {
   "cell_type": "code",
   "execution_count": null,
   "metadata": {
    "collapsed": true
   },
   "outputs": [],
   "source": []
  }
 ],
 "metadata": {
  "kernelspec": {
   "display_name": "Python 3",
   "language": "python",
   "name": "python3"
  },
  "language_info": {
   "codemirror_mode": {
    "name": "ipython",
    "version": 3
   },
   "file_extension": ".py",
   "mimetype": "text/x-python",
   "name": "python",
   "nbconvert_exporter": "python",
   "pygments_lexer": "ipython3",
   "version": "3.5.2"
  }
 },
 "nbformat": 4,
 "nbformat_minor": 2
}
