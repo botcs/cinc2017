{
 "cells": [
  {
   "cell_type": "code",
   "execution_count": 1,
   "metadata": {
    "collapsed": false,
    "deletable": true,
    "editable": true
   },
   "outputs": [
    {
     "name": "stdout",
     "output_type": "stream",
     "text": [
      "Reading files: 08527   \n",
      "Reading successful!\n"
     ]
    }
   ],
   "source": [
    "import tensorflow as tf\n",
    "import numpy as np\n",
    "import data\n",
    "import matplotlib.pyplot as plt\n",
    "\n",
    "%matplotlib inline"
   ]
  },
  {
   "cell_type": "code",
   "execution_count": 2,
   "metadata": {
    "collapsed": false,
    "deletable": true,
    "editable": true
   },
   "outputs": [],
   "source": [
    "num_epochs = 10\n",
    "batch_size = 4\n",
    "time_steps = 250\n",
    "input_dims = 1\n",
    "\n",
    "train_steps = 3\n",
    "\n",
    "hidden_rnn_sizes = [10]\n",
    "hidden_fc_sizes = [10, 10]\n",
    "output_dims = 1\n",
    "\n",
    "data_feed = data.batch_pool(batch_size, num_epochs)"
   ]
  },
  {
   "cell_type": "markdown",
   "metadata": {
    "collapsed": true,
    "deletable": true,
    "editable": true
   },
   "source": [
    "# LSTM definition"
   ]
  },
  {
   "cell_type": "code",
   "execution_count": 10,
   "metadata": {
    "collapsed": false,
    "deletable": true,
    "editable": true
   },
   "outputs": [],
   "source": [
    "tf.reset_default_graph()\n",
    "x = tf.placeholder(tf.float32, [batch_size, None, input_dims])\n",
    "seq_len = tf.placeholder(tf.int16, [None])\n",
    "\n",
    "''' FIXED HIDDEN STATE SIZE\n",
    "init_state = np.zeros((num_layers, 2, batch_size, hidden_state_size))\n",
    "state_placeholder = tf.placeholder(tf.float32, [num_layers, 2, None, hidden_state_size])\n",
    "l = tf.unstack(state_placeholder, axis=0)\n",
    "rnn_tuple_state = tuple(\n",
    "    [tf.contrib.rnn.LSTMStateTuple(l[idx][0], l[idx][1])\n",
    "     for idx in range(num_layers)]\n",
    "    )\n",
    "'''\n",
    "\n",
    "rnn_tuple_state = []\n",
    "for size in hidden_rnn_sizes:\n",
    "    shape = [2, batch_size, size]\n",
    "    ph = tf.placeholder(tf.float32, shape)\n",
    "    rnn_tuple_state.append(\n",
    "        tf.contrib.rnn.LSTMStateTuple(ph[0], ph[1]))\n",
    "rnn_tuple_state = tuple(rnn_tuple_state)    \n",
    "\n",
    "\n",
    "    \n",
    "'lstm_cell = tf.contrib.rnn.BasicLSTMCell(hidden_state_size, forget_bias=1.)'\n",
    "cells = [tf.contrib.rnn.BasicLSTMCell(size) for size in hidden_rnn_sizes]\n",
    "multi_cell = tf.contrib.rnn.MultiRNNCell(cells)\n",
    "\n",
    "outputs, last_states = tf.nn.dynamic_rnn(\n",
    "    initial_state=rnn_tuple_state,\n",
    "    inputs=x, cell=multi_cell, \n",
    "    sequence_length=seq_len)\n",
    "\n",
    "''' \n",
    "    Does not give back the true last, may be 0\n",
    "    last_output = output[:, -1]\n",
    "'''\n",
    "\n",
    "last_output = last_states[-1][1]\n",
    "#act_fn = tf.tanh\n",
    "act_fn = tf.nn.relu\n",
    "# Classification\n",
    "# h = last_output\n",
    "# Generation\n",
    "h = outputs\n",
    "for size in hidden_fc_sizes:\n",
    "    h = tf.contrib.layers.fully_connected(h, size, act_fn)\n",
    "preds = tf.contrib.layers.fully_connected(h, output_dims, None)"
   ]
  },
  {
   "cell_type": "code",
   "execution_count": 11,
   "metadata": {
    "collapsed": false
   },
   "outputs": [],
   "source": [
    "target = tf.placeholder(tf.float32, [batch_size, None, output_dims])\n",
    "loss = tf.reduce_sum((preds-target)**2)\n",
    "opt = tf.train.AdamOptimizer().minimize(loss)"
   ]
  },
  {
   "cell_type": "code",
   "execution_count": 12,
   "metadata": {
    "collapsed": false
   },
   "outputs": [
    {
     "data": {
      "text/plain": [
       "<tf.Tensor 'fully_connected_2/Reshape_1:0' shape=(4, ?, 1) dtype=float32>"
      ]
     },
     "execution_count": 12,
     "metadata": {},
     "output_type": "execute_result"
    }
   ],
   "source": [
    "preds"
   ]
  },
  {
   "cell_type": "code",
   "execution_count": 13,
   "metadata": {
    "collapsed": true
   },
   "outputs": [],
   "source": [
    "def join_samples(sample_list, sample_lens):\n",
    "    res = np.zeros((len(sample_list), sample_lens.max(), output_dims))\n",
    "    for idx, (sample, l) in enumerate(zip(sample_list, sample_lens)):\n",
    "        res[idx, :l] = sample[None, :, None]\n",
    "    return res "
   ]
  },
  {
   "cell_type": "code",
   "execution_count": 24,
   "metadata": {
    "collapsed": false
   },
   "outputs": [
    {
     "name": "stdout",
     "output_type": "stream",
     "text": [
      "8500"
     ]
    }
   ],
   "source": [
    "with tf.Session() as sess:\n",
    "    tf.global_variables_initializer().run()\n",
    "    losses = []\n",
    "    predictions = []\n",
    "    i = 0\n",
    "    for batch in data_feed:\n",
    "        i += 1\n",
    "        s = sess.run(multi_cell.zero_state(batch_size, tf.float32))\n",
    "        x_feed, y_feed, lens_feed = batch\n",
    "        \n",
    "        x_feed = join_samples(x_feed, lens_feed)\n",
    "        # Generator\n",
    "        y_feed = np.roll(x_feed, 1)\n",
    "        for idx in range(0, lens_feed.max(), time_steps):\n",
    "            if idx%500 == 0:\n",
    "                print('\\r%d'%idx, end='', flush=True)\n",
    "            data_window = x_feed[:, idx:idx+time_steps]\n",
    "            target_window = y_feed[:, idx:idx+time_steps]\n",
    "            lens_window = lens_feed-idx\n",
    "            feed_dict = {\n",
    "                x:data_window,\n",
    "                rnn_tuple_state:s,\n",
    "                seq_len:lens_window,\n",
    "                target:target_window\n",
    "            }\n",
    "            _, p, l, s = sess.run([opt, preds, loss, last_states], feed_dict)\n",
    "            predictions.append(p.squeeze())\n",
    "            losses.append(l)\n",
    "        break\n",
    "        \n",
    "        \n",
    "    "
   ]
  },
  {
   "cell_type": "code",
   "execution_count": 39,
   "metadata": {
    "collapsed": false
   },
   "outputs": [
    {
     "data": {
      "text/plain": [
       "[<matplotlib.lines.Line2D at 0x7fc7197d5c88>,\n",
       " <matplotlib.lines.Line2D at 0x7fc7197d5f28>,\n",
       " <matplotlib.lines.Line2D at 0x7fc7197dc160>,\n",
       " <matplotlib.lines.Line2D at 0x7fc7197dc358>]"
      ]
     },
     "execution_count": 39,
     "metadata": {},
     "output_type": "execute_result"
    },
    {
     "data": {
      "image/png": "[encoded data removed]",
      "text/plain": [
       "<matplotlib.figure.Figure at 0x7fc6e8091470>"
      ]
     },
     "metadata": {},
     "output_type": "display_data"
    }
   ],
   "source": [
    "p = np.concatenate(predictions, axis=1)\n",
    "\n",
    "plt.plot(p.T)\n",
    "#predictions[0].shape"
   ]
  },
  {
   "cell_type": "code",
   "execution_count": 16,
   "metadata": {
    "collapsed": false
   },
   "outputs": [
    {
     "data": {
      "text/plain": [
       "[<matplotlib.lines.Line2D at 0x7fc7da639cf8>,\n",
       " <matplotlib.lines.Line2D at 0x7fc73c69dcc0>]"
      ]
     },
     "execution_count": 16,
     "metadata": {},
     "output_type": "execute_result"
    },
    {
     "data": {
      "image/png": "[encoded data removed]",
      "text/plain": [
       "<matplotlib.figure.Figure at 0x7fc73c751f28>"
      ]
     },
     "metadata": {},
     "output_type": "display_data"
    }
   ],
   "source": [
    "plt.plot(x_feed[:2].squeeze().T)\n",
    "#data_window.shape"
   ]
  },
  {
   "cell_type": "code",
   "execution_count": 46,
   "metadata": {
    "collapsed": false,
    "deletable": true,
    "editable": true
   },
   "outputs": [
    {
     "data": {
      "text/plain": [
       "array([ array([-0.21052629, -0.12865496, -0.04385966, ..., -0.68128657,\n",
       "       -0.66374266, -0.64327484], dtype=float32),\n",
       "       array([ 0.18227148,  0.21883655,  0.24986148, ...,  0.06260383,\n",
       "        0.06481993,  0.06592798], dtype=float32),\n",
       "       array([-0.19027776, -0.11527777, -0.08333331, ...,  0.80833328,\n",
       "        0.60694444,  0.31111109], dtype=float32),\n",
       "       array([-0.82658267, -0.84158415, -0.84638464, ..., -0.81338131,\n",
       "       -0.81218123, -0.81158113], dtype=float32),\n",
       "       array([ 0.19381261,  0.21565056,  0.23930848, ...,  0.04731572,\n",
       "        0.07370341,  0.10191083], dtype=float32),\n",
       "       array([-0.33633184, -0.33433282, -0.33233386, ..., -0.39730138,\n",
       "       -0.38730633, -0.37731135], dtype=float32),\n",
       "       array([-0.26491338, -0.21359849, -0.16613215, ..., -0.52020526,\n",
       "       -0.51379091, -0.50737655], dtype=float32),\n",
       "       array([-0.31051344, -0.31662589, -0.32151592, ...,  0.06723714,\n",
       "        0.0305624 , -0.01955992], dtype=float32),\n",
       "       array([-0.08760333, -0.08595043, -0.08595043, ..., -0.07768595,\n",
       "       -0.07107437, -0.06611568], dtype=float32),\n",
       "       array([-0.49358058, -0.49500716, -0.49643368, ..., -0.63338089,\n",
       "       -0.64621973, -0.66048503], dtype=float32),\n",
       "       array([ 0.30513597,  0.26025033,  0.21277511, ...,  0.51402676,\n",
       "        0.51402676,  0.51402676], dtype=float32),\n",
       "       array([-0.23854661, -0.20379144, -0.17640865, ..., -0.62085307,\n",
       "       -0.56819379, -0.52606636], dtype=float32),\n",
       "       array([-0.45889241, -0.50866067, -0.56038058, ..., -0.17589658,\n",
       "       -0.17882413, -0.18223959], dtype=float32),\n",
       "       array([ 0.25160515,  0.14526486,  0.0321027 , ...,  0.8820225 ,\n",
       "        0.80096304,  0.68057787], dtype=float32),\n",
       "       array([-0.71990466, -0.7822805 , -0.84624553, ..., -0.49582839,\n",
       "       -0.48589593, -0.47556615], dtype=float32),\n",
       "       array([-0.54494381, -0.67696631, -0.80243444, ...,  0.20037448,\n",
       "        0.19662917,  0.19101119], dtype=float32),\n",
       "       array([-0.09643787, -0.10338837, -0.11207646, ..., -0.17289311,\n",
       "       -0.11207646, -0.04778451], dtype=float32),\n",
       "       array([ 0.3239783 ,  0.35007381,  0.37764645, ...,  0.20433283,\n",
       "        0.20384049,  0.20384049], dtype=float32),\n",
       "       array([-0.69036698, -0.76605505, -0.84862387, ..., -0.30963302,\n",
       "       -0.30504584, -0.30045873], dtype=float32),\n",
       "       array([-0.69728482, -0.69728482, -0.69844019, ..., -0.49277872,\n",
       "       -0.4846909 , -0.47660309], dtype=float32),\n",
       "       array([-0.0843882 , -0.0864979 , -0.08860761, ..., -0.08016878,\n",
       "       -0.06540084, -0.05485231], dtype=float32),\n",
       "       array([-0.11708862, -0.16297466, -0.23734176, ...,  0.20727849,\n",
       "        0.20411396,  0.2025317 ], dtype=float32),\n",
       "       array([ 0.00753212,  0.04120517,  0.06778908, ..., -0.19007534,\n",
       "       -0.19627827, -0.20159501], dtype=float32),\n",
       "       array([ 0.55479455,  0.64554799,  0.73801374, ...,  0.06849313,\n",
       "        0.06678081,  0.06678081], dtype=float32),\n",
       "       array([ 0.3645699 ,  0.50706029,  0.65725291, ..., -0.38767654,\n",
       "       -0.38254172, -0.37612325], dtype=float32),\n",
       "       array([ 0.31346583,  0.36423838,  0.39072847, ..., -0.01545256,\n",
       "       -0.01324505, -0.01103753], dtype=float32),\n",
       "       array([-0.49146283, -0.61144435, -0.73511767, ...,  0.13982463,\n",
       "        0.13797879,  0.13705587], dtype=float32),\n",
       "       array([-0.2522046 , -0.21810699, -0.17695475, ..., -0.56613755,\n",
       "       -0.54144621, -0.52380955], dtype=float32),\n",
       "       array([-0.35925233, -0.35962617, -0.36037385, ..., -0.35925233,\n",
       "       -0.36186916, -0.36411214], dtype=float32),\n",
       "       array([-0.48337293, -0.51900238, -0.55700713, ..., -0.12470311,\n",
       "       -0.14251781, -0.1686461 ], dtype=float32),\n",
       "       array([-0.26564497, -0.2962963 , -0.32056195, ...,  0.14942527,\n",
       "        0.03448272, -0.07024264], dtype=float32),\n",
       "       array([ 0.3092593 ,  0.42407405,  0.56296301, ..., -0.03888887,\n",
       "       -0.09814817, -0.1574074 ], dtype=float32),\n",
       "       array([-0.70351434, -0.75463259, -0.80447286, ..., -0.50031948,\n",
       "       -0.48498404, -0.46709263], dtype=float32),\n",
       "       array([ 0.1238879 ,  0.22002387,  0.31908119, ..., -0.37246048,\n",
       "       -0.37272608, -0.37166381], dtype=float32),\n",
       "       array([-0.17505997, -0.25659472, -0.34292567, ...,  0.25179851,\n",
       "        0.21342921,  0.17505991], dtype=float32),\n",
       "       array([ 0.36815667,  0.51682568,  0.67252636, ..., -0.3782019 ,\n",
       "       -0.3782019 , -0.3782019 ], dtype=float32),\n",
       "       array([-0.51687765, -0.62447262, -0.74050629, ..., -0.08808017,\n",
       "       -0.0791139 , -0.06751055], dtype=float32),\n",
       "       array([ 0.17133331,  0.23866665,  0.30599999, ..., -0.20333332,\n",
       "       -0.19999999, -0.19733334], dtype=float32),\n",
       "       array([-0.35614526, -0.38128489, -0.38687152, ..., -0.36731845,\n",
       "       -0.36312848, -0.35474861], dtype=float32),\n",
       "       array([-0.12531507, -0.12531507, -0.12531507, ..., -0.10514945,\n",
       "       -0.11847317, -0.13071662], dtype=float32),\n",
       "       array([-0.80601501, -0.80150378, -0.79699248, ..., -0.86466163,\n",
       "       -0.8661654 , -0.86466163], dtype=float32),\n",
       "       array([ 0.36813486,  0.47253942,  0.57911909, ..., -0.0396955 ,\n",
       "       -0.07993478, -0.12017399], dtype=float32),\n",
       "       array([ 0.19438398,  0.14693773,  0.09803927, ...,  0.42677319,\n",
       "        0.42628908,  0.42580485], dtype=float32),\n",
       "       array([-0.52579033, -0.45091516, -0.36938435, ..., -0.80199671,\n",
       "       -0.78868556, -0.77204657], dtype=float32),\n",
       "       array([ 0.00504816, -0.02707666, -0.06195503, ..., -0.42909592,\n",
       "       -0.29325378, -0.1638366 ], dtype=float32),\n",
       "       array([ 0.02659333,  0.02613485,  0.02613485, ...,  0.02521777,\n",
       "        0.02567625,  0.02613485], dtype=float32),\n",
       "       array([ 0.40860212,  0.50537634,  0.64516127, ..., -0.14516127,\n",
       "       -0.13978493, -0.13440859], dtype=float32),\n",
       "       array([-0.50778443, -0.5457086 , -0.58562875, ..., -0.37485027,\n",
       "       -0.37485027, -0.37564868], dtype=float32),\n",
       "       array([ 0.47664404,  0.51927435,  0.54557824, ...,  0.28888893,\n",
       "        0.28798187,  0.2870748 ], dtype=float32),\n",
       "       array([-0.27262634, -0.40921712, -0.55024987, ...,  0.42365348,\n",
       "        0.42476404,  0.42476404], dtype=float32),\n",
       "       array([-0.37832314, -0.36400819, -0.35991818, ..., -0.50715744,\n",
       "       -0.50715744, -0.50715744], dtype=float32),\n",
       "       array([-0.66027397, -0.70410955, -0.74520552, ..., -0.90684932,\n",
       "       -0.81643838, -0.71232879], dtype=float32),\n",
       "       array([ 0.46745563,  0.50098622,  0.52662718, ...,  0.36094677,\n",
       "        0.36291909,  0.36489153], dtype=float32),\n",
       "       array([-0.75878596, -0.7715655 , -0.78434503, ..., -0.65814698,\n",
       "       -0.65175718, -0.64856231], dtype=float32),\n",
       "       array([ 0.32480276,  0.35508633,  0.38878226, ...,  0.2518661 ,\n",
       "        0.24717426,  0.24205589], dtype=float32),\n",
       "       array([ 0.46703529,  0.49854875,  0.52978575, ...,  0.29288185,\n",
       "        0.29841053,  0.30006909], dtype=float32),\n",
       "       array([ 0.36734688,  0.43469393,  0.50204086, ...,  0.92040813,\n",
       "        0.70816326,  0.43877554], dtype=float32),\n",
       "       array([-0.04261732, -0.04175633, -0.04003441, ..., -0.06672406,\n",
       "       -0.06586313, -0.06586313], dtype=float32),\n",
       "       array([-0.45424014, -0.47942907, -0.5146935 , ..., -0.00083965,\n",
       "       -0.06129301, -0.09151971], dtype=float32),\n",
       "       array([ 0.40567899,  0.53283954,  0.66074073, ..., -0.1367901 ,\n",
       "       -0.15333331, -0.17209876], dtype=float32),\n",
       "       array([-0.44664031, -0.46343875, -0.48517787, ..., -0.43675888,\n",
       "       -0.42292488, -0.4061265 ], dtype=float32),\n",
       "       array([-0.48808175, -0.55051076, -0.61975026, ..., -0.23779798,\n",
       "       -0.23893303, -0.24063563], dtype=float32),\n",
       "       array([-0.4729805 , -0.58662951, -0.71030641, ...,  0.09526467,\n",
       "        0.07966578,  0.06183839], dtype=float32),\n",
       "       array([ 0.09169555,  0.12110722,  0.14878893, ...,  0.11591697,\n",
       "        0.07525957,  0.03460205], dtype=float32)], dtype=object)"
      ]
     },
     "execution_count": 46,
     "metadata": {},
     "output_type": "execute_result"
    }
   ],
   "source": []
  },
  {
   "cell_type": "code",
   "execution_count": 47,
   "metadata": {
    "collapsed": false
   },
   "outputs": [
    {
     "data": {
      "text/plain": [
       "array([ 0.61605638,  0.71292919,  0.80252498, ...,  0.13209474,\n",
       "        0.14843857,  0.16830629], dtype=float32)"
      ]
     },
     "execution_count": 47,
     "metadata": {},
     "output_type": "execute_result"
    }
   ],
   "source": [
    "x_feed = batch[0]\n",
    "x_feed[0]-x_feed[3]"
   ]
  },
  {
   "cell_type": "code",
   "execution_count": 34,
   "metadata": {
    "collapsed": false,
    "deletable": true,
    "editable": true
   },
   "outputs": [
    {
     "data": {
      "text/plain": [
       "[<matplotlib.lines.Line2D at 0x7fd49cb8d780>]"
      ]
     },
     "execution_count": 34,
     "metadata": {},
     "output_type": "execute_result"
    },
    {
     "data": {
      "image/png": "[encoded data removed]",
      "text/plain": [
       "<matplotlib.figure.Figure at 0x7fd514650d68>"
      ]
     },
     "metadata": {},
     "output_type": "display_data"
    }
   ],
   "source": [
    "plt.plot(losses)"
   ]
  },
  {
   "cell_type": "code",
   "execution_count": 11,
   "metadata": {
    "collapsed": false
   },
   "outputs": [
    {
     "data": {
      "text/plain": [
       "[<matplotlib.lines.Line2D at 0x7fd51473f4e0>]"
      ]
     },
     "execution_count": 11,
     "metadata": {},
     "output_type": "execute_result"
    },
    {
     "data": {
      "image/png": "[encoded data removed]",
      "text/plain": [
       "<matplotlib.figure.Figure at 0x7fd541233470>"
      ]
     },
     "metadata": {},
     "output_type": "display_data"
    }
   ],
   "source": [
    "plt.plot(losses)"
   ]
  },
  {
   "cell_type": "code",
   "execution_count": 13,
   "metadata": {
    "collapsed": false,
    "deletable": true,
    "editable": true
   },
   "outputs": [
    {
     "data": {
      "text/plain": [
       "array([array([-223, -268, -311, ...,   33,   31,   30], dtype=int16),\n",
       "       array([-264, -254, -231, ...,   84,   89,   90], dtype=int16),\n",
       "       array([14, 15, 16, ..., 18, 18, 18], dtype=int16),\n",
       "       array([31, 55, 70, ..., 16, 14, 12], dtype=int16),\n",
       "       array([102, 126, 152, ..., -70, -52, -38], dtype=int16),\n",
       "       array([146, 185, 224, ...,  -6,  11,  25], dtype=int16),\n",
       "       array([ 162,  194,  229, ..., -302, -261, -157], dtype=int16)], dtype=object)"
      ]
     },
     "execution_count": 13,
     "metadata": {},
     "output_type": "execute_result"
    }
   ],
   "source": [
    "for batch in data_feed:\n",
    "    data, label, lens = batch\n",
    "    break\n",
    "data    "
   ]
  },
  {
   "cell_type": "code",
   "execution_count": 9,
   "metadata": {
    "collapsed": false
   },
   "outputs": [
    {
     "name": "stdout",
     "output_type": "stream",
     "text": [
      "> \u001b[0;32m<ipython-input-8-6ecb33e47eb3>\u001b[0m(22)\u001b[0;36m<module>\u001b[0;34m()\u001b[0m\n",
      "\u001b[0;32m     20 \u001b[0;31m            \u001b[0ml\u001b[0m\u001b[0;34m,\u001b[0m \u001b[0ms\u001b[0m \u001b[0;34m=\u001b[0m \u001b[0msess\u001b[0m\u001b[0;34m.\u001b[0m\u001b[0mrun\u001b[0m\u001b[0;34m(\u001b[0m\u001b[0;34m[\u001b[0m\u001b[0mpreds\u001b[0m\u001b[0;34m,\u001b[0m \u001b[0mlast_states\u001b[0m\u001b[0;34m]\u001b[0m\u001b[0;34m,\u001b[0m \u001b[0mfeed_dict\u001b[0m\u001b[0;34m)\u001b[0m\u001b[0;34m\u001b[0m\u001b[0m\n",
      "\u001b[0m\u001b[0;32m     21 \u001b[0;31m            \u001b[0mlosses\u001b[0m\u001b[0;34m.\u001b[0m\u001b[0mappend\u001b[0m\u001b[0;34m(\u001b[0m\u001b[0ml\u001b[0m\u001b[0;34m)\u001b[0m\u001b[0;34m\u001b[0m\u001b[0m\n",
      "\u001b[0m\u001b[0;32m---> 22 \u001b[0;31m        \u001b[0;32mif\u001b[0m \u001b[0mi\u001b[0m \u001b[0;34m>\u001b[0m \u001b[0;36m3\u001b[0m\u001b[0;34m:\u001b[0m \u001b[0;32mbreak\u001b[0m\u001b[0;34m\u001b[0m\u001b[0m\n",
      "\u001b[0m\u001b[0;32m     23 \u001b[0;31m\u001b[0;34m\u001b[0m\u001b[0m\n",
      "\u001b[0m\u001b[0;32m     24 \u001b[0;31m\u001b[0;34m\u001b[0m\u001b[0m\n",
      "\u001b[0m\n",
      "ipdb> data\n",
      "array([array([-127, -162, -197, ...,  -18,  -22,  -21], dtype=int16)], dtype=object)\n",
      "ipdb> exit\n"
     ]
    }
   ],
   "source": [
    "%debug"
   ]
  },
  {
   "cell_type": "markdown",
   "metadata": {},
   "source": [
    "# Misc"
   ]
  },
  {
   "cell_type": "code",
   "execution_count": 9,
   "metadata": {
    "collapsed": false,
    "deletable": true,
    "editable": true
   },
   "outputs": [],
   "source": [
    "tf.reset_default_graph()\n",
    "x = tf.placeholder(tf.float32, [None, time_steps, input_dims])\n",
    "seq_len = tf.placeholder(tf.int16, [None])\n",
    "\n",
    "''' FIXED HIDDEN STATE SIZE\n",
    "init_state = np.zeros((num_layers, 2, batch_size, hidden_state_size))\n",
    "state_placeholder = tf.placeholder(tf.float32, [num_layers, 2, None, hidden_state_size])\n",
    "l = tf.unstack(state_placeholder, axis=0)\n",
    "rnn_tuple_state = tuple(\n",
    "    [tf.contrib.rnn.LSTMStateTuple(l[idx][0], l[idx][1])\n",
    "     for idx in range(num_layers)]\n",
    ")\n",
    "'''\n",
    "\n",
    "rnn_tuple_state = []\n",
    "for size in hidden_rnn_sizes:\n",
    "    shape = [2, batch_size, size]\n",
    "    ph = tf.placeholder(tf.float32, shape)\n",
    "    rnn_tuple_state.append(\n",
    "        tf.contrib.rnn.LSTMStateTuple(ph[0], ph[1]))\n",
    "rnn_tuple_state = tuple(rnn_tuple_state)    \n",
    "\n",
    "\n",
    "    \n",
    "'lstm_cell = tf.contrib.rnn.BasicLSTMCell(hidden_state_size, forget_bias=1.)'\n",
    "cells = [tf.contrib.rnn.BasicLSTMCell(size) for size in hidden_rnn_sizes]\n",
    "multi_cell = tf.contrib.rnn.MultiRNNCell(cells)\n",
    "\n",
    "outputs, last_states = tf.nn.dynamic_rnn(\n",
    "    initial_state=rnn_tuple_state,\n",
    "    inputs=x, cell=multi_cell, \n",
    "    sequence_length=seq_len)\n",
    "\n",
    "''' \n",
    "    Does not give back the true last, may be 0\n",
    "    last_output = output[:, -1]\n",
    "'''\n",
    "\n",
    "last_output = last_states[-1][1]\n",
    "act_fn = tf.tanh\n",
    "preds = tf.contrib.layers.fully_connected(outputs, pred_size, act_fn)"
   ]
  },
  {
   "cell_type": "code",
   "execution_count": 10,
   "metadata": {
    "collapsed": false,
    "deletable": true,
    "editable": true
   },
   "outputs": [
    {
     "data": {
      "text/plain": [
       "<tf.Tensor 'fully_connected/Tanh:0' shape=(64, 15, 1) dtype=float32>"
      ]
     },
     "execution_count": 10,
     "metadata": {},
     "output_type": "execute_result"
    }
   ],
   "source": [
    "preds"
   ]
  },
  {
   "cell_type": "code",
   "execution_count": 12,
   "metadata": {
    "collapsed": false,
    "deletable": true,
    "editable": true
   },
   "outputs": [],
   "source": [
    "\n",
    "with tf.Session() as sess:\n",
    "    tf.global_variables_initializer().run()\n",
    "    s = sess.run(multi_cell.zero_state(batch_size, tf.float32))\n",
    "    for i in range(train_steps):\n",
    "        feed_dict = {\n",
    "            x:np.ones([batch_size, time_steps, input_dims]),\n",
    "            rnn_tuple_state:s,\n",
    "            seq_len:np.ones(batch_size) * time_steps+1\n",
    "        }\n",
    "        \n",
    "        #s = sess.run([last_states], feed_dict)\n",
    "        \n",
    "        p, s = sess.run([preds, last_states], feed_dict)\n",
    "        \n",
    "    "
   ]
  },
  {
   "cell_type": "code",
   "execution_count": 13,
   "metadata": {
    "collapsed": false,
    "deletable": true,
    "editable": true
   },
   "outputs": [
    {
     "data": {
      "text/plain": [
       "(LSTMStateTuple(c=array([[ 0.,  0.,  0., ...,  0.,  0.,  0.],\n",
       "       [ 0.,  0.,  0., ...,  0.,  0.,  0.],\n",
       "       [ 0.,  0.,  0., ...,  0.,  0.,  0.],\n",
       "       ..., \n",
       "       [ 0.,  0.,  0., ...,  0.,  0.,  0.],\n",
       "       [ 0.,  0.,  0., ...,  0.,  0.,  0.],\n",
       "       [ 0.,  0.,  0., ...,  0.,  0.,  0.]], dtype=float32), h=array([[ 0.,  0.,  0., ...,  0.,  0.,  0.],\n",
       "       [ 0.,  0.,  0., ...,  0.,  0.,  0.],\n",
       "       [ 0.,  0.,  0., ...,  0.,  0.,  0.],\n",
       "       ..., \n",
       "       [ 0.,  0.,  0., ...,  0.,  0.,  0.],\n",
       "       [ 0.,  0.,  0., ...,  0.,  0.,  0.],\n",
       "       [ 0.,  0.,  0., ...,  0.,  0.,  0.]], dtype=float32)),\n",
       " LSTMStateTuple(c=array([[ 0.,  0.,  0., ...,  0.,  0.,  0.],\n",
       "       [ 0.,  0.,  0., ...,  0.,  0.,  0.],\n",
       "       [ 0.,  0.,  0., ...,  0.,  0.,  0.],\n",
       "       ..., \n",
       "       [ 0.,  0.,  0., ...,  0.,  0.,  0.],\n",
       "       [ 0.,  0.,  0., ...,  0.,  0.,  0.],\n",
       "       [ 0.,  0.,  0., ...,  0.,  0.,  0.]], dtype=float32), h=array([[ 0.,  0.,  0., ...,  0.,  0.,  0.],\n",
       "       [ 0.,  0.,  0., ...,  0.,  0.,  0.],\n",
       "       [ 0.,  0.,  0., ...,  0.,  0.,  0.],\n",
       "       ..., \n",
       "       [ 0.,  0.,  0., ...,  0.,  0.,  0.],\n",
       "       [ 0.,  0.,  0., ...,  0.,  0.,  0.],\n",
       "       [ 0.,  0.,  0., ...,  0.,  0.,  0.]], dtype=float32)),\n",
       " LSTMStateTuple(c=array([[ 0.,  0.,  0., ...,  0.,  0.,  0.],\n",
       "       [ 0.,  0.,  0., ...,  0.,  0.,  0.],\n",
       "       [ 0.,  0.,  0., ...,  0.,  0.,  0.],\n",
       "       ..., \n",
       "       [ 0.,  0.,  0., ...,  0.,  0.,  0.],\n",
       "       [ 0.,  0.,  0., ...,  0.,  0.,  0.],\n",
       "       [ 0.,  0.,  0., ...,  0.,  0.,  0.]], dtype=float32), h=array([[ 0.,  0.,  0., ...,  0.,  0.,  0.],\n",
       "       [ 0.,  0.,  0., ...,  0.,  0.,  0.],\n",
       "       [ 0.,  0.,  0., ...,  0.,  0.,  0.],\n",
       "       ..., \n",
       "       [ 0.,  0.,  0., ...,  0.,  0.,  0.],\n",
       "       [ 0.,  0.,  0., ...,  0.,  0.,  0.],\n",
       "       [ 0.,  0.,  0., ...,  0.,  0.,  0.]], dtype=float32)))"
      ]
     },
     "execution_count": 13,
     "metadata": {},
     "output_type": "execute_result"
    }
   ],
   "source": [
    "s"
   ]
  },
  {
   "cell_type": "code",
   "execution_count": null,
   "metadata": {
    "collapsed": true,
    "deletable": true,
    "editable": true
   },
   "outputs": [],
   "source": []
  },
  {
   "cell_type": "code",
   "execution_count": 56,
   "metadata": {
    "collapsed": false,
    "deletable": true,
    "editable": true
   },
   "outputs": [
    {
     "data": {
      "text/plain": [
       "<tf.Tensor 'fully_connected_1/Reshape_1:0' shape=(64, 15, 1) dtype=float32>"
      ]
     },
     "execution_count": 56,
     "metadata": {},
     "output_type": "execute_result"
    }
   ],
   "source": [
    "preds"
   ]
  },
  {
   "cell_type": "code",
   "execution_count": null,
   "metadata": {
    "collapsed": true,
    "deletable": true,
    "editable": true
   },
   "outputs": [],
   "source": []
  },
  {
   "cell_type": "markdown",
   "metadata": {
    "deletable": true,
    "editable": true
   },
   "source": [
    "# Miscallenous"
   ]
  },
  {
   "cell_type": "code",
   "execution_count": 7,
   "metadata": {
    "collapsed": true,
    "deletable": true,
    "editable": true
   },
   "outputs": [],
   "source": [
    "num_epochs = 10\n",
    "batch_size = 64\n",
    "time_steps = 15\n",
    "input_dims = 1\n",
    "\n",
    "num_layers = 3\n",
    "hidden_state_size = 10"
   ]
  },
  {
   "cell_type": "code",
   "execution_count": 34,
   "metadata": {
    "collapsed": false,
    "deletable": true,
    "editable": true
   },
   "outputs": [],
   "source": [
    "batch_size = 3\n",
    "tf.reset_default_graph()\n",
    "x = tf.placeholder(tf.float32, [None, time_steps, input_dims])\n",
    "seq_len = tf.placeholder(tf.int16, [None])\n",
    "\n",
    "''' FIXED HIDDEN STATE SIZE\n",
    "init_state = np.zeros((num_layers, 2, batch_size, hidden_state_size))\n",
    "state_placeholder = tf.placeholder(tf.float32, [num_layers, 2, None, hidden_state_size])\n",
    "l = tf.unstack(state_placeholder, axis=0)\n",
    "rnn_tuple_state = tuple(\n",
    "    [tf.contrib.rnn.LSTMStateTuple(l[idx][0], l[idx][1])\n",
    "     for idx in range(num_layers)]\n",
    ")\n",
    "'''\n",
    "\n",
    "hidden_rnn_sizes = [6, 5, 4]\n",
    "rnn_tuple_state = []\n",
    "for size in hidden_rnn_sizes:\n",
    "    shape = [2, batch_size, size]\n",
    "    ph = tf.placeholder(tf.float32, shape)\n",
    "    rnn_tuple_state.append(\n",
    "        tf.contrib.rnn.LSTMStateTuple(ph[0], ph[1]))\n",
    "rnn_tuple_state = tuple(rnn_tuple_state)    \n",
    "\n",
    "\n",
    "    \n",
    "'lstm_cell = tf.contrib.rnn.BasicLSTMCell(hidden_state_size, forget_bias=1.)'\n",
    "cells = [tf.contrib.rnn.BasicLSTMCell(size) for size in hidden_rnn_sizes]\n",
    "multi_cell = tf.contrib.rnn.MultiRNNCell(cells)\n",
    "\n",
    "output, last_state = tf.nn.dynamic_rnn(\n",
    "    initial_state=rnn_tuple_state,\n",
    "    inputs=x, cell=multi_cell, \n",
    "    sequence_length=seq_len)\n",
    "\n",
    "''' \n",
    "    Does not give back the true last, may be 0\n",
    "    last_output = output[:, -1]\n",
    "'''\n",
    "\n",
    "last_output = last_state[-1][1]"
   ]
  },
  {
   "cell_type": "code",
   "execution_count": 39,
   "metadata": {
    "collapsed": false,
    "deletable": true,
    "editable": true
   },
   "outputs": [
    {
     "data": {
      "text/plain": [
       "(LSTMStateTuple(c=array([[ 0.,  0.,  0.,  0.,  0.,  0.],\n",
       "       [ 0.,  0.,  0.,  0.,  0.,  0.],\n",
       "       [ 0.,  0.,  0.,  0.,  0.,  0.]], dtype=float32), h=array([[ 0.,  0.,  0.,  0.,  0.,  0.],\n",
       "       [ 0.,  0.,  0.,  0.,  0.,  0.],\n",
       "       [ 0.,  0.,  0.,  0.,  0.,  0.]], dtype=float32)),\n",
       " LSTMStateTuple(c=array([[ 0.,  0.,  0.,  0.,  0.],\n",
       "       [ 0.,  0.,  0.,  0.,  0.],\n",
       "       [ 0.,  0.,  0.,  0.,  0.]], dtype=float32), h=array([[ 0.,  0.,  0.,  0.,  0.],\n",
       "       [ 0.,  0.,  0.,  0.,  0.],\n",
       "       [ 0.,  0.,  0.,  0.,  0.]], dtype=float32)),\n",
       " LSTMStateTuple(c=array([[ 0.,  0.,  0.,  0.],\n",
       "       [ 0.,  0.,  0.,  0.],\n",
       "       [ 0.,  0.,  0.,  0.]], dtype=float32), h=array([[ 0.,  0.,  0.,  0.],\n",
       "       [ 0.,  0.,  0.,  0.],\n",
       "       [ 0.,  0.,  0.,  0.]], dtype=float32)))"
      ]
     },
     "execution_count": 39,
     "metadata": {},
     "output_type": "execute_result"
    }
   ],
   "source": [
    "init_state"
   ]
  },
  {
   "cell_type": "code",
   "execution_count": 49,
   "metadata": {
    "collapsed": false,
    "deletable": true,
    "editable": true
   },
   "outputs": [],
   "source": [
    "with tf.Session() as sess:\n",
    "    s = sess.run(multi_cell.zero_state(batch_size, tf.float32))\n",
    "    feed_dict = {\n",
    "        x:np.ones([batch_size, time_steps, input_dims]),\n",
    "        rnn_tuple_state:s,\n",
    "        seq_len:[2, 6, 2]\n",
    "    }\n",
    "    \n",
    "    tf.global_variables_initializer().run()\n",
    "    o, l, s = sess.run([output, last_output, last_state], feed_dict)\n",
    "    "
   ]
  },
  {
   "cell_type": "code",
   "execution_count": 49,
   "metadata": {
    "collapsed": false,
    "deletable": true,
    "editable": true
   },
   "outputs": [],
   "source": [
    "with tf.Session() as sess:\n",
    "    s = sess.run(multi_cell.zero_state(batch_size, tf.float32))\n",
    "    feed_dict = {\n",
    "        x:np.ones([batch_size, time_steps, input_dims]),\n",
    "        rnn_tuple_state:s,\n",
    "        seq_len:[2, 6, 2]\n",
    "    }\n",
    "    \n",
    "    tf.global_variables_initializer().run()\n",
    "    o, l, s = sess.run([output, last_output, last_state], feed_dict)\n",
    "    "
   ]
  },
  {
   "cell_type": "code",
   "execution_count": 41,
   "metadata": {
    "collapsed": true,
    "deletable": true,
    "editable": true
   },
   "outputs": [
    {
     "data": {
      "text/plain": [
       "array([[[ 0.00414114, -0.00117444, -0.00061634,  0.00149639],\n",
       "        [ 0.01358755, -0.00358437, -0.00219923,  0.00502674],\n",
       "        [ 0.        ,  0.        ,  0.        ,  0.        ],\n",
       "        [ 0.        ,  0.        ,  0.        ,  0.        ],\n",
       "        [ 0.        ,  0.        ,  0.        ,  0.        ],\n",
       "        [ 0.        ,  0.        ,  0.        ,  0.        ],\n",
       "        [ 0.        ,  0.        ,  0.        ,  0.        ],\n",
       "        [ 0.        ,  0.        ,  0.        ,  0.        ],\n",
       "        [ 0.        ,  0.        ,  0.        ,  0.        ],\n",
       "        [ 0.        ,  0.        ,  0.        ,  0.        ],\n",
       "        [ 0.        ,  0.        ,  0.        ,  0.        ],\n",
       "        [ 0.        ,  0.        ,  0.        ,  0.        ],\n",
       "        [ 0.        ,  0.        ,  0.        ,  0.        ],\n",
       "        [ 0.        ,  0.        ,  0.        ,  0.        ],\n",
       "        [ 0.        ,  0.        ,  0.        ,  0.        ]],\n",
       "\n",
       "       [[ 0.00414114, -0.00117444, -0.00061634,  0.00149639],\n",
       "        [ 0.01358755, -0.00358437, -0.00219923,  0.00502674],\n",
       "        [ 0.02772619, -0.00680537, -0.00493089,  0.01052974],\n",
       "        [ 0.04505765, -0.01030892, -0.00883332,  0.01761924],\n",
       "        [ 0.06388091, -0.01366327, -0.01377059,  0.02576612],\n",
       "        [ 0.08272725, -0.01660139, -0.01948575,  0.03442191],\n",
       "        [ 0.        ,  0.        ,  0.        ,  0.        ],\n",
       "        [ 0.        ,  0.        ,  0.        ,  0.        ],\n",
       "        [ 0.        ,  0.        ,  0.        ,  0.        ],\n",
       "        [ 0.        ,  0.        ,  0.        ,  0.        ],\n",
       "        [ 0.        ,  0.        ,  0.        ,  0.        ],\n",
       "        [ 0.        ,  0.        ,  0.        ,  0.        ],\n",
       "        [ 0.        ,  0.        ,  0.        ,  0.        ],\n",
       "        [ 0.        ,  0.        ,  0.        ,  0.        ],\n",
       "        [ 0.        ,  0.        ,  0.        ,  0.        ]],\n",
       "\n",
       "       [[ 0.00414114, -0.00117444, -0.00061634,  0.00149639],\n",
       "        [ 0.01358755, -0.00358437, -0.00219923,  0.00502674],\n",
       "        [ 0.        ,  0.        ,  0.        ,  0.        ],\n",
       "        [ 0.        ,  0.        ,  0.        ,  0.        ],\n",
       "        [ 0.        ,  0.        ,  0.        ,  0.        ],\n",
       "        [ 0.        ,  0.        ,  0.        ,  0.        ],\n",
       "        [ 0.        ,  0.        ,  0.        ,  0.        ],\n",
       "        [ 0.        ,  0.        ,  0.        ,  0.        ],\n",
       "        [ 0.        ,  0.        ,  0.        ,  0.        ],\n",
       "        [ 0.        ,  0.        ,  0.        ,  0.        ],\n",
       "        [ 0.        ,  0.        ,  0.        ,  0.        ],\n",
       "        [ 0.        ,  0.        ,  0.        ,  0.        ],\n",
       "        [ 0.        ,  0.        ,  0.        ,  0.        ],\n",
       "        [ 0.        ,  0.        ,  0.        ,  0.        ],\n",
       "        [ 0.        ,  0.        ,  0.        ,  0.        ]]], dtype=float32)"
      ]
     },
     "execution_count": 41,
     "metadata": {},
     "output_type": "execute_result"
    }
   ],
   "source": [
    "o"
   ]
  },
  {
   "cell_type": "code",
   "execution_count": 42,
   "metadata": {
    "collapsed": true,
    "deletable": true,
    "editable": true
   },
   "outputs": [
    {
     "data": {
      "text/plain": [
       "array([[ 0.01358755, -0.00358437, -0.00219923,  0.00502674],\n",
       "       [ 0.08272725, -0.01660139, -0.01948575,  0.03442191],\n",
       "       [ 0.01358755, -0.00358437, -0.00219923,  0.00502674]], dtype=float32)"
      ]
     },
     "execution_count": 42,
     "metadata": {},
     "output_type": "execute_result"
    }
   ],
   "source": [
    "l"
   ]
  },
  {
   "cell_type": "code",
   "execution_count": null,
   "metadata": {
    "collapsed": true,
    "deletable": true,
    "editable": true
   },
   "outputs": [],
   "source": [
    "with tf.Session() as sess:\n",
    "    s = sess.run(multi_cell.zero_state(batch_size, tf.float32))\n",
    "    feed_dict = {\n",
    "        x:np.ones([batch_size, time_steps, input_dims]),\n",
    "        rnn_tuple_state:s,\n",
    "        seq_len:[2, 6, 2]\n",
    "    }\n",
    "    \n",
    "    tf.global_variables_initializer().run()\n",
    "    o, l, s = sess.run([output, last_output, last_state], feed_dict)\n",
    "    "
   ]
  },
  {
   "cell_type": "code",
   "execution_count": null,
   "metadata": {
    "collapsed": true
   },
   "outputs": [],
   "source": []
  },
  {
   "cell_type": "code",
   "execution_count": null,
   "metadata": {
    "collapsed": true
   },
   "outputs": [],
   "source": []
  }
 ],
 "metadata": {
  "kernelspec": {
   "display_name": "Python 3",
   "language": "python",
   "name": "python3"
  },
  "language_info": {
   "codemirror_mode": {
    "name": "ipython",
    "version": 3
   },
   "file_extension": ".py",
   "mimetype": "text/x-python",
   "name": "python",
   "nbconvert_exporter": "python",
   "pygments_lexer": "ipython3",
   "version": "3.5.2"
  }
 },
 "nbformat": 4,
 "nbformat_minor": 2
}
