{
 "cells": [
  {
   "cell_type": "code",
   "execution_count": 1,
   "metadata": {
    "collapsed": false,
    "deletable": true,
    "editable": true
   },
   "outputs": [
    {
     "name": "stdout",
     "output_type": "stream",
     "text": [
      "Reading files: 08527   \n",
      "Reading successful!\n"
     ]
    }
   ],
   "source": [
    "import tensorflow as tf\n",
    "import numpy as np\n",
    "import data\n",
    "import model\n",
    "import time\n",
    "\n",
    "import io\n",
    "import matplotlib.pyplot as plt\n",
    "\n",
    "learning_rate = .001\n",
    "grad_clip = 5.\n",
    "batch_size = 8"
   ]
  },
  {
   "cell_type": "code",
   "execution_count": 2,
   "metadata": {
    "collapsed": false,
    "deletable": true,
    "editable": true
   },
   "outputs": [],
   "source": [
    "tf.reset_default_graph()\n",
    "g = model.generator(\n",
    "    rnn_sizes=[128], \n",
    "    fc_sizes=[64],\n",
    "    time_steps=1200,\n",
    "    batch_size=batch_size)\n",
    "feeder = data.batch_pool(batch_size)"
   ]
  },
  {
   "cell_type": "code",
   "execution_count": 3,
   "metadata": {
    "collapsed": false
   },
   "outputs": [
    {
     "data": {
      "text/plain": [
       "<tf.Tensor 'fully_connected/fully_connected_1/Reshape_1:0' shape=(8, ?, 1) dtype=float32>"
      ]
     },
     "execution_count": 3,
     "metadata": {},
     "output_type": "execute_result"
    }
   ],
   "source": [
    "g.outputs"
   ]
  },
  {
   "cell_type": "markdown",
   "metadata": {
    "deletable": true,
    "editable": true
   },
   "source": [
    "# Loss, images and optimizer"
   ]
  },
  {
   "cell_type": "code",
   "execution_count": 11,
   "metadata": {
    "collapsed": false,
    "deletable": true,
    "editable": true
   },
   "outputs": [],
   "source": [
    "'''\n",
    "    Name scope is good for graph definition for debugging in TensorBoard\n",
    "'''\n",
    "global_step = tf.Variable(initial_value=0, trainable=False, name='global_step')\n",
    "target = tf.placeholder(tf.float32, [batch_size, None, model.def_input_dim])\n",
    "\n",
    "with tf.name_scope('linear_regression'):    \n",
    "    loss = tf.reduce_sum((g.outputs-target)**2)    \n",
    "    with tf.name_scope('total'):\n",
    "        loss = tf.reduce_mean(loss)\n",
    "\n",
    "with tf.name_scope('visualizer'):\n",
    "    # http://stackoverflow.com/questions/38543850/\n",
    "    def gen_plot(value_to_plot, subplots):\n",
    "        \"\"\"Create a pyplot plot and save to buffer.\"\"\"\n",
    "        x = value_to_plot.squeeze()\n",
    "        fig = plt.figure(1)\n",
    "        plt.clf()\n",
    "        for i in range(subplots):\n",
    "            plt.subplot(subplots, 1, i+1)\n",
    "            plt.plot(x[i])\n",
    "        buf = io.BytesIO()\n",
    "        fig.savefig(buf, dpi=600, format='png')\n",
    "        plt.close(fig)\n",
    "        buf.seek(0)\n",
    "        return buf.getvalue()\n",
    "    \n",
    "    plot_buf_placeholder = tf.placeholder(tf.string, [], 'plot_buf_placeholder')\n",
    "    # Convert PNG buffer to TF image\n",
    "    image = tf.image.decode_png(plot_buf_placeholder, channels=4)\n",
    "    # Add the batch dimension\n",
    "    image = tf.expand_dims(image, 0)\n",
    "        \n",
    "with tf.name_scope('optimizer'):\n",
    "    optimizer = tf.train.AdamOptimizer(learning_rate=learning_rate)\n",
    "    gvs = optimizer.compute_gradients(loss)\n",
    "    with tf.name_scope('gradient_clipping'):\n",
    "        capped_gvs = [(tf.clip_by_value(grad, -grad_clip, grad_clip), var) \n",
    "                      for grad, var in gvs]\n",
    "        \n",
    "    opt = optimizer.apply_gradients(capped_gvs, global_step)"
   ]
  },
  {
   "cell_type": "markdown",
   "metadata": {
    "deletable": true,
    "editable": true
   },
   "source": [
    "# Summaries"
   ]
  },
  {
   "cell_type": "code",
   "execution_count": 12,
   "metadata": {
    "collapsed": false,
    "deletable": true,
    "editable": true
   },
   "outputs": [
    {
     "name": "stdout",
     "output_type": "stream",
     "text": [
      "INFO:tensorflow:Summary name optimizer_1/gradients/LSTM/dynamic_wrapper/rnn/while/multi_rnn_cell/cell_0/basic_lstm_cell/basic_lstm_cell/MatMul/Enter_grad/b_acc_3:0 is illegal; using optimizer_1/gradients/LSTM/dynamic_wrapper/rnn/while/multi_rnn_cell/cell_0/basic_lstm_cell/basic_lstm_cell/MatMul/Enter_grad/b_acc_3_0 instead.\n",
      "INFO:tensorflow:Summary name LSTM/dynamic_wrapper/rnn/multi_rnn_cell/cell_0/basic_lstm_cell/weights:0 is illegal; using LSTM/dynamic_wrapper/rnn/multi_rnn_cell/cell_0/basic_lstm_cell/weights_0 instead.\n",
      "INFO:tensorflow:Summary name optimizer_1/gradients/LSTM/dynamic_wrapper/rnn/while/multi_rnn_cell/cell_0/basic_lstm_cell/BiasAdd/Enter_grad/b_acc_3:0 is illegal; using optimizer_1/gradients/LSTM/dynamic_wrapper/rnn/while/multi_rnn_cell/cell_0/basic_lstm_cell/BiasAdd/Enter_grad/b_acc_3_0 instead.\n",
      "INFO:tensorflow:Summary name LSTM/dynamic_wrapper/rnn/multi_rnn_cell/cell_0/basic_lstm_cell/biases:0 is illegal; using LSTM/dynamic_wrapper/rnn/multi_rnn_cell/cell_0/basic_lstm_cell/biases_0 instead.\n",
      "INFO:tensorflow:Summary name optimizer_1/gradients/fully_connected/fully_connected/MatMul_grad/tuple/control_dependency_1:0 is illegal; using optimizer_1/gradients/fully_connected/fully_connected/MatMul_grad/tuple/control_dependency_1_0 instead.\n",
      "INFO:tensorflow:Summary name fully_connected/fully_connected/weights:0 is illegal; using fully_connected/fully_connected/weights_0 instead.\n",
      "INFO:tensorflow:Summary name optimizer_1/gradients/fully_connected/fully_connected/BiasAdd_grad/tuple/control_dependency_1:0 is illegal; using optimizer_1/gradients/fully_connected/fully_connected/BiasAdd_grad/tuple/control_dependency_1_0 instead.\n",
      "INFO:tensorflow:Summary name fully_connected/fully_connected/biases:0 is illegal; using fully_connected/fully_connected/biases_0 instead.\n",
      "INFO:tensorflow:Summary name optimizer_1/gradients/fully_connected/fully_connected_1/MatMul_grad/tuple/control_dependency_1:0 is illegal; using optimizer_1/gradients/fully_connected/fully_connected_1/MatMul_grad/tuple/control_dependency_1_0 instead.\n",
      "INFO:tensorflow:Summary name fully_connected/fully_connected_1/weights:0 is illegal; using fully_connected/fully_connected_1/weights_0 instead.\n",
      "INFO:tensorflow:Summary name optimizer_1/gradients/fully_connected/fully_connected_1/BiasAdd_grad/tuple/control_dependency_1:0 is illegal; using optimizer_1/gradients/fully_connected/fully_connected_1/BiasAdd_grad/tuple/control_dependency_1_0 instead.\n",
      "INFO:tensorflow:Summary name fully_connected/fully_connected_1/biases:0 is illegal; using fully_connected/fully_connected_1/biases_0 instead.\n"
     ]
    }
   ],
   "source": [
    "summaries = tf.summary.merge([\n",
    "    [(tf.summary.histogram(grad.name, grad), \n",
    "      tf.summary.histogram(var.name, var)) \n",
    "     for grad, var in gvs],\n",
    "    tf.summary.scalar('loss', loss)\n",
    "])\n",
    "im_sum = tf.summary.image('generated', image, max_outputs=10)"
   ]
  },
  {
   "cell_type": "markdown",
   "metadata": {
    "deletable": true,
    "editable": true
   },
   "source": [
    "# Train test"
   ]
  },
  {
   "cell_type": "code",
   "execution_count": null,
   "metadata": {
    "collapsed": false,
    "deletable": true,
    "editable": true
   },
   "outputs": [
    {
     "name": "stdout",
     "output_type": "stream",
     "text": [
      "/tmp/model/1200rnn128--fc64---2017-03-02--04-00-18\n"
     ]
    }
   ],
   "source": [
    "sess = tf.InteractiveSession()\n",
    "writer = tf.summary.FileWriter(\n",
    "    g.get_checkpoint_path(), graph=sess.graph)\n",
    "print(writer.get_logdir())\n",
    "saver = tf.train.Saver(keep_checkpoint_every_n_hours=1)\n",
    "tf.global_variables_initializer().run()"
   ]
  },
  {
   "cell_type": "code",
   "execution_count": null,
   "metadata": {
    "collapsed": false,
    "deletable": true,
    "editable": true
   },
   "outputs": [
    {
     "name": "stdout",
     "output_type": "stream",
     "text": [
      "16800 val/sec: 916\t it: 00000 sample_time: 30.146sec loss: 50.942154\n",
      "\n",
      "Model checkpoint saved to:\n",
      " /tmp/model/1200rnn128--fc64---2017-03-02--04-00-18/saver-16\n",
      "16800 val/sec: 8887\t it: 00001 sample_time: 28.901sec loss: 41.299965\n",
      "14400 val/sec: 1304\t it: 00002 sample_time: 24.930sec loss: 49.153427\n",
      "07200 val/sec: 9691\t it: 00003 sample_time: 14.184sec loss: 65.822708\n",
      "14400 val/sec: 9704"
     ]
    }
   ],
   "source": [
    "for i, batch in enumerate(feeder):\n",
    "    state = sess.run(g.zero_state)\n",
    "    x_feed, label_feed, lens_feed = batch\n",
    "    target_feed = np.roll(x_feed, 1) \n",
    "    \n",
    "    start_time = time.time()\n",
    "    for idx in range(0, lens_feed.max(), g.time_steps):\n",
    "        data_window = x_feed[:, idx:idx+g.time_steps]\n",
    "        target_window = target_feed[:, idx:idx+g.time_steps]\n",
    "        lens_window = lens_feed-idx\n",
    "        \n",
    "        feed_dict = {\n",
    "            g.x:data_window,\n",
    "            g.init_state:state,\n",
    "            g.seq_len:lens_window,\n",
    "            target:target_window\n",
    "        }\n",
    "        \n",
    "        if idx == 0: init_feed_dict = feed_dict\n",
    "        \n",
    "        fetch_dict = {\n",
    "            'opt' : opt,\n",
    "            'step' : global_step,\n",
    "            'loss' : loss,\n",
    "            'state' : g.rnn_last_states\n",
    "        }\n",
    "        start_window_time = time.time()\n",
    "        fetch = sess.run(fetch_dict, feed_dict)\n",
    "        window_time = time.time() - start_window_time\n",
    "        valpsec = g.time_steps / window_time\n",
    "        state = fetch['state']\n",
    "        \n",
    "        if idx % (2 * g.time_steps) == 0:\n",
    "            sum_eval = sess.run(summaries, feed_dict)\n",
    "            writer.add_summary(summary=sum_eval, global_step=fetch['step'])\n",
    "            print('\\r%05d val/sec: %d'%(idx, valpsec), end='', flush=True)\n",
    "            \n",
    "    sample_time = time.time() - start_time\n",
    "    print('\\t it: %05d sample_time: %03.3fsec loss: %f'%(i, sample_time, fetch['loss']))\n",
    "    outputs = g.outputs.eval(init_feed_dict)\n",
    "    plot = gen_plot(outputs, 3)\n",
    "    feed_dict[plot_buf_placeholder] = plot\n",
    "    writer.add_summary(im_sum.eval(feed_dict), global_step=fetch['step'])\n",
    "    \n",
    "    \n",
    "    if i%20 == 0: \n",
    "        path = saver.save(sess, g.get_checkpoint_path()+'/saver', fetch['step'])\n",
    "        print('\\nModel checkpoint saved to:\\n', path)\n",
    "    \n",
    "        "
   ]
  },
  {
   "cell_type": "code",
   "execution_count": 11,
   "metadata": {
    "collapsed": false
   },
   "outputs": [
    {
     "data": {
      "text/plain": [
       "'/tmp/model/1200rnn128--fc64---2017-03-02--02-55-04'"
      ]
     },
     "execution_count": 11,
     "metadata": {},
     "output_type": "execute_result"
    }
   ],
   "source": [
    "g.get_checkpoint_path()"
   ]
  },
  {
   "cell_type": "code",
   "execution_count": 8,
   "metadata": {
    "collapsed": false,
    "deletable": true,
    "editable": true
   },
   "outputs": [
    {
     "data": {
      "text/plain": [
       "3.0032777786254883"
      ]
     },
     "execution_count": 8,
     "metadata": {},
     "output_type": "execute_result"
    }
   ],
   "source": [
    "t = time.time()\n",
    "time.sleep(3)\n",
    "t = time.time() - t\n",
    "t"
   ]
  },
  {
   "cell_type": "code",
   "execution_count": 18,
   "metadata": {
    "collapsed": false
   },
   "outputs": [
    {
     "data": {
      "image/png": "[encoded data removed]",
      "text/plain": [
       "<matplotlib.figure.Figure at 0x7fcb95f5ba20>"
      ]
     },
     "metadata": {},
     "output_type": "display_data"
    }
   ],
   "source": [
    "plt.clf()\n",
    "plt.show(plt.plot(np.ones((4, 10))))"
   ]
  },
  {
   "cell_type": "code",
   "execution_count": null,
   "metadata": {
    "collapsed": true
   },
   "outputs": [],
   "source": []
  }
 ],
 "metadata": {
  "kernelspec": {
   "display_name": "Python 3",
   "language": "python",
   "name": "python3"
  },
  "language_info": {
   "codemirror_mode": {
    "name": "ipython",
    "version": 3
   },
   "file_extension": ".py",
   "mimetype": "text/x-python",
   "name": "python",
   "nbconvert_exporter": "python",
   "pygments_lexer": "ipython3",
   "version": "3.5.2"
  }
 },
 "nbformat": 4,
 "nbformat_minor": 2
}
