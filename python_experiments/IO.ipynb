{
 "cells": [
  {
   "cell_type": "code",
   "execution_count": 10,
   "metadata": {
    "collapsed": false,
    "deletable": true,
    "editable": true
   },
   "outputs": [],
   "source": [
    "import numpy\n",
    "import tensorflow as tf\n",
    "import scipy.io as io\n",
    "import matplotlib.pyplot as plt\n",
    "\n",
    "%matplotlib inline\n",
    "\n",
    "label_dict = {\n",
    "    'N':0,\n",
    "    'A':1,\n",
    "    'O':2,\n",
    "    '~':3\n",
    "}"
   ]
  },
  {
   "cell_type": "code",
   "execution_count": 56,
   "metadata": {
    "collapsed": false,
    "deletable": true,
    "editable": true
   },
   "outputs": [],
   "source": [
    "#%%prun\n",
    "data = []\n",
    "label = []\n",
    "lens = []\n",
    "\n",
    "annotations = open('./training2017/REFERENCE.csv', 'r').read().splitlines()\n",
    "for line in annotations:\n",
    "    fname, label_str = line.split(',')\n",
    "    \n",
    "    x = io.loadmat('./training2017/'+fname+'.mat')['val'].squeeze()\n",
    "    data.append(x)\n",
    "    \n",
    "    y = label_dict[label_str]\n",
    "    label.append(y)\n",
    "    \n",
    "    lens.append(len(x))\n",
    "    \n",
    "assert(len(label) == len(data))"
   ]
  },
  {
   "cell_type": "code",
   "execution_count": 57,
   "metadata": {
    "collapsed": false
   },
   "outputs": [
    {
     "data": {
      "text/plain": [
       "(array([  319.,   260.,   218.,   168.,  6284.,   150.,    93.,    69.,\n",
       "           48.,   919.]),\n",
       " array([  2714. ,   4271.2,   5828.4,   7385.6,   8942.8,  10500. ,\n",
       "         12057.2,  13614.4,  15171.6,  16728.8,  18286. ]),\n",
       " <a list of 10 Patch objects>)"
      ]
     },
     "execution_count": 57,
     "metadata": {},
     "output_type": "execute_result"
    },
    {
     "data": {
      "image/png": "[encoded data removed]",
      "text/plain": [
       "<matplotlib.figure.Figure at 0x7fba0bbb9240>"
      ]
     },
     "metadata": {},
     "output_type": "display_data"
    }
   ],
   "source": [
    "plt.hist(lens)"
   ]
  },
  {
   "cell_type": "markdown",
   "metadata": {},
   "source": [
    "# TFRecords\n",
    "\n",
    "## Write"
   ]
  },
  {
   "cell_type": "code",
   "execution_count": 47,
   "metadata": {
    "collapsed": true
   },
   "outputs": [],
   "source": [
    "def make_example(sequence, label):\n",
    "    # The object we return\n",
    "    ex = tf.train.SequenceExample()\n",
    "    # A non-sequential feature of our example\n",
    "    sequence_length = len(sequence)\n",
    "    ex.context.feature['length'].int64_list.value.append(sequence_length)\n",
    "    ex.context.feature['label'].int64_list.value.append(label)\n",
    "    \n",
    "    '''\n",
    "    This is not working for some reason...\n",
    "    ex.feature_lists\\\n",
    "        .feature_list['tokens']\\\n",
    "        .feature.add()\\\n",
    "        .int64_list.value.extend(sequence)\n",
    "    '''\n",
    "    fl_val = ex.feature_lists.feature_list['val']\n",
    "    for token in sequence:\n",
    "        fl_val.feature.add().float_list.value.append(token)\n",
    "\n",
    "    return ex"
   ]
  },
  {
   "cell_type": "code",
   "execution_count": 48,
   "metadata": {
    "collapsed": true
   },
   "outputs": [],
   "source": [
    "def write_TFRecord(data, label, fname='train'):\n",
    "    with open(fname + '.TFRecord', 'w') as fp:\n",
    "        writer = tf.python_io.TFRecordWriter(fp.name)\n",
    "        print('Sampling...')\n",
    "        for i, (x, y) in enumerate(zip(data, label)):\n",
    "            ex = make_example(x, y)\n",
    "            \n",
    "            writer.write(ex.SerializeToString())\n",
    "            print('\\r%05d'%i, end=' ', flush=True)\n",
    "        writer.close()\n",
    "        print(\"\\nWrote to {}\".format(fp.name))"
   ]
  },
  {
   "cell_type": "code",
   "execution_count": 49,
   "metadata": {
    "collapsed": false
   },
   "outputs": [
    {
     "name": "stdout",
     "output_type": "stream",
     "text": [
      "Sampling...\n",
      "08527                                                         \n",
      "Wrote to train.TFRecord\n"
     ]
    }
   ],
   "source": [
    "write_TFRecord(data, label)"
   ]
  },
  {
   "cell_type": "markdown",
   "metadata": {},
   "source": [
    "## Read"
   ]
  },
  {
   "cell_type": "code",
   "execution_count": 59,
   "metadata": {
    "collapsed": true
   },
   "outputs": [],
   "source": [
    "def parse_TFRecords_example(filename_queue):\n",
    "    # Define how to parse the example\n",
    "    \n",
    "    reader = tf.TFRecordReader()\n",
    "    _, example = reader.read(filename_queue)\n",
    "    \n",
    "    context_features = {\n",
    "        'length': tf.FixedLenFeature([1], dtype=tf.int64),\n",
    "        'label': tf.FixedLenFeature([1], dtype=tf.int64)\n",
    "    }\n",
    "    sequence_features = {\n",
    "        'val': tf.FixedLenSequenceFeature([], dtype=tf.float32)\n",
    "    }\n",
    "    context_parsed, sequence_parsed = tf.parse_single_sequence_example(\n",
    "        serialized=example,\n",
    "        context_features=context_features,\n",
    "        sequence_features=sequence_features\n",
    "    )\n",
    "    return context_parsed, sequence_parsed\n",
    "parse_example = parse_TFRecords_example"
   ]
  },
  {
   "cell_type": "markdown",
   "metadata": {},
   "source": [
    "# Tensorflow fetcher"
   ]
  },
  {
   "cell_type": "code",
   "execution_count": 60,
   "metadata": {
    "collapsed": false
   },
   "outputs": [],
   "source": [
    "#%%prun\n",
    "filename_queue = tf.train.string_input_producer(['train.TFRecord'])\n",
    "cont, seq = parse_example(filename_queue)\n",
    "\n",
    "res = []\n",
    "with tf.Session() as sess:\n",
    "    \n",
    "    coord = tf.train.Coordinator()\n",
    "    \n",
    "    sess.run(tf.global_variables_initializer())\n",
    "    threads = tf.train.start_queue_runners(sess=sess, coord=coord)\n",
    "    \n",
    "    \n",
    "    for i in range(5): \n",
    "        res.append(cont['length'].eval())\n",
    "        #print(res)\n",
    "    coord.request_stop()\n",
    "    coord.join(threads)\n",
    "    sess.close()"
   ]
  }
 ],
 "metadata": {
  "kernelspec": {
   "display_name": "Python 3",
   "language": "python",
   "name": "python3"
  },
  "language_info": {
   "codemirror_mode": {
    "name": "ipython",
    "version": 3
   },
   "file_extension": ".py",
   "mimetype": "text/x-python",
   "name": "python",
   "nbconvert_exporter": "python",
   "pygments_lexer": "ipython3",
   "version": "3.5.2"
  }
 },
 "nbformat": 4,
 "nbformat_minor": 2
}
