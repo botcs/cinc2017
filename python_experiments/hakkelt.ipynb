{
 "cells": [
  {
   "cell_type": "markdown",
   "metadata": {
    "deletable": true,
    "editable": true
   },
   "source": [
    "# Save and load data\n",
    "## read_mat_data: Loads a single .mat file\n",
    " - Input: path of file\n",
    " - Output: numpy.ndarray"
   ]
  },
  {
   "cell_type": "code",
   "execution_count": 1,
   "metadata": {
    "collapsed": true,
    "deletable": true,
    "editable": true
   },
   "outputs": [],
   "source": [
    "def read_mat_data(recordName):\n",
    "    import scipy.io\n",
    "    return scipy.io.loadmat(recordName)['val'][0]"
   ]
  },
  {
   "cell_type": "markdown",
   "metadata": {
    "deletable": true,
    "editable": true
   },
   "source": [
    "## split_data: split record at heart beats\n",
    "It finds R peaks and splits recording at R peaks to get a list of recording of single heart beats"
   ]
  },
  {
   "cell_type": "code",
   "execution_count": 2,
   "metadata": {
    "collapsed": true,
    "deletable": true,
    "editable": true
   },
   "outputs": [],
   "source": [
    "def split_data(input):\n",
    "    import numpy as np\n",
    "    import rpeakdetect as rpd # detecting beats (R peak) (https://github.com/tru-hy/rpeakdetect)\n",
    "    peaks = rpd.detect_beats(input, 300)\n",
    "    return np.split(mat, peaks)"
   ]
  },
  {
   "cell_type": "markdown",
   "metadata": {
    "collapsed": true,
    "deletable": true,
    "editable": true
   },
   "source": [
    "## read_class: Read annotation for recordings\n",
    "It loads class names for each recordings and returns a dict that has keys of filenames and values of names of classes"
   ]
  },
  {
   "cell_type": "code",
   "execution_count": 3,
   "metadata": {
    "collapsed": true,
    "deletable": true,
    "editable": true
   },
   "outputs": [],
   "source": [
    "def read_class():\n",
    "    import csv\n",
    "    reader = csv.reader( open(\"REFERENCE.csv\") )\n",
    "    classNames = {}\n",
    "    for row in reader:\n",
    "        classNames[ row[0] ] = row[1]\n",
    "    return classNames"
   ]
  },
  {
   "cell_type": "markdown",
   "metadata": {
    "deletable": true,
    "editable": true
   },
   "source": [
    "## read_pkl_data: Loads preprepared data file"
   ]
  },
  {
   "cell_type": "code",
   "execution_count": 4,
   "metadata": {
    "collapsed": true,
    "deletable": true,
    "editable": true
   },
   "outputs": [],
   "source": [
    "def read_pkl_data():\n",
    "    import pickle\n",
    "    with open(\"data.pkl\", \"rb\") as f:\n",
    "        return pickle.load(f)"
   ]
  },
  {
   "cell_type": "markdown",
   "metadata": {
    "deletable": true,
    "editable": true
   },
   "source": [
    "## convert: Combine .mat and csv files into a single pickle file\n",
    "It loads all recordings and their annotation (names of classes: N, A, O, ~), stores in a dict that has keys of class names and values of list of corresponding recordings and saves in a pickle file"
   ]
  },
  {
   "cell_type": "code",
   "execution_count": 5,
   "metadata": {
    "collapsed": false,
    "deletable": true,
    "editable": true
   },
   "outputs": [],
   "source": [
    "def convert():\n",
    "    import pickle\n",
    "    import glob, os # listing all files\n",
    "    os.chdir(\"training2017/\")\n",
    "    files = glob.glob(\"*.mat\")\n",
    "\n",
    "    classNames = read_class()\n",
    "    data = {}\n",
    "    data[\"N\"] = data[\"A\"] = data[\"O\"] = data[\"~\"] = []\n",
    "\n",
    "    for i, file in enumerate(files):\n",
    "        data[ classNames[ os.path.splitext(file)[0] ] ].append( read_mat_data(file) )\n",
    "        print( i+1, len(files) )\n",
    "\n",
    "    os.chdir(\"../\")\n",
    "    pickle.dump( data, open( \"data.pkl\", \"wb\" ) )"
   ]
  },
  {
   "cell_type": "markdown",
   "metadata": {
    "deletable": true,
    "editable": true
   },
   "source": [
    "# SQL database"
   ]
  },
  {
   "cell_type": "markdown",
   "metadata": {
    "deletable": true,
    "editable": true
   },
   "source": [
    "## save2db: save .mat files merged with content of the csv file to an sqLite3 database\n",
    "Database is needed for visualisation of recordings for manual classification"
   ]
  },
  {
   "cell_type": "code",
   "execution_count": 6,
   "metadata": {
    "collapsed": false,
    "deletable": true,
    "editable": true
   },
   "outputs": [],
   "source": [
    "def save2db():\n",
    "    import sqlite3, os, csv, scipy.io\n",
    "    conn = sqlite3.connect('AFchallenge')\n",
    "    c = conn.cursor()\n",
    "    c.execute(\"DELETE FROM recordings\")\n",
    "    os.chdir(\"training2017/\")\n",
    "    reader = csv.reader( open(\"REFERENCE.csv\") )\n",
    "    \n",
    "    data = []\n",
    "    for i,row in enumerate(reader):\n",
    "        recording = scipy.io.loadmat(row[0] + \".mat\")['val'][0]\n",
    "        data.append((\",\".join(map(str,recording)),\n",
    "                     \"official\", \n",
    "                     row[1], \n",
    "                     row[0]))\n",
    "        print(i)\n",
    "    c.executemany(\n",
    "        \"INSERT INTO recordings (data, source, class, name) VALUES (?, ?, ?, ?)\", data)\n",
    "    conn.commit()\n",
    "    os.chdir(\"../\")"
   ]
  },
  {
   "cell_type": "markdown",
   "metadata": {
    "deletable": true,
    "editable": true
   },
   "source": [
    "## sqlQuery: add or get data from database on the server 'users'\n",
    "e.g. sending the classification result of our neural network upon the class of a given recording: *UPDATE recordings SET machine_guess = \"N\" WHERE name = \"A00002\"*\n",
    " - Input: SQL statement\n",
    " - Output: list of dictionaries containing result of the query (dictionaries of list are the rows of result, keys of dictionaries are names of selected attributes of the query)"
   ]
  },
  {
   "cell_type": "code",
   "execution_count": 7,
   "metadata": {
    "collapsed": true,
    "deletable": true,
    "editable": true
   },
   "outputs": [],
   "source": [
    "def sqlQuery(sql):\n",
    "    import requests\n",
    "    r = requests.post(\"https://users.itk.ppke.hu/~hakta/challenge/query.php\", \n",
    "                      data = {'password': \"qVK0fFt6zKLH{6T\", 'sql': sql})\n",
    "    if r.status_code != requests.codes.ok:\n",
    "        raise Exception(\"ERROR \" + str(r.status_code) + \": \" + r.reason)\n",
    "    else:\n",
    "        try:\n",
    "            resp = r.json()\n",
    "            if resp[\"error\"] != \"OK\":\n",
    "                raise Exception(resp[\"error\"][2])\n",
    "            return resp[\"data\"]\n",
    "        except ValueError:\n",
    "            print(r.text)"
   ]
  },
  {
   "cell_type": "code",
   "execution_count": 8,
   "metadata": {
    "collapsed": true,
    "deletable": true,
    "editable": true
   },
   "outputs": [],
   "source": [
    "# sqlQuery(\"SELECT * FROM recordings WHERE rec_ID = 2 OR rec_ID = 1\") # Example"
   ]
  },
  {
   "cell_type": "markdown",
   "metadata": {
    "deletable": true,
    "editable": true
   },
   "source": [
    "# Resampling - Augmentation"
   ]
  },
  {
   "cell_type": "markdown",
   "metadata": {
    "deletable": true,
    "editable": true
   },
   "source": [
    "## resample: streches the recording by on timescale resampling it"
   ]
  },
  {
   "cell_type": "code",
   "execution_count": 9,
   "metadata": {
    "collapsed": true,
    "deletable": true,
    "editable": true
   },
   "outputs": [],
   "source": [
    "from scipy import signal\n",
    "def resample(data, old_to_new_ratio):\n",
    "    return signal.resample(data, round(len(data)/old_to_new_ratio))"
   ]
  },
  {
   "cell_type": "markdown",
   "metadata": {
    "deletable": true,
    "editable": true
   },
   "source": [
    "# Visualization"
   ]
  },
  {
   "cell_type": "markdown",
   "metadata": {
    "deletable": true,
    "editable": true
   },
   "source": [
    "## plot: plotting a line chart with real time axis"
   ]
  },
  {
   "cell_type": "code",
   "execution_count": 10,
   "metadata": {
    "collapsed": true,
    "deletable": true,
    "editable": true
   },
   "outputs": [],
   "source": [
    "#import pandas\n",
    "#%matplotlib inline\n",
    "import matplotlib.pyplot as plt\n",
    "\n",
    "def plot(sample):\n",
    "    x = np.linspace(0, len(sample)/300, len(sample), endpoint=False)\n",
    "    y = sample\n",
    "    plt.plot(x, y)"
   ]
  },
  {
   "cell_type": "markdown",
   "metadata": {
    "deletable": true,
    "editable": true
   },
   "source": [
    "## Example code on visualizing data and its augmentation"
   ]
  },
  {
   "cell_type": "code",
   "execution_count": 11,
   "metadata": {
    "collapsed": false,
    "deletable": true,
    "editable": true
   },
   "outputs": [
    {
     "data": {
      "image/png": "[encoded data removed]",
      "text/plain": [
       "<matplotlib.figure.Figure at 0x1a876f220f0>"
      ]
     },
     "metadata": {},
     "output_type": "display_data"
    }
   ],
   "source": [
    "import matplotlib.pyplot as plt\n",
    "import numpy as np\n",
    "data = read_pkl_data()\n",
    "example = data[\"N\"][1][500:1000]\n",
    "plt.figure(1)\n",
    "plot(example)\n",
    "plt.figure(1)\n",
    "plot(resample(example, 1.5))\n",
    "plt.show()"
   ]
  }
 ],
 "metadata": {
  "kernelspec": {
   "display_name": "Python 3",
   "language": "python",
   "name": "python3"
  },
  "language_info": {
   "codemirror_mode": {
    "name": "ipython",
    "version": 3
   },
   "file_extension": ".py",
   "mimetype": "text/x-python",
   "name": "python",
   "nbconvert_exporter": "python",
   "pygments_lexer": "ipython3",
   "version": "3.5.0"
  }
 },
 "nbformat": 4,
 "nbformat_minor": 2
}
