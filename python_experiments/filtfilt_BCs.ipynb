{
 "cells": [
  {
   "cell_type": "code",
   "execution_count": 1,
   "metadata": {
    "collapsed": true
   },
   "outputs": [],
   "source": [
    "import tensorflow as tf\n",
    "import numpy as np"
   ]
  },
  {
   "cell_type": "markdown",
   "metadata": {},
   "source": [
    "# Filt-Filt operation definition\n",
    "\n",
    "- FeedBack filter components `[M]`:   $A = a_0, a_1, a_2 \\dots a_M$, where $a_0 = 0$ by definition\n",
    "- FeedForward filter components`[N]`:   $B = b_0, b_1, b_2 \\dots b_N$\n",
    "\n",
    "```\n",
    "y(t) = x(t)*b(0) + x(t-1)*b(1) + x(t-2)*b(2) ... x(t-M)*b(N)\n",
    "                 - y(t-1)*a(1) - y(t-2)*a(2) ... y(t-N)*a(M)\n",
    "```\n",
    "\n",
    "$$\n",
    "y_t = \\sum_{i=0}^{N} x_{t-i} \\cdot b_{i} - \\sum_{i=1}^{M} y_{t-i} \\cdot a_{i}\n",
    "$$\n",
    "\n",
    "\n",
    "```\n",
    "y(t) = x[t-N : t] * b[::-1] - y[t-M : t-1] * a[::-1]\n",
    "```\n",
    "\n",
    "for faster computation let $s$ be $s := x \\ast b$, where $\\ast$ is the convolution operator, since all values of $x$ is known at computation time\n",
    "\n",
    "```\n",
    "y(t) = h[t-N : t] - y[y-t : t-1] * a[::-1]\n",
    "```\n"
   ]
  },
  {
   "cell_type": "code",
   "execution_count": 4,
   "metadata": {
    "collapsed": true
   },
   "outputs": [],
   "source": [
    "def resetSession():\n",
    "    tf.reset_default_graph()\n",
    "    sess = tf.InteractiveSession()\n",
    "    return sess"
   ]
  },
  {
   "cell_type": "code",
   "execution_count": 38,
   "metadata": {},
   "outputs": [],
   "source": [
    "sess = resetSession()\n",
    "# Input\n",
    "x = tf.placeholder(tf.float32, shape=[None], name='x_vector')\n",
    "\n",
    "# Feedback filter\n",
    "a = tf.placeholder(tf.float32, shape=[None], name='a_vector')\n",
    "# Feedforward filter\n",
    "b = tf.placeholder(tf.float32, shape=[None], name='b_vector')\n",
    "\n",
    "# Support vector\n",
    "# Default convolution works like this\n",
    "# [... 1  2  3  4  5...]\n",
    "#      *  *  *  *  *\n",
    "# [    a  b  c  e  f    ]\n",
    "#            +\n",
    "#         result\n",
    "\n",
    "# But this time we need the rightmost value as a result\n",
    "# [... 1  2  3  4  5...]\n",
    "#      *  *  *  *  *\n",
    "# [    a  b  c  e  f    ]\n",
    "#                  +\n",
    "#               result\n",
    "#\n",
    "# So we use padding like a Jedi, and use VALID convolution\n",
    "x_padded = tf.pad(x, [[tf.shape(b)[0]-1, tf.shape(b)[0]-1]])\n",
    "\n",
    "# value[None, :, None] stands for [Batch, Sample, Channels]\n",
    "# In the basic example Batch = Channel = 1\n",
    "# filters[::-1, None, None] stands for [Filter_size(inverted), In_size, Out_size]\n",
    "# In the basic example In_size = Out_size = 1\n",
    "s = tf.nn.conv1d(value=x_padded[None, :, None], filters=b[::-1, None, None], stride=1, padding='VALID')\n",
    "s = tf.squeeze(s, name='s_vector')"
   ]
  },
  {
   "cell_type": "code",
   "execution_count": 48,
   "metadata": {},
   "outputs": [
    {
     "data": {
      "text/plain": [
       "array([ 0.,  1.,  2.,  3.,  4.,  0.], dtype=float32)"
      ]
     },
     "execution_count": 48,
     "metadata": {},
     "output_type": "execute_result"
    }
   ],
   "source": [
    "x_test = list(range(1, 5))\n",
    "b_test = [0, 1, 0]\n",
    "s.eval({x:x_test, b:b_test})"
   ]
  },
  {
   "cell_type": "code",
   "execution_count": 49,
   "metadata": {},
   "outputs": [
    {
     "data": {
      "text/plain": [
       "array([ 0.,  0.,  1.,  2.,  3.,  4.], dtype=float32)"
      ]
     },
     "execution_count": 49,
     "metadata": {},
     "output_type": "execute_result"
    }
   ],
   "source": [
    "# Watch out, the filter is now inverted\n",
    "b_test = [0, 0, 1]\n",
    "s.eval({x:x_test, b:b_test})"
   ]
  },
  {
   "cell_type": "code",
   "execution_count": 50,
   "metadata": {},
   "outputs": [
    {
     "data": {
      "text/plain": [
       "array([ 1.,  2.,  3.,  4.,  0.,  0.], dtype=float32)"
      ]
     },
     "execution_count": 50,
     "metadata": {},
     "output_type": "execute_result"
    }
   ],
   "source": [
    "b_test = [1, 0, 0]\n",
    "s.eval({x:x_test, b:b_test})"
   ]
  },
  {
   "cell_type": "code",
   "execution_count": null,
   "metadata": {
    "collapsed": true
   },
   "outputs": [],
   "source": [
    "# Output\n"
   ]
  }
 ],
 "metadata": {
  "kernelspec": {
   "display_name": "Python 3",
   "language": "python",
   "name": "python3"
  },
  "language_info": {
   "codemirror_mode": {
    "name": "ipython",
    "version": 3
   },
   "file_extension": ".py",
   "mimetype": "text/x-python",
   "name": "python",
   "nbconvert_exporter": "python",
   "pygments_lexer": "ipython3",
   "version": "3.4.3"
  }
 },
 "nbformat": 4,
 "nbformat_minor": 2
}
