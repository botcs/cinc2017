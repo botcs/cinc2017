{
 "cells": [
  {
   "cell_type": "code",
   "execution_count": 149,
   "metadata": {
    "collapsed": false,
    "deletable": true,
    "editable": true
   },
   "outputs": [],
   "source": [
    "import numpy as np\n",
    "annot_lines = open('./raw/REFERENCE.csv', 'r').read().splitlines()\n",
    "np.random.shuffle(annot_lines)\n",
    "annot_dict = {s:s.split(',')[1] for s in annot_lines}"
   ]
  },
  {
   "cell_type": "code",
   "execution_count": 150,
   "metadata": {
    "collapsed": false,
    "deletable": true,
    "editable": true
   },
   "outputs": [],
   "source": [
    "index_dict = {\n",
    "        'N':[],\n",
    "        'A':[],\n",
    "        'O':[],\n",
    "        '~':[]\n",
    "}\n",
    "for idx, line in enumerate(annot_lines):\n",
    "    index_dict[annot_dict[line]].append(idx)\n",
    "    "
   ]
  },
  {
   "cell_type": "code",
   "execution_count": 151,
   "metadata": {
    "collapsed": false,
    "deletable": true,
    "editable": true
   },
   "outputs": [
    {
     "name": "stdout",
     "output_type": "stream",
     "text": [
      "~ 46\n",
      "A 771\n",
      "N 5154\n",
      "O 2557\n"
     ]
    },
    {
     "data": {
      "text/plain": [
       "[None, None, None, None]"
      ]
     },
     "execution_count": 151,
     "metadata": {},
     "output_type": "execute_result"
    }
   ],
   "source": [
    "list(map(lambda x: print(x[0], len(x[1])), index_dict.items()))"
   ]
  },
  {
   "cell_type": "markdown",
   "metadata": {
    "deletable": true,
    "editable": true
   },
   "source": [
    "# Data separation\n",
    "* Train 80% \n",
    "* Validation 10%\n",
    "* Test 10%"
   ]
  },
  {
   "cell_type": "code",
   "execution_count": 152,
   "metadata": {
    "collapsed": false,
    "deletable": true,
    "editable": true
   },
   "outputs": [],
   "source": [
    "TRAIN_P = .8\n",
    "VAL_P = .1\n",
    "TEST_P = .1\n",
    "\n",
    "train_reference = open('raw/TRAIN.csv', 'w')\n",
    "validation_reference = open('raw/VALIDATION.csv', 'w')\n",
    "test_reference = open('raw/TEST.csv', 'w')\n",
    "\n",
    "for idxs in index_dict.values():\n",
    "    l = len(idxs)\n",
    "    train_reference.writelines(\n",
    "        '%s\\n'%annot_lines[i] for i in idxs[:int(l*TRAIN_P)])\n",
    "    validation_reference.writelines(\n",
    "        '%s\\n'%annot_lines[i] for i in idxs[int(l*TRAIN_P):int(l*(TRAIN_P+VAL_P))])\n",
    "    test_reference.writelines(\n",
    "        '%s\\n'%annot_lines[i] for i in idxs[int(l*(TRAIN_P+VAL_P)):])\n",
    "        "
   ]
  },
  {
   "cell_type": "code",
   "execution_count": 153,
   "metadata": {
    "collapsed": false,
    "deletable": true,
    "editable": true
   },
   "outputs": [
    {
     "data": {
      "text/plain": [
       "['A05056,O\\n',\n",
       " 'A01635,O\\n',\n",
       " 'A04130,O\\n',\n",
       " 'A04384,O\\n',\n",
       " 'A03970,O\\n',\n",
       " 'A07348,O\\n',\n",
       " 'A03015,O\\n',\n",
       " 'A06826,O\\n',\n",
       " 'A02696,O\\n',\n",
       " 'A07018,O\\n']"
      ]
     },
     "execution_count": 153,
     "metadata": {},
     "output_type": "execute_result"
    }
   ],
   "source": [
    "['%s\\n'%annot_lines[i] for i in idxs[:int(l*TRAIN_P)]][-10:]"
   ]
  },
  {
   "cell_type": "markdown",
   "metadata": {
    "deletable": true,
    "editable": true
   },
   "source": [
    "# Validation of the separation"
   ]
  },
  {
   "cell_type": "code",
   "execution_count": 154,
   "metadata": {
    "collapsed": false,
    "deletable": true,
    "editable": true
   },
   "outputs": [],
   "source": [
    "def get_counts(fname):\n",
    "    annot_lines = open(fname, 'r').read().splitlines()\n",
    "    np.random.shuffle(annot_lines)\n",
    "    annot_dict = {s:s.split(',')[1] for s in annot_lines}\n",
    "\n",
    "    index_dict = {\n",
    "            'N':[],\n",
    "            'A':[],\n",
    "            'O':[],\n",
    "            '~':[]\n",
    "    }\n",
    "    for idx, line in enumerate(annot_lines):\n",
    "        index_dict[annot_dict[line]].append(idx)    \n",
    "\n",
    "    print(fname)\n",
    "    for label, idx in index_dict.items():\n",
    "        print(label, len(idx))\n",
    "    print('\\n')\n",
    "    \n",
    "    return np.array([len(idx) for idx in index_dict.values()])"
   ]
  },
  {
   "cell_type": "code",
   "execution_count": 155,
   "metadata": {
    "collapsed": false,
    "deletable": true,
    "editable": true
   },
   "outputs": [
    {
     "name": "stdout",
     "output_type": "stream",
     "text": [
      "raw/REFERENCE.csv\n",
      "~ 46\n",
      "A 771\n",
      "N 5154\n",
      "O 2557\n",
      "\n",
      "\n",
      "raw/TRAIN.csv\n",
      "~ 36\n",
      "A 616\n",
      "N 4123\n",
      "O 2045\n",
      "\n",
      "\n",
      "raw/VALIDATION.csv\n",
      "~ 5\n",
      "A 77\n",
      "N 515\n",
      "O 256\n",
      "\n",
      "\n",
      "raw/TEST.csv\n",
      "~ 5\n",
      "A 78\n",
      "N 516\n",
      "O 256\n",
      "\n",
      "\n",
      "[ 1.  1.  0.  1.]\n",
      "[ 0.  0.  0.  0.]\n",
      "[ 0. -1. -1.  0.]\n"
     ]
    }
   ],
   "source": [
    "orig_count = get_counts('raw/REFERENCE.csv')\n",
    "train_count = get_counts('raw/TRAIN.csv')\n",
    "valid_count = get_counts('raw/VALIDATION.csv')\n",
    "test_count = get_counts('raw/TEST.csv')\n",
    "\n",
    "print(np.round(orig_count*TRAIN_P) - train_count)\n",
    "print(np.round(orig_count*VAL_P) - valid_count)\n",
    "print(np.round(orig_count*TEST_P) - test_count)"
   ]
  },
  {
   "cell_type": "code",
   "execution_count": 159,
   "metadata": {
    "collapsed": true,
    "deletable": true,
    "editable": true
   },
   "outputs": [],
   "source": [
    "noise = open('raw/NOISE_CLASS_REF.csv', 'w')\n",
    "atrium = open('raw/ATRIUM_CLASS_REF.csv', 'w')\n",
    "normal = open('raw/NORMAL_CLASS_REF.csv', 'w')\n",
    "other = open('raw/OTHER_CLASS_REF.csv', 'w')\n",
    "\n",
    "noise.writelines('%s\\n'%annot_lines[i] for i in index_dict['~'])\n",
    "atrium.writelines('%s\\n'%annot_lines[i] for i in index_dict['A'])\n",
    "normal.writelines('%s\\n'%annot_lines[i] for i in index_dict['N'])\n",
    "other.writelines('%s\\n'%annot_lines[i] for i in index_dict['O'])"
   ]
  },
  {
   "cell_type": "code",
   "execution_count": 161,
   "metadata": {
    "collapsed": false
   },
   "outputs": [
    {
     "data": {
      "text/plain": [
       "True"
      ]
     },
     "execution_count": 161,
     "metadata": {},
     "output_type": "execute_result"
    }
   ],
   "source": [
    "type('a') == str"
   ]
  },
  {
   "cell_type": "code",
   "execution_count": null,
   "metadata": {
    "collapsed": true
   },
   "outputs": [],
   "source": [
    "tf."
   ]
  },
  {
   "cell_type": "code",
   "execution_count": null,
   "metadata": {
    "collapsed": true
   },
   "outputs": [],
   "source": []
  }
 ],
 "metadata": {
  "kernelspec": {
   "display_name": "Python 3",
   "language": "python",
   "name": "python3"
  },
  "language_info": {
   "codemirror_mode": {
    "name": "ipython",
    "version": 3
   },
   "file_extension": ".py",
   "mimetype": "text/x-python",
   "name": "python",
   "nbconvert_exporter": "python",
   "pygments_lexer": "ipython3",
   "version": "3.5.3"
  }
 },
 "nbformat": 4,
 "nbformat_minor": 2
}
