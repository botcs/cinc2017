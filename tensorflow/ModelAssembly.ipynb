{
 "cells": [
  {
   "cell_type": "code",
   "execution_count": 1,
   "metadata": {
    "collapsed": false,
    "deletable": true,
    "editable": true
   },
   "outputs": [],
   "source": [
    "import tensorflow as tf\n",
    "import numpy as np\n",
    "\n",
    "import model.cnn as cnn\n",
    "import model.rnn as rnn\n",
    "import model.classifier as classifier\n",
    "\n",
    "import data.ops\n",
    "\n",
    "import time\n",
    "import matplotlib.pyplot as plt\n",
    "%matplotlib inline"
   ]
  },
  {
   "cell_type": "code",
   "execution_count": 2,
   "metadata": {
    "collapsed": false,
    "deletable": true,
    "editable": true
   },
   "outputs": [
    {
     "name": "stdout",
     "output_type": "stream",
     "text": [
      "\n",
      "CNN--cnn512x128-1024x64-1024x32\n",
      "Tensor(\"CNN/conv_module/MaxPool2D/MaxPool:0\", shape=(?, ?, 1, 512), dtype=float32)\n",
      "Tensor(\"CNN/conv_module/MaxPool2D_1/MaxPool:0\", shape=(?, ?, 1, 1024), dtype=float32)\n",
      "Tensor(\"CNN/conv_module/MaxPool2D_2/MaxPool:0\", shape=(?, ?, 1, 1024), dtype=float32)\n",
      "\n",
      "RNN--rnn--steps300--sizes10-10-10\n",
      "LSTMStateTuple(c=<tf.Tensor 'RNN/LSTM/dynamic_wrapper/rnn/while/Exit_2:0' shape=(?, 10) dtype=float32>, h=<tf.Tensor 'RNN/LSTM/dynamic_wrapper/rnn/while/Exit_3:0' shape=(?, 10) dtype=float32>)\n",
      "LSTMStateTuple(c=<tf.Tensor 'RNN/LSTM/dynamic_wrapper/rnn/while/Exit_4:0' shape=(?, 10) dtype=float32>, h=<tf.Tensor 'RNN/LSTM/dynamic_wrapper/rnn/while/Exit_5:0' shape=(?, 10) dtype=float32>)\n",
      "LSTMStateTuple(c=<tf.Tensor 'RNN/LSTM/dynamic_wrapper/rnn/while/Exit_6:0' shape=(?, 10) dtype=float32>, h=<tf.Tensor 'RNN/LSTM/dynamic_wrapper/rnn/while/Exit_7:0' shape=(?, 10) dtype=float32>)\n",
      "\n",
      "FC--fc30-10\n",
      "Tensor(\"classifier/fully_connected/fully_connected/Relu:0\", shape=(?, 30), dtype=float32)\n",
      "Tensor(\"classifier/fully_connected/fully_connected_1/Relu:0\", shape=(?, 10), dtype=float32)\n",
      "Tensor(\"classifier/fully_connected/logits/BiasAdd:0\", shape=(?, 4), dtype=float32)\n",
      "Tensor(\"classifier/pred:0\", shape=(?, 4), dtype=float32)\n"
     ]
    }
   ],
   "source": [
    "batch_size = tf.placeholder_with_default(5, [])\n",
    "input_op, seq_len, label, weight = data.ops.get_batch_ops(batch_size=batch_size, path='./data/small.TFRecord')\n",
    "\n",
    "c = cnn.get_output(seq_len=seq_len, input_op=input_op)\n",
    "r = rnn.get_model(batch_size=batch_size, seq_len=seq_len, input_op=c)\n",
    "logits, pred = classifier.get_logits_and_pred(input_op=r.last_output)"
   ]
  },
  {
   "cell_type": "code",
   "execution_count": 3,
   "metadata": {
    "collapsed": false,
    "deletable": true,
    "editable": true
   },
   "outputs": [],
   "source": [
    "# Test Parameters\n",
    "def measure_time(op):\n",
    "    with tf.Session() as sess:\n",
    "        print('Sess started')\n",
    "        coord = tf.train.Coordinator()\n",
    "        tf.global_variables_initializer().run()\n",
    "        threads = tf.train.start_queue_runners(sess=sess, coord=coord)\n",
    "        \n",
    "        init_state = sess.run(r.zero_state)\n",
    "        feed_dict = {r.init_state : init_state}\n",
    "        print('Evaluating')\n",
    "        for _ in range(10):\n",
    "            t = time.time()\n",
    "            test_output = sess.run(op, feed_dict)\n",
    "            print(_, 'Eval time:', time.time() - t)\n",
    "            \n",
    "        print('Closing threads')\n",
    "        coord.request_stop()\n",
    "        coord.join(threads)\n",
    "        sess.close()\n",
    "\n",
    "        return test_output\n",
    "\n"
   ]
  },
  {
   "cell_type": "code",
   "execution_count": 4,
   "metadata": {
    "collapsed": false,
    "deletable": true,
    "editable": true
   },
   "outputs": [
    {
     "name": "stdout",
     "output_type": "stream",
     "text": [
      "Sess started\n",
      "Evaluating\n",
      "0 Eval time: 2.2510766983032227\n",
      "1 Eval time: 3.191248893737793\n",
      "2 Eval time: 0.4660067558288574\n",
      "3 Eval time: 2.0613129138946533\n",
      "4 Eval time: 0.8968346118927002\n",
      "5 Eval time: 0.8959476947784424\n",
      "6 Eval time: 0.8995277881622314\n",
      "7 Eval time: 0.9530057907104492\n",
      "8 Eval time: 0.612781286239624\n",
      "9 Eval time: 0.8904471397399902\n",
      "Closing threads\n",
      "(5, 18000)\n",
      "(5, 281, 1024)\n",
      "(5, 10)\n",
      "(5, 4)\n"
     ]
    }
   ],
   "source": [
    "for res in measure_time([input_op, c, r.last_output, logits]):\n",
    "    print(res.shape)"
   ]
  },
  {
   "cell_type": "code",
   "execution_count": 6,
   "metadata": {
    "collapsed": false,
    "deletable": true,
    "editable": true
   },
   "outputs": [
    {
     "name": "stdout",
     "output_type": "stream",
     "text": [
      "Sess started\n",
      "Evaluating\n",
      "0 Eval time: 1.776977300643921\n",
      "1 Eval time: 2.253305196762085\n",
      "2 Eval time: 0.25592756271362305\n",
      "3 Eval time: 0.509739875793457\n",
      "4 Eval time: 1.3434457778930664\n",
      "5 Eval time: 0.520338773727417\n",
      "6 Eval time: 0.26862430572509766\n",
      "7 Eval time: 0.5079102516174316\n",
      "8 Eval time: 0.5111587047576904\n",
      "9 Eval time: 0.2695624828338623\n",
      "Closing threads\n"
     ]
    },
    {
     "data": {
      "text/plain": [
       "array([[ 0.25890729,  0.24166726,  0.24019167,  0.2592338 ],\n",
       "       [ 0.26369718,  0.24985258,  0.25308973,  0.23336054],\n",
       "       [ 0.25356928,  0.22728491,  0.28090623,  0.23823956],\n",
       "       [ 0.25      ,  0.25      ,  0.25      ,  0.25      ],\n",
       "       [ 0.24970067,  0.24986887,  0.249942  ,  0.25048843]], dtype=float32)"
      ]
     },
     "execution_count": 6,
     "metadata": {},
     "output_type": "execute_result"
    }
   ],
   "source": [
    "measure_time(pred)"
   ]
  },
  {
   "cell_type": "code",
   "execution_count": 8,
   "metadata": {
    "collapsed": false,
    "deletable": true,
    "editable": true
   },
   "outputs": [
    {
     "name": "stdout",
     "output_type": "stream",
     "text": [
      "Sess started\n",
      "Evaluating\n",
      "0 Eval time: 7.421394109725952\n",
      "1 Eval time: 7.293898105621338\n",
      "2 Eval time: 18.217700242996216\n",
      "3 Eval time: 14.83894681930542\n",
      "4 Eval time: 7.6599202156066895\n",
      "5 Eval time: 7.667870759963989\n",
      "6 Eval time: 11.853241682052612\n",
      "7 Eval time: 7.3040595054626465\n",
      "8 Eval time: 7.190427541732788\n",
      "9 Eval time: 7.439091205596924\n",
      "Closing threads\n"
     ]
    },
    {
     "data": {
      "text/plain": [
       "array([[ 0.23965174,  0.26775464,  0.23852685,  0.2540668 ],\n",
       "       [ 0.25234219,  0.24551241,  0.25425261,  0.24789278],\n",
       "       [ 0.24090105,  0.25122231,  0.25718123,  0.25069538]], dtype=float32)"
      ]
     },
     "execution_count": 8,
     "metadata": {},
     "output_type": "execute_result"
    }
   ],
   "source": [
    "measure_time(pred)"
   ]
  },
  {
   "cell_type": "code",
   "execution_count": null,
   "metadata": {
    "collapsed": true,
    "deletable": true,
    "editable": true
   },
   "outputs": [],
   "source": [
    "multi_times = []\n",
    "for _ in range(5):\n",
    "    conv_times = []\n",
    "    for batch in [2**i for i in range(9)]:\n",
    "        t = measure_conv_time(batch)\n",
    "        print(batch, t)\n",
    "        conv_times.append(t/batch)\n",
    "    multi_times.append(conv_times)"
   ]
  },
  {
   "cell_type": "code",
   "execution_count": 24,
   "metadata": {
    "collapsed": false,
    "deletable": true,
    "editable": true
   },
   "outputs": [
    {
     "data": {
      "text/plain": [
       "[<matplotlib.lines.Line2D at 0x7fd378082160>,\n",
       " <matplotlib.lines.Line2D at 0x7fd378082438>,\n",
       " <matplotlib.lines.Line2D at 0x7fd378082668>,\n",
       " <matplotlib.lines.Line2D at 0x7fd378082898>,\n",
       " <matplotlib.lines.Line2D at 0x7fd378082ac8>]"
      ]
     },
     "execution_count": 24,
     "metadata": {},
     "output_type": "execute_result"
    },
    {
     "data": {
      "image/png": "[encoded data removed]",
      "text/plain": [
       "<matplotlib.figure.Figure at 0x7fd37814f438>"
      ]
     },
     "metadata": {},
     "output_type": "display_data"
    }
   ],
   "source": [
    "np_multi_times = np.array(multi_times).T\n",
    "plt.plot(np_multi_times)"
   ]
  },
  {
   "cell_type": "code",
   "execution_count": 6,
   "metadata": {
    "collapsed": false,
    "deletable": true,
    "editable": true
   },
   "outputs": [
    {
     "data": {
      "text/plain": [
       "array([[ 0.24823149,  0.26793534,  0.2448772 ,  0.238956  ],\n",
       "       [ 0.24495746,  0.26279256,  0.26794887,  0.22430106],\n",
       "       [ 0.22878198,  0.25089762,  0.28999823,  0.23032229],\n",
       "       [ 0.24629396,  0.23979738,  0.26271954,  0.25118902],\n",
       "       [ 0.2437077 ,  0.25369841,  0.2505379 ,  0.252056  ]], dtype=float32)"
      ]
     },
     "execution_count": 6,
     "metadata": {},
     "output_type": "execute_result"
    }
   ],
   "source": [
    "test_output"
   ]
  },
  {
   "cell_type": "code",
   "execution_count": null,
   "metadata": {
    "collapsed": true,
    "deletable": true,
    "editable": true
   },
   "outputs": [],
   "source": []
  },
  {
   "cell_type": "markdown",
   "metadata": {
    "deletable": true,
    "editable": true
   },
   "source": [
    "# CNN inspection"
   ]
  },
  {
   "cell_type": "code",
   "execution_count": 1,
   "metadata": {
    "collapsed": true,
    "deletable": true,
    "editable": true
   },
   "outputs": [],
   "source": [
    "import tensorflow as tf\n",
    "import numpy as np\n",
    "import cnn"
   ]
  },
  {
   "cell_type": "code",
   "execution_count": 2,
   "metadata": {
    "collapsed": false,
    "deletable": true,
    "editable": true
   },
   "outputs": [
    {
     "name": "stdout",
     "output_type": "stream",
     "text": [
      "\n",
      "CNN--cnn512x128-1024x64\n",
      "Tensor(\"CNN/conv_module/Conv/Relu:0\", shape=(?, ?, 512), dtype=float32)\n",
      "Tensor(\"CNN/conv_module/Conv_1/Relu:0\", shape=(?, ?, 1024), dtype=float32)\n"
     ]
    }
   ],
   "source": [
    "c = cnn.model()"
   ]
  },
  {
   "cell_type": "code",
   "execution_count": 3,
   "metadata": {
    "collapsed": false,
    "deletable": true,
    "editable": true
   },
   "outputs": [
    {
     "data": {
      "text/plain": [
       "<tf.Tensor 'CNN/conv_module/dropout_1/mul:0' shape=(?, ?, 1024) dtype=float32>"
      ]
     },
     "execution_count": 3,
     "metadata": {},
     "output_type": "execute_result"
    }
   ],
   "source": [
    "sess = tf.InteractiveSession()\n",
    "tf.global_variables_initializer().run()\n"
   ]
  },
  {
   "cell_type": "code",
   "execution_count": 5,
   "metadata": {
    "collapsed": true,
    "deletable": true,
    "editable": true
   },
   "outputs": [
    {
     "data": {
      "text/plain": [
       "array([[[ 0.        ,  1.15490937,  0.        , ...,  0.        ,\n",
       "          0.        ,  0.        ],\n",
       "        [ 0.        ,  0.        ,  0.93614274, ...,  0.        ,\n",
       "          0.        ,  0.        ],\n",
       "        [ 0.        ,  0.        ,  0.26819906, ...,  0.        ,\n",
       "          0.        ,  0.        ],\n",
       "        ..., \n",
       "        [ 0.        ,  0.        ,  0.        , ...,  1.18496716,\n",
       "          1.85945785,  0.60171425],\n",
       "        [ 0.        ,  0.        ,  0.        , ...,  0.76500356,\n",
       "          0.        ,  0.        ],\n",
       "        [ 0.        ,  0.        ,  0.68281138, ...,  0.        ,\n",
       "          0.        ,  0.41156232]],\n",
       "\n",
       "       [[ 0.        ,  0.        ,  0.        , ...,  0.        ,\n",
       "          0.        ,  0.        ],\n",
       "        [ 0.        ,  0.        ,  0.        , ...,  0.        ,\n",
       "          0.        ,  0.        ],\n",
       "        [ 1.10739088,  0.        ,  0.        , ...,  0.69967657,\n",
       "          0.        ,  0.        ],\n",
       "        ..., \n",
       "        [ 0.        ,  0.        ,  0.        , ...,  0.        ,\n",
       "          0.        ,  0.        ],\n",
       "        [ 0.        ,  0.        ,  3.587883  , ...,  0.        ,\n",
       "          2.27887082,  0.        ],\n",
       "        [ 0.        ,  0.        ,  0.6990422 , ...,  0.        ,\n",
       "          0.        ,  0.        ]],\n",
       "\n",
       "       [[ 0.        ,  0.        ,  0.        , ...,  0.        ,\n",
       "          0.14848915,  0.        ],\n",
       "        [ 0.        ,  0.        ,  0.        , ...,  1.20986247,\n",
       "          0.        ,  0.        ],\n",
       "        [ 0.        ,  0.        ,  0.87797284, ...,  0.        ,\n",
       "          0.        ,  0.        ],\n",
       "        ..., \n",
       "        [ 0.        ,  0.        ,  0.        , ...,  1.31764543,\n",
       "          0.        ,  0.        ],\n",
       "        [ 0.        ,  0.        ,  0.        , ...,  0.        ,\n",
       "          0.15391558,  0.        ],\n",
       "        [ 0.        ,  0.        ,  0.        , ...,  0.58960414,\n",
       "          0.        ,  0.        ]],\n",
       "\n",
       "       [[ 0.90353733,  0.        ,  0.        , ...,  0.        ,\n",
       "          0.        ,  0.        ],\n",
       "        [ 0.        ,  0.        ,  0.        , ...,  0.70862061,\n",
       "          0.        ,  0.        ],\n",
       "        [ 0.        ,  0.        ,  0.        , ...,  0.        ,\n",
       "          0.        ,  0.41154003],\n",
       "        ..., \n",
       "        [ 0.        ,  0.        ,  0.        , ...,  0.        ,\n",
       "          0.61474371,  0.        ],\n",
       "        [ 1.91367364,  0.        ,  0.        , ...,  0.57769907,\n",
       "          0.77098954,  0.        ],\n",
       "        [ 0.        ,  0.        ,  0.        , ...,  1.19136631,\n",
       "          0.        ,  0.        ]],\n",
       "\n",
       "       [[ 0.        ,  0.30961585,  0.        , ...,  0.        ,\n",
       "          0.        ,  0.        ],\n",
       "        [ 1.1678853 ,  0.        ,  0.        , ...,  0.        ,\n",
       "          0.        ,  0.        ],\n",
       "        [ 0.        ,  0.        ,  0.        , ...,  0.        ,\n",
       "          0.        ,  0.        ],\n",
       "        ..., \n",
       "        [ 0.        ,  0.        ,  0.        , ...,  0.        ,\n",
       "          0.        ,  0.02552301],\n",
       "        [ 0.        ,  0.        ,  0.        , ...,  0.        ,\n",
       "          0.        ,  0.        ],\n",
       "        [ 0.34684825,  0.        ,  0.        , ...,  0.        ,\n",
       "          0.        ,  0.10548413]]], dtype=float32)"
      ]
     },
     "execution_count": 5,
     "metadata": {},
     "output_type": "execute_result"
    }
   ],
   "source": [
    "c.output.eval({c.input:np.random.randn(5, 1000)})"
   ]
  },
  {
   "cell_type": "code",
   "execution_count": null,
   "metadata": {
    "collapsed": true,
    "deletable": true,
    "editable": true
   },
   "outputs": [],
   "source": []
  },
  {
   "cell_type": "markdown",
   "metadata": {
    "deletable": true,
    "editable": true
   },
   "source": [
    "# RNN inspection"
   ]
  },
  {
   "cell_type": "code",
   "execution_count": 1,
   "metadata": {
    "collapsed": true,
    "deletable": true,
    "editable": true
   },
   "outputs": [],
   "source": [
    "import tensorflow as tf\n",
    "import numpy as np\n",
    "import rnn"
   ]
  },
  {
   "cell_type": "code",
   "execution_count": 2,
   "metadata": {
    "collapsed": false,
    "deletable": true,
    "editable": true
   },
   "outputs": [
    {
     "name": "stdout",
     "output_type": "stream",
     "text": [
      "\n",
      "RNN--rnn--steps300--sizes10-10-10\n",
      "LSTMStateTuple(c=<tf.Tensor 'RNN/LSTM/dynamic_wrapper/rnn/while/Exit_2:0' shape=(?, 10) dtype=float32>, h=<tf.Tensor 'RNN/LSTM/dynamic_wrapper/rnn/while/Exit_3:0' shape=(?, 10) dtype=float32>)\n",
      "LSTMStateTuple(c=<tf.Tensor 'RNN/LSTM/dynamic_wrapper/rnn/while/Exit_4:0' shape=(?, 10) dtype=float32>, h=<tf.Tensor 'RNN/LSTM/dynamic_wrapper/rnn/while/Exit_5:0' shape=(?, 10) dtype=float32>)\n",
      "LSTMStateTuple(c=<tf.Tensor 'RNN/LSTM/dynamic_wrapper/rnn/while/Exit_6:0' shape=(?, 10) dtype=float32>, h=<tf.Tensor 'RNN/LSTM/dynamic_wrapper/rnn/while/Exit_7:0' shape=(?, 10) dtype=float32>)\n"
     ]
    }
   ],
   "source": [
    "r = rnn.stackedLSTM()\n",
    "sess = tf.InteractiveSession()\n",
    "tf.global_variables_initializer().run()"
   ]
  },
  {
   "cell_type": "code",
   "execution_count": 6,
   "metadata": {
    "collapsed": false,
    "deletable": true,
    "editable": true
   },
   "outputs": [
    {
     "ename": "NameError",
     "evalue": "name 'pred' is not defined",
     "output_type": "error",
     "traceback": [
      "\u001b[0;31m---------------------------------------------------------------------------\u001b[0m",
      "\u001b[0;31mNameError\u001b[0m                                 Traceback (most recent call last)",
      "\u001b[0;32m<ipython-input-6-20566c526a15>\u001b[0m in \u001b[0;36m<module>\u001b[0;34m()\u001b[0m\n\u001b[1;32m     10\u001b[0m     r.batch_size : batch_size}\n\u001b[1;32m     11\u001b[0m \u001b[0;34m\u001b[0m\u001b[0m\n\u001b[0;32m---> 12\u001b[0;31m \u001b[0mtest_output\u001b[0m \u001b[0;34m=\u001b[0m \u001b[0mpred\u001b[0m\u001b[0;34m.\u001b[0m\u001b[0meval\u001b[0m\u001b[0;34m(\u001b[0m\u001b[0;34m)\u001b[0m\u001b[0;34m\u001b[0m\u001b[0m\n\u001b[0m",
      "\u001b[0;31mNameError\u001b[0m: name 'pred' is not defined"
     ]
    }
   ],
   "source": [
    "# Test Parameters\n",
    "batch_size = 5\n",
    "max_seq_len = 1000\n",
    "\n",
    "init_state = sess.run(r.zero_state, {r.batch_size:batch_size})\n",
    "feed_dict = {\n",
    "    r.input : np.random.randn(batch_size, max_seq_len), \n",
    "    r.seq_len : [1, 2, 3, 4, 5],\n",
    "    r.init_state : init_state,\n",
    "    r.batch_size : batch_size}\n",
    "\n",
    "test_output = r.last_output.eval(feed_dict)"
   ]
  }
 ],
 "metadata": {
  "kernelspec": {
   "display_name": "Python 3",
   "language": "python",
   "name": "python3"
  },
  "language_info": {
   "codemirror_mode": {
    "name": "ipython",
    "version": 3
   },
   "file_extension": ".py",
   "mimetype": "text/x-python",
   "name": "python",
   "nbconvert_exporter": "python",
   "pygments_lexer": "ipython3",
   "version": "3.5.3"
  }
 },
 "nbformat": 4,
 "nbformat_minor": 2
}
