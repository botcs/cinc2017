{
 "cells": [
  {
   "cell_type": "code",
   "execution_count": 1,
   "metadata": {
    "collapsed": true
   },
   "outputs": [],
   "source": [
    "#! /usr/bin/env python3.5\n",
    "import tensorflow as tf\n",
    "import numpy as np\n",
    "\n",
    "import model.cnn as cnn\n",
    "import model.classifier as classifier\n",
    "\n",
    "import os, sys\n",
    "from scipy import io\n",
    "\n",
    "flags = tf.app.flags\n",
    "flags.DEFINE_integer('gpu', 0, 'device to train on [0]')\n",
    "FLAGS = flags.FLAGS\n",
    "FLAGS._parse_flags()\n",
    "\n",
    "os.environ['CUDA_VISIBLE_DEVICES'] = str(FLAGS.gpu)"
   ]
  },
  {
   "cell_type": "markdown",
   "metadata": {},
   "source": [
    "# ResNet"
   ]
  },
  {
   "cell_type": "markdown",
   "metadata": {},
   "source": [
    "### Load recording"
   ]
  },
  {
   "cell_type": "code",
   "execution_count": 2,
   "metadata": {
    "collapsed": true
   },
   "outputs": [],
   "source": [
    "#fname = sys.argv[1]\n",
    "dir = '../validation/'\n",
    "fname = 'A00001'\n",
    "assert os.path.isfile(dir + fname + \".mat\"), \"Not existing file: \" + dir + fname + \".mat\"\n",
    "data = io.loadmat(dir + fname + '.mat')['val'].astype(np.float32).squeeze()\n",
    "data -= data.mean()\n",
    "data /= data.std()"
   ]
  },
  {
   "cell_type": "markdown",
   "metadata": {},
   "source": [
    "### Set up predictor"
   ]
  },
  {
   "cell_type": "code",
   "execution_count": 3,
   "metadata": {},
   "outputs": [
    {
     "name": "stdout",
     "output_type": "stream",
     "text": [
      "Building model graph...\n",
      "CNN_block--cnn32x64-64x64-64x64\n",
      "Tensor(\"CNN_block/Conv1/dropout/mul:0\", shape=(1, ?, 1, 32), dtype=float32)\n",
      "Tensor(\"CNN_block/Conv2/dropout/mul:0\", shape=(1, ?, 1, 64), dtype=float32)\n",
      "Tensor(\"CNN_block/Conv3/dropout/mul:0\", shape=(1, ?, 1, 64), dtype=float32)\n",
      "CNN_block_1--cnn32x64-64x64-64x64\n",
      "Tensor(\"CNN_block_1/Conv1/dropout/mul:0\", shape=(1, ?, 1, 32), dtype=float32)\n",
      "Tensor(\"CNN_block_1/Conv2/dropout/mul:0\", shape=(1, ?, 1, 64), dtype=float32)\n",
      "Tensor(\"CNN_block_1/Conv3/dropout/mul:0\", shape=(1, ?, 1, 64), dtype=float32)\n",
      "CNN_block_2--cnn32x64-64x64-64x64\n",
      "Tensor(\"CNN_block_2/Conv1/dropout/mul:0\", shape=(1, ?, 1, 32), dtype=float32)\n",
      "Tensor(\"CNN_block_2/Conv2/dropout/mul:0\", shape=(1, ?, 1, 64), dtype=float32)\n",
      "Tensor(\"CNN_block_2/Conv3/dropout/mul:0\", shape=(1, ?, 1, 64), dtype=float32)\n",
      "CNN_block_3--cnn32x64-64x64-64x64\n",
      "Tensor(\"CNN_block_3/Conv1/dropout/mul:0\", shape=(1, ?, 1, 32), dtype=float32)\n",
      "Tensor(\"CNN_block_3/Conv2/dropout/mul:0\", shape=(1, ?, 1, 64), dtype=float32)\n",
      "Tensor(\"CNN_block_3/Conv3/dropout/mul:0\", shape=(1, ?, 1, 64), dtype=float32)\n",
      "\n",
      "FC--fc16\n",
      "Tensor(\"classifier/hidden_layer0/fully_connected/Relu:0\", shape=(1, 16), dtype=float32)\n",
      "Tensor(\"classifier/logits/BiasAdd:0\", shape=(1, 4), dtype=float32)\n",
      "Tensor(\"classifier/predictions:0\", shape=(1, 4), dtype=float32)\n"
     ]
    }
   ],
   "source": [
    "print('Building model graph...')\n",
    "tf.reset_default_graph()\n",
    "batch_size = tf.placeholder_with_default(1, [], name='batch_size')\n",
    "\n",
    "input_op = tf.placeholder(tf.float32, [1, None])\n",
    "seq_len = tf.placeholder(tf.float32, [1])\n",
    "\n",
    "cnn_params = {\n",
    "    'out_dims' : [32, 64, 64],\n",
    "    'kernel_sizes' : 64,\n",
    "    'pool_sizes' : 1\n",
    "}\n",
    "\n",
    "c = cnn.model(\n",
    "    seq_len=seq_len, \n",
    "    input_op=input_op, \n",
    "    model_name='CNN_block',\n",
    "    **cnn_params)\n",
    "\n",
    "RESIDUAL_POOL = 4\n",
    "residual_input = c.output[..., None, :]\n",
    "\n",
    "for i in range(1, 4):    \n",
    "    residual_input = tf.contrib.layers.max_pool2d(\n",
    "        residual_input, \n",
    "        kernel_size=[RESIDUAL_POOL, 1], \n",
    "        stride=[RESIDUAL_POOL, 1])\n",
    "    \n",
    "    c = cnn.model(\n",
    "        seq_len=seq_len, \n",
    "        input_op=residual_input, \n",
    "        residual=True, \n",
    "        model_name='CNN_block_%d'%i,\n",
    "        **cnn_params)\n",
    "    residual_input += c.output\n",
    "\n",
    "res_out = tf.squeeze(residual_input, axis=2)\n",
    "a = tf.reduce_mean(res_out, axis=1)\n",
    "fc = classifier.model(input_op=a, fc_sizes=[16])\n",
    "\n",
    "pred = fc.pred"
   ]
  },
  {
   "cell_type": "markdown",
   "metadata": {},
   "source": [
    "### Run predictor"
   ]
  },
  {
   "cell_type": "code",
   "execution_count": 4,
   "metadata": {},
   "outputs": [
    {
     "name": "stdout",
     "output_type": "stream",
     "text": [
      "Sess started\n",
      "Evaluating\n",
      "Closing threads\n"
     ]
    }
   ],
   "source": [
    "label_dict = {0: 'N', 1: 'A', 2: 'O', 3: '~'}\n",
    "saver = tf.train.Saver()\n",
    "with tf.Session() as sess:\n",
    "    print('Sess started')\n",
    "    coord = tf.train.Coordinator()\n",
    "    saver.restore(\n",
    "        sess,\n",
    "        '../entry/v2/model/pool4--cnn32x64-64x64-64x64--fc16-20000')\n",
    "    threads = tf.train.start_queue_runners(sess=sess, coord=coord)\n",
    "\n",
    "    print('Evaluating')\n",
    "    output = sess.run(pred, feed_dict={input_op: [data],\n",
    "                                       seq_len: [len(data)],\n",
    "                                       batch_size: 1})\n",
    "\n",
    "    print('Closing threads')\n",
    "    coord.request_stop()\n",
    "    coord.join(threads)\n",
    "\n",
    "    result = label_dict[np.where(tf.equal(output, tf.reduce_max(output, axis=1)[:, None]).eval()[0])[0][0]]"
   ]
  },
  {
   "cell_type": "code",
   "execution_count": 6,
   "metadata": {},
   "outputs": [
    {
     "name": "stdout",
     "output_type": "stream",
     "text": [
      "[[  1.06540145e-02   2.91159451e-01   6.98186517e-01   1.23510473e-08]]\n"
     ]
    }
   ],
   "source": [
    "print(output)"
   ]
  },
  {
   "cell_type": "code",
   "execution_count": null,
   "metadata": {
    "collapsed": true
   },
   "outputs": [],
   "source": []
  },
  {
   "cell_type": "code",
   "execution_count": null,
   "metadata": {
    "collapsed": true
   },
   "outputs": [],
   "source": []
  },
  {
   "cell_type": "markdown",
   "metadata": {},
   "source": [
    "# ConvNet"
   ]
  },
  {
   "cell_type": "markdown",
   "metadata": {},
   "source": [
    "### Load recording"
   ]
  },
  {
   "cell_type": "code",
   "execution_count": 2,
   "metadata": {
    "collapsed": true,
    "scrolled": true
   },
   "outputs": [],
   "source": [
    "#fname = sys.argv[1]\n",
    "dir = '../validation/'\n",
    "fname = 'A00001'\n",
    "assert os.path.isfile(dir + fname + \".mat\"), \"Not existing file: \" + dir + fname + \".mat\"\n",
    "data = io.loadmat(dir + fname + '.mat')['val'].astype(np.float32).squeeze()\n",
    "data -= data.mean()\n",
    "data /= data.std()"
   ]
  },
  {
   "cell_type": "markdown",
   "metadata": {},
   "source": [
    "### Set up predictor"
   ]
  },
  {
   "cell_type": "code",
   "execution_count": 3,
   "metadata": {},
   "outputs": [
    {
     "name": "stdout",
     "output_type": "stream",
     "text": [
      "Building model graph...\n",
      "CNN--cnn128x64-256x64-256x64\n",
      "Tensor(\"CNN/Conv1/dropout/mul:0\", shape=(1, ?, 1, 128), dtype=float32)\n",
      "Tensor(\"CNN/Conv2/dropout/mul:0\", shape=(1, ?, 1, 256), dtype=float32)\n",
      "Tensor(\"CNN/Conv3/dropout/mul:0\", shape=(1, ?, 1, 256), dtype=float32)\n",
      "\n",
      "FC--fc\n",
      "Tensor(\"classifier/logits/BiasAdd:0\", shape=(1, 4), dtype=float32)\n",
      "Tensor(\"classifier/predictions:0\", shape=(1, 4), dtype=float32)\n"
     ]
    }
   ],
   "source": [
    "print('Building model graph...')\n",
    "tf.reset_default_graph()\n",
    "batch_size = tf.placeholder_with_default(1, [], name='batch_size')\n",
    "\n",
    "input_op = tf.placeholder(tf.float32, [1, None])\n",
    "seq_len = tf.placeholder(tf.float32, [1])\n",
    "\n",
    "cnn_params = {\n",
    "    'out_dims': [128, 256, 256],\n",
    "    'kernel_sizes': 64,\n",
    "    'pool_sizes': 1,\n",
    "    'model_name': 'CNN'\n",
    "}\n",
    "c = cnn.model(seq_len=seq_len, input_op=input_op, **cnn_params)\n",
    "\n",
    "a = tf.reduce_mean(c.output, axis=1)\n",
    "fc = classifier.model(input_op=a, fc_sizes=[])\n",
    "\n",
    "pred = fc.pred"
   ]
  },
  {
   "cell_type": "markdown",
   "metadata": {},
   "source": [
    "### Run predictor"
   ]
  },
  {
   "cell_type": "code",
   "execution_count": 4,
   "metadata": {},
   "outputs": [
    {
     "name": "stdout",
     "output_type": "stream",
     "text": [
      "Sess started\n",
      "Evaluating\n",
      "Closing threads\n"
     ]
    }
   ],
   "source": [
    "label_dict = {0: 'N', 1: 'A', 2: 'O', 3: '~'}\n",
    "saver = tf.train.Saver()\n",
    "with tf.Session() as sess:\n",
    "    print('Sess started')\n",
    "    coord = tf.train.Coordinator()\n",
    "    saver.restore(\n",
    "        sess,\n",
    "        '../entry/v2/model/--cnn128x64-256x64-256x64--fc-46000')\n",
    "    threads = tf.train.start_queue_runners(sess=sess, coord=coord)\n",
    "\n",
    "    print('Evaluating')\n",
    "    output = sess.run(pred, feed_dict={input_op: [data],\n",
    "                                       seq_len: [len(data)],\n",
    "                                       batch_size: 1})\n",
    "\n",
    "    print('Closing threads')\n",
    "    coord.request_stop()\n",
    "    coord.join(threads)\n",
    "\n",
    "    result = label_dict[np.where(tf.equal(output, tf.reduce_max(output, axis=1)[:, None]).eval()[0])[0][0]]"
   ]
  },
  {
   "cell_type": "markdown",
   "metadata": {},
   "source": [
    "### Save result"
   ]
  },
  {
   "cell_type": "code",
   "execution_count": 5,
   "metadata": {},
   "outputs": [
    {
     "name": "stdout",
     "output_type": "stream",
     "text": [
      "N\n"
     ]
    }
   ],
   "source": [
    "print(result)"
   ]
  },
  {
   "cell_type": "code",
   "execution_count": 7,
   "metadata": {
    "collapsed": true
   },
   "outputs": [],
   "source": [
    "with open(\"answers.txt\", \"a\") as file:\n",
    "    file.write(fname + ',' + result)"
   ]
  }
 ],
 "metadata": {
  "kernelspec": {
   "display_name": "Python 3",
   "language": "python",
   "name": "python3"
  },
  "language_info": {
   "codemirror_mode": {
    "name": "ipython",
    "version": 3
   },
   "file_extension": ".py",
   "mimetype": "text/x-python",
   "name": "python",
   "nbconvert_exporter": "python",
   "pygments_lexer": "ipython3",
   "version": "3.4.3"
  }
 },
 "nbformat": 4,
 "nbformat_minor": 2
}
