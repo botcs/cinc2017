{
 "cells": [
  {
   "cell_type": "code",
   "execution_count": null,
   "metadata": {
    "collapsed": false,
    "deletable": true,
    "editable": true
   },
   "outputs": [],
   "source": [
    "import tensorflow as tf\n",
    "import model.cnn as cnn\n",
    "import model.rnn as rnn\n",
    "import model.classifier as classifier\n",
    "import numpy as np\n",
    "import scipy.io as io\n",
    "import sys\n",
    "import os.path"
   ]
  },
  {
   "cell_type": "markdown",
   "metadata": {
    "deletable": true,
    "editable": true
   },
   "source": [
    "# Load recording"
   ]
  },
  {
   "cell_type": "code",
   "execution_count": null,
   "metadata": {
    "collapsed": false,
    "deletable": true,
    "editable": true,
    "scrolled": true
   },
   "outputs": [],
   "source": [
    "dir = \"./validation/\"\n",
    "assert len(sys.argv) == 2, \"Wrong parameter list in the call of that script.\"\n",
    "fname = sys.argv[1]\n",
    "assert os.path.isfile(dir + fname + \".mat\"), \"Not existing file: \" + dir + fname + \".mat\"\n",
    "data = io.loadmat(dir + fname + '.mat')['val'].astype(np.float32).squeeze()\n",
    "data -= data.mean()\n",
    "data /= data.std()"
   ]
  },
  {
   "cell_type": "markdown",
   "metadata": {
    "deletable": true,
    "editable": true
   },
   "source": [
    "# Set up predictor"
   ]
  },
  {
   "cell_type": "code",
   "execution_count": null,
   "metadata": {
    "collapsed": false,
    "deletable": true,
    "editable": true
   },
   "outputs": [],
   "source": [
    "tf.reset_default_graph()\n",
    "batch_size = tf.placeholder_with_default(1, [])\n",
    "input_op = tf.placeholder(tf.float32,[1,None])\n",
    "seq_len = tf.placeholder(tf.float32,[None])\n",
    "\n",
    "cnn_params = {\n",
    "    'out_dims' : [10],\n",
    "    'kernel_sizes' : 32,\n",
    "    'pool_sizes' : 10\n",
    "}\n",
    "rnn_params = {\n",
    "    'rnn_sizes' : [10],\n",
    "    'time_steps' : 100\n",
    "}\n",
    "fc_params = {\n",
    "    'fc_sizes' : []\n",
    "}\n",
    "\n",
    "c = cnn.get_output(seq_len=seq_len, input_op=input_op, **cnn_params)\n",
    "r = rnn.get_model(batch_size=batch_size, seq_len=seq_len, input_op=c, **rnn_params)\n",
    "_, pred = classifier.get_logits_and_pred(input_op=r.last_output, **fc_params)"
   ]
  },
  {
   "cell_type": "markdown",
   "metadata": {
    "deletable": true,
    "editable": true
   },
   "source": [
    "# Run predictor"
   ]
  },
  {
   "cell_type": "code",
   "execution_count": null,
   "metadata": {
    "collapsed": false,
    "deletable": true,
    "editable": true
   },
   "outputs": [],
   "source": [
    "label_dict = {0: 'N', 1: 'A', 2: 'O', 3: '~'}\n",
    "with tf.Session() as sess:\n",
    "    print('Sess started')\n",
    "    coord = tf.train.Coordinator()\n",
    "    tf.global_variables_initializer().run()\n",
    "    threads = tf.train.start_queue_runners(sess=sess, coord=coord)\n",
    "\n",
    "    init_state = sess.run(r.zero_state)\n",
    "    print('Evaluating')\n",
    "    output = sess.run(pred, feed_dict={input_op: [data],\n",
    "                                       seq_len: [len(data)],\n",
    "                                       r.init_state: init_state,\n",
    "                                       batch_size: 1})\n",
    "\n",
    "    print('Closing threads')\n",
    "    coord.request_stop()\n",
    "    coord.join(threads)\n",
    "    \n",
    "    result = label_dict[np.where(tf.equal(output, tf.reduce_max(output, axis=1)[:, None]).eval()[0])[0][0]]"
   ]
  },
  {
   "cell_type": "markdown",
   "metadata": {
    "deletable": true,
    "editable": true
   },
   "source": [
    "# Save result"
   ]
  },
  {
   "cell_type": "code",
   "execution_count": null,
   "metadata": {
    "collapsed": true,
    "deletable": true,
    "editable": true
   },
   "outputs": [],
   "source": [
    "with open(\"answers.txt\", \"a\") as file:\n",
    "    file.write(fname + ',' + result)"
   ]
  }
 ],
 "metadata": {
  "kernelspec": {
   "display_name": "Python 3",
   "language": "python",
   "name": "python3"
  },
  "language_info": {
   "codemirror_mode": {
    "name": "ipython",
    "version": 3
   },
   "file_extension": ".py",
   "mimetype": "text/x-python",
   "name": "python",
   "nbconvert_exporter": "python",
   "pygments_lexer": "ipython3",
   "version": "3.5.0"
  }
 },
 "nbformat": 4,
 "nbformat_minor": 2
}
