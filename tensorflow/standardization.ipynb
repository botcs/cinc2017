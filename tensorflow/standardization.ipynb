{
 "cells": [
  {
   "cell_type": "code",
   "execution_count": 33,
   "metadata": {
    "collapsed": true
   },
   "outputs": [],
   "source": [
    "import json\n",
    "import numpy as np\n",
    "import tensorflow as tf\n",
    "import model.cnn as cnn\n",
    "import model.rnn as rnn\n",
    "import model.classifier as classifier\n",
    "\n",
    "import matplotlib.pyplot as plt\n",
    "import seaborn as sns\n",
    "import pandas as pd\n",
    "\n",
    "sns.set_style('dark')\n",
    "sns.set_context('poster')\n",
    "%matplotlib inline\n"
   ]
  },
  {
   "cell_type": "code",
   "execution_count": 2,
   "metadata": {
    "collapsed": true
   },
   "outputs": [],
   "source": [
    "cnn_block_params = {\n",
    "    'dropout': 1,\n",
    "    'out_dims' : [128, 256, 256],\n",
    "    'kernel_sizes' : 64,\n",
    "    'pool_sizes' : 1,\n",
    "    'RESIDUAL_POOL': 3\n",
    "  }\n",
    "fc_params = {\n",
    "    'fc_sizes': []\n",
    "}\n",
    "network_params = {\n",
    "    'resnet': {\n",
    "        'avg_pool': True,\n",
    "        'block_num': 2,\n",
    "        'block0': cnn_block_params,\n",
    "        'block1': cnn_block_params\n",
    "    },\n",
    "    'partition_num': 5,\n",
    "    'fc_params': fc_params\n",
    "}\n",
    "#print(json.dumps(resnet_params, indent=2, sort_keys=True))\n"
   ]
  },
  {
   "cell_type": "code",
   "execution_count": 3,
   "metadata": {
    "collapsed": true
   },
   "outputs": [],
   "source": [
    "def divide_x(x, N):\n",
    "    with tf.name_scope('sample_division'):\n",
    "        x_shape = tf.shape(x)\n",
    "        batch_size, seq_len = x_shape[0], x_shape[1]\n",
    "        # Make sure sequence can be divided to equal parts\n",
    "        padding = [[0,0],[0, N-seq_len%N],[0,0], [0,0]]\n",
    "        x_pad = tf.pad(x, padding, 'SYMMETRIC')\n",
    "        \n",
    "        # Don't pad if not necessary, i.e. seq_len%N == 0\n",
    "        new_x = tf.cond(tf.equal(seq_len%N, 0), lambda: x, lambda: x_pad)\n",
    "        seq_len = tf.shape(new_x)[1]\n",
    "        div_x = tf.reshape(\n",
    "            new_x, [batch_size, N, seq_len//N, x.get_shape()[-1].value])\n",
    "        return div_x"
   ]
  },
  {
   "cell_type": "code",
   "execution_count": 7,
   "metadata": {},
   "outputs": [],
   "source": [
    "def get_resnet_output(X, params, seq_len=None):\n",
    "    try:\n",
    "        resnet_params = params['resnet']\n",
    "    except KeyError:\n",
    "        raise ValueError('No \"resnet\" entry could be found in `params`')\n",
    "    \n",
    "    if seq_len is None:\n",
    "        seq_len_required = False\n",
    "        seq_len = tf.placeholder(tf.float32, [None], \n",
    "                                 name='seq_len_placeholder')\n",
    "    else:\n",
    "        seq_len_required = True\n",
    "    \n",
    "    avg_pool = resnet_params.get('avg_pool')\n",
    "    if avg_pool is None:\n",
    "        avg_pool = False\n",
    "    \n",
    "    if avg_pool:\n",
    "        pool_fn = tf.contrib.layers.avg_pool2d\n",
    "    else:\n",
    "        pool_fn = tf.contrib.layers.max_pool2d\n",
    "    \n",
    "    block_num = resnet_params['block_num']\n",
    "    residual_input = X[..., None, None]\n",
    "    \n",
    "    for i in range(block_num):\n",
    "        cnn_block_params = resnet_params['block%d'%i]\n",
    "        try:\n",
    "            RESIDUAL_POOL = cnn_block_params['RESIDUAL_POOL']\n",
    "        except KeyError:\n",
    "            RESIDUAL_POOL = 1\n",
    "        if cnn_block_params.get('pool_sizes') is None:\n",
    "            cnn_block_params['pool_sizes'] = 1\n",
    "            \n",
    "        c = cnn.model(\n",
    "            seq_len=seq_len,\n",
    "            input_op=residual_input,\n",
    "            residual=True,\n",
    "            model_name='CNN_block_%d' % i,\n",
    "            **cnn_block_params)\n",
    "        \n",
    "        residual_input += c.output \n",
    "        \n",
    "        if RESIDUAL_POOL > 1:\n",
    "            print('%s_POOL_%d--factor-%d' % (\n",
    "                'AVG' if avg_pool else 'MAX', i, RESIDUAL_POOL))\n",
    "            residual_input = pool_fn(\n",
    "                c.output,\n",
    "                kernel_size=[RESIDUAL_POOL, 1],\n",
    "                stride=[RESIDUAL_POOL, 1])\n",
    "        print('')\n",
    "    res_out = residual_input\n",
    "    #res_out = tf.squeeze(residual_input, axis=2)\n",
    "    \n",
    "    # Instead of global averaging,\n",
    "    # Use variable sized windows to make equal fractions of input\n",
    "    # Preserving the raw locality of the features\n",
    "    # Still it is a fixed length feature representation\n",
    "    partition_num = params['partition_num']\n",
    "    partitioned_out = divide_x(res_out, partition_num)\n",
    "    local_features = tf.reduce_mean(partitioned_out, axis=2)\n",
    "    #out = local_features\n",
    "    fc_params = params['fc_params']\n",
    "    classifier_in = tf.contrib.layers.flatten(local_features)\n",
    "    out = classifier.get_logits_and_pred(classifier_in, return_name=False, **fc_params)\n",
    "    if seq_len_required:\n",
    "        return out, seq_len\n",
    "    return out\n"
   ]
  },
  {
   "cell_type": "code",
   "execution_count": 8,
   "metadata": {
    "scrolled": true
   },
   "outputs": [
    {
     "name": "stdout",
     "output_type": "stream",
     "text": [
      "CNN_block_0--cnn128x64-256x64-256x64\n",
      "Tensor(\"CNN_block_0/Conv1/Conv_dim128_ker64_pool1/Relu:0\", shape=(?, ?, 1, 128), dtype=float32)\n",
      "Tensor(\"CNN_block_0/Conv2/Conv_dim256_ker64_pool1/Relu:0\", shape=(?, ?, 1, 256), dtype=float32)\n",
      "Tensor(\"CNN_block_0/Conv3/Conv_dim256_ker64_pool1/Relu:0\", shape=(?, ?, 1, 256), dtype=float32)\n",
      "AVG_POOL_0--factor-3\n",
      "\n",
      "CNN_block_1--cnn128x64-256x64-256x64\n",
      "Tensor(\"CNN_block_1/Conv1/Conv_dim128_ker64_pool1/Relu:0\", shape=(?, ?, 1, 128), dtype=float32)\n",
      "Tensor(\"CNN_block_1/Conv2/Conv_dim256_ker64_pool1/Relu:0\", shape=(?, ?, 1, 256), dtype=float32)\n",
      "Tensor(\"CNN_block_1/Conv3/Conv_dim256_ker64_pool1/Relu:0\", shape=(?, ?, 1, 256), dtype=float32)\n",
      "AVG_POOL_1--factor-3\n",
      "\n",
      "\n",
      "FC--fc\n",
      "Tensor(\"classifier/logits/BiasAdd:0\", shape=(?, 4), dtype=float32)\n",
      "Tensor(\"classifier/predictions:0\", shape=(?, 4), dtype=float32)\n"
     ]
    }
   ],
   "source": [
    "tf.reset_default_graph()\n",
    "input_op = tf.placeholder(1, [None, None], 'INPUT')\n",
    "res_out = get_resnet_output(input_op, network_params)"
   ]
  },
  {
   "cell_type": "code",
   "execution_count": 31,
   "metadata": {},
   "outputs": [],
   "source": [
    "with tf.Session() as sess:\n",
    "    tf.global_variables_initializer().run()\n",
    "    res = sess.run(res_out, {input_op:np.random.randn(100, 100)})\n"
   ]
  },
  {
   "cell_type": "code",
   "execution_count": 34,
   "metadata": {},
   "outputs": [
    {
     "data": {
      "text/plain": [
       "<matplotlib.axes._subplots.AxesSubplot at 0x7fdfb9797438>"
      ]
     },
     "execution_count": 34,
     "metadata": {},
     "output_type": "execute_result"
    },
    {
     "data": {
      "image/png": "[encoded data removed]",
      "text/plain": [
       "<matplotlib.figure.Figure at 0x7fdfb9ce1cf8>"
      ]
     },
     "metadata": {},
     "output_type": "display_data"
    }
   ],
   "source": [
    "#sns.heatmap(res[1])\n",
    "df = pd.DataFrame(res[1], columns=['Normal', 'Fibrill', 'Other', 'Noise'])\n",
    "df.plot.kde()"
   ]
  },
  {
   "cell_type": "code",
   "execution_count": 30,
   "metadata": {},
   "outputs": [
    {
     "data": {
      "text/plain": [
       "<matplotlib.axes._subplots.AxesSubplot at 0x7fdfb9af37b8>"
      ]
     },
     "execution_count": 30,
     "metadata": {},
     "output_type": "execute_result"
    },
    {
     "data": {
      "image/png": "[encoded data removed]",
      "text/plain": [
       "<matplotlib.figure.Figure at 0x7fdfb997deb8>"
      ]
     },
     "metadata": {},
     "output_type": "display_data"
    }
   ],
   "source": [
    "#sns.heatmap(res[1])\n",
    "df = pd.DataFrame(res[1], columns=['Normal', 'Fibrill', 'Other', 'Noise'])\n",
    "df.plot.kde()"
   ]
  },
  {
   "cell_type": "code",
   "execution_count": null,
   "metadata": {
    "collapsed": true
   },
   "outputs": [],
   "source": [
    "x = tf.placeholder(1, [None, None, 1, None])\n",
    "def divide_x(x, N):\n",
    "    with tf.name_scope('sample_division'):\n",
    "        x_shape = tf.shape(x)\n",
    "        batch_size, seq_len = x_shape[0], x_shape[1]\n",
    "        # Make sure sequence can be divided to equal parts\n",
    "        padding = [[0,0],[0, N-seq_len%N],[0,0], [0,0]]\n",
    "        x_pad = tf.pad(x, padding, 'SYMMETRIC')\n",
    "        \n",
    "        # Don't pad if not necessary, i.e. seq_len%N == 0\n",
    "        x = tf.cond(tf.equal(seq_len%N, 0), lambda: x, lambda: x_pad)\n",
    "        seq_len = tf.shape(x)[1]\n",
    "        div_x = tf.reshape(x, [batch_size, N, seq_len//N, x_shape[-1]])\n",
    "        return div_x\n",
    "\n",
    "div_x = divide_x(x, 10)"
   ]
  },
  {
   "cell_type": "code",
   "execution_count": null,
   "metadata": {},
   "outputs": [],
   "source": [
    "dim = x.shape[2]\n",
    "dim.value"
   ]
  },
  {
   "cell_type": "code",
   "execution_count": null,
   "metadata": {
    "collapsed": true
   },
   "outputs": [],
   "source": [
    "with tf.Session() as sess:\n",
    "    res = div_x.eval({x:np.arange(1000*91).reshape(1000, 91, 1, 1)})"
   ]
  },
  {
   "cell_type": "code",
   "execution_count": null,
   "metadata": {},
   "outputs": [],
   "source": [
    "#res[0, -1, :, 0]\n",
    "res.shape"
   ]
  },
  {
   "cell_type": "code",
   "execution_count": null,
   "metadata": {},
   "outputs": [],
   "source": [
    "plt.plot(res[-5].squeeze().T)"
   ]
  },
  {
   "cell_type": "code",
   "execution_count": null,
   "metadata": {
    "collapsed": true
   },
   "outputs": [],
   "source": []
  }
 ],
 "metadata": {
  "kernelspec": {
   "display_name": "Python 3",
   "language": "python",
   "name": "python3"
  },
  "language_info": {
   "codemirror_mode": {
    "name": "ipython",
    "version": 3
   },
   "file_extension": ".py",
   "mimetype": "text/x-python",
   "name": "python",
   "nbconvert_exporter": "python",
   "pygments_lexer": "ipython3",
   "version": "3.5.2"
  }
 },
 "nbformat": 4,
 "nbformat_minor": 2
}
