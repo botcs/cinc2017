{
 "cells": [
  {
   "cell_type": "code",
   "execution_count": 1,
   "metadata": {
    "collapsed": false,
    "deletable": true,
    "editable": true
   },
   "outputs": [],
   "source": [
    "#! /usr/bin/env python3.5\n",
    "import tensorflow as tf\n",
    "import numpy as np\n",
    "\n",
    "import data.ops\n",
    "import model.cnn as cnn\n",
    "import model.rnn as rnn\n",
    "import model.classifier as classifier\n",
    "\n",
    "import time\n",
    "import os\n",
    "import shutil\n",
    "import json"
   ]
  },
  {
   "cell_type": "code",
   "execution_count": 2,
   "metadata": {
    "collapsed": false,
    "deletable": true,
    "editable": true
   },
   "outputs": [],
   "source": [
    "flags = tf.app.flags\n",
    "flags.DEFINE_integer('gpu', 0, 'device to train on [0]')\n",
    "flags.DEFINE_string('model_def', './hyperparams/test_model.json', 'load hyperparameters from [\"model.json\"]')\n",
    "FLAGS = flags.FLAGS\n",
    "FLAGS._parse_flags()\n",
    "\n",
    "os.environ['CUDA_VISIBLE_DEVICES'] = str(FLAGS.gpu)"
   ]
  },
  {
   "cell_type": "code",
   "execution_count": 3,
   "metadata": {
    "collapsed": true
   },
   "outputs": [],
   "source": [
    "paths = [\n",
    "    './data/NORMAL_CLASS_REF.TFRecord', \n",
    "    './data/OTHER_CLASS_REF.TFRecord',\n",
    "    './data/ATRIUM_CLASS_REF.TFRecord',\n",
    "    './data/NOISE_CLASS_REF.TFRecord'\n",
    "]"
   ]
  },
  {
   "cell_type": "code",
   "execution_count": 4,
   "metadata": {
    "collapsed": false,
    "deletable": true,
    "editable": true
   },
   "outputs": [],
   "source": [
    "tf.reset_default_graph()\n",
    "batch_size = tf.placeholder_with_default(32, [], name='batch_size')\n",
    "(input_op, seq_len, label), input_prods = data.ops.get_even_batch_producer(\n",
    "    paths=paths, batch_size=batch_size)\n",
    "\n",
    "val_input_op, val_seq_len, val_label = data.ops.get_batch_producer(\n",
    "    batch_size=batch_size, path='./data/VALIDATION.TFRecord')\n",
    "\n",
    "validation_feed_dict = {\n",
    "    input_op: val_input_op,\n",
    "    seq_len: val_seq_len,\n",
    "    label: val_label,\n",
    "    batch_size: 128\n",
    "}"
   ]
  },
  {
   "cell_type": "code",
   "execution_count": 5,
   "metadata": {
    "collapsed": false,
    "deletable": true,
    "editable": true
   },
   "outputs": [
    {
     "name": "stdout",
     "output_type": "stream",
     "text": [
      "\n",
      "CNN--cnn128x16-256x16-256x16\n",
      "Tensor(\"CNN/Conv1/Conv_dim128_ker16_pool1/Relu:0\", shape=(?, ?, 1, 128), dtype=float32)\n",
      "Tensor(\"CNN/Conv2/Conv_dim256_ker16_pool1/Relu:0\", shape=(?, ?, 1, 256), dtype=float32)\n",
      "Tensor(\"CNN/Conv3/Conv_dim256_ker16_pool1/Relu:0\", shape=(?, ?, 1, 256), dtype=float32)\n",
      "\n",
      "FC--fc\n",
      "Tensor(\"classifier/logits/BiasAdd:0\", shape=(?, 4), dtype=float32)\n",
      "Tensor(\"classifier/predictions:0\", shape=(?, 4), dtype=float32)\n"
     ]
    }
   ],
   "source": [
    "cnn_params = {\n",
    "    'out_dims' : [128, 256, 256],\n",
    "    'kernel_sizes' : 16,\n",
    "    'pool_sizes' : 1\n",
    "}\n",
    "c = cnn.model(seq_len=seq_len, input_op=input_op, **cnn_params)\n",
    "\n",
    "#a = tf.transpose(c.output, perm=[0, 2, 1])\n",
    "#a = tf.nn.top_k(a, k=8, sorted=False, name='MAX_POOL').values\n",
    "#a = tf.transpose(a, perm=[0, 2, 1])\n",
    "a = tf.reduce_mean(c.output, axis=1)\n",
    "fc = classifier.model(input_op=a, fc_sizes=[])\n",
    "\n",
    "logits = fc.logits\n",
    "pred = fc.pred\n",
    "\n",
    "MODEL_PATH = '/tmp/balanced/' + c.name + fc.name\n",
    "MODEL_EXISTS = os.path.exists(MODEL_PATH)\n",
    "if MODEL_EXISTS:\n",
    "    print('Model directory is not empty, removing old files')\n",
    "    shutil.rmtree(MODEL_PATH)"
   ]
  },
  {
   "cell_type": "code",
   "execution_count": 6,
   "metadata": {
    "collapsed": false,
    "deletable": true,
    "editable": true
   },
   "outputs": [],
   "source": [
    "def measure_time(op, feed_dict={}, n_times=10):\n",
    "    with tf.Session() as sess:\n",
    "        print('Sess started')\n",
    "        coord = tf.train.Coordinator()\n",
    "        tf.global_variables_initializer().run()\n",
    "        threads = tf.train.start_queue_runners(sess=sess, coord=coord)\n",
    "        \n",
    "        print('Evaluating')\n",
    "        for _ in range(n_times):\n",
    "            t = time.time()\n",
    "            fetch = sess.run(op, feed_dict)\n",
    "            print('Eval time:', time.time() - t)\n",
    "            \n",
    "        print('Closing threads')\n",
    "        coord.request_stop()\n",
    "        coord.join(threads)\n",
    "\n",
    "        return fetch"
   ]
  },
  {
   "cell_type": "code",
   "execution_count": 7,
   "metadata": {
    "collapsed": false
   },
   "outputs": [
    {
     "name": "stdout",
     "output_type": "stream",
     "text": [
      "Sess started\n",
      "Evaluating\n",
      "Eval time: 0.10602164268493652\n",
      "Eval time: 0.026155948638916016\n",
      "Eval time: 0.035398244857788086\n",
      "Eval time: 0.021442413330078125\n",
      "Eval time: 0.008875370025634766\n",
      "Eval time: 0.005707502365112305\n",
      "Eval time: 0.018724679946899414\n",
      "Eval time: 0.00844264030456543\n",
      "Eval time: 0.013972043991088867\n",
      "Eval time: 0.013971090316772461\n",
      "Closing threads\n"
     ]
    },
    {
     "data": {
      "text/plain": [
       "array([3, 3, 3, 3, 3, 3, 3, 3, 0, 0, 0, 0, 0, 0, 0, 0, 1, 1, 1, 1, 1, 1, 1,\n",
       "       1, 2, 2, 2, 2, 2, 2, 2, 2], dtype=int32)"
      ]
     },
     "execution_count": 7,
     "metadata": {},
     "output_type": "execute_result"
    }
   ],
   "source": [
    "measure_time(label)"
   ]
  },
  {
   "cell_type": "markdown",
   "metadata": {
    "deletable": true,
    "editable": true
   },
   "source": [
    "# Evaluation\n",
    "\n",
    "## **Confusion matrix**\n",
    "\n",
    "## **Accuracy operator**"
   ]
  },
  {
   "cell_type": "code",
   "execution_count": 8,
   "metadata": {
    "collapsed": true,
    "deletable": true,
    "editable": true
   },
   "outputs": [],
   "source": [
    "with tf.name_scope('evaluation'):\n",
    "    with tf.name_scope('one_hot_encoding'):\n",
    "        y_oh = tf.cast(tf.equal(\n",
    "            logits, tf.reduce_max(logits, axis=1)[:, None]), tf.float32)\n",
    "\n",
    "        label_oh = tf.one_hot(label, depth=4)\n",
    "    with tf.name_scope('confusion_matrix'):\n",
    "        conf_op = tf.reduce_sum(tf.transpose(\n",
    "            y_oh[..., None], perm=[0, 2, 1]) * label_oh[..., None],\n",
    "            axis=0, name='result')\n",
    "\n",
    "    with tf.name_scope('accuracy'):\n",
    "        y_tot = tf.reduce_sum(conf_op, axis=0, name='label_class_sum')\n",
    "        label_tot = tf.reduce_sum(conf_op, axis=1, name='pred_class_sum')\n",
    "        correct_op = tf.diag_part(conf_op, name='correct_class_sum')\n",
    "        eps = tf.constant([1e-10] * 4, name='eps')\n",
    "        acc = tf.reduce_mean(2*correct_op / (y_tot + label_tot + eps), name='result')"
   ]
  },
  {
   "cell_type": "code",
   "execution_count": 9,
   "metadata": {
    "collapsed": false,
    "deletable": true,
    "editable": true
   },
   "outputs": [],
   "source": [
    "class_hist = np.load('./data/class_histogramTRAIN.npy')\n",
    "with tf.name_scope('loss'):\n",
    "    #weight = tf.constant([.1, 1, .2, 3])\n",
    "    weight = tf.constant(1 - np.sqrt(class_hist/class_hist.sum()), name='weights')\n",
    "    weight = tf.gather(weight, label, name='weight_selector')\n",
    "    train_loss = tf.losses.softmax_cross_entropy(\n",
    "        label_oh, logits, weight, scope='weighted_loss')\n",
    "    unweighted_loss = tf.losses.softmax_cross_entropy(\n",
    "        label_oh, logits, scope='unweighted_loss')\n",
    "    \n",
    "    l2_loss = tf.reduce_sum([tf.nn.l2_loss(v, name='L2_reg_loss') \n",
    "                            for v in tf.trainable_variables()])\n",
    "    beta = 0.001\n",
    "    loss = unweighted_loss + beta * l2_loss\n",
    "#class_hist, weight"
   ]
  },
  {
   "cell_type": "code",
   "execution_count": 10,
   "metadata": {
    "collapsed": false,
    "deletable": true,
    "editable": true
   },
   "outputs": [],
   "source": [
    "with tf.name_scope('train'):\n",
    "    learning_rate = tf.Variable(initial_value=.0005, trainable=False, name='learning_rate')\n",
    "    global_step = tf.Variable(initial_value=0, trainable=False, name='global_step')\n",
    "    grad_clip = tf.Variable(initial_value=3., trainable=False, name='grad_clip')\n",
    "    optimizer = tf.train.AdamOptimizer(learning_rate=learning_rate)\n",
    "    gvs = optimizer.compute_gradients(loss)\n",
    "    with tf.name_scope('gradient_clipping'):\n",
    "        capped_gvs = [(tf.clip_by_value(grad, -grad_clip, grad_clip), var) \n",
    "                      for grad, var in gvs]\n",
    "        \n",
    "    opt = optimizer.apply_gradients(capped_gvs, global_step)\n",
    "    \n",
    "    #opt = optimizer.minimize(1-max)"
   ]
  },
  {
   "cell_type": "code",
   "execution_count": null,
   "metadata": {
    "collapsed": true,
    "deletable": true,
    "editable": true
   },
   "outputs": [],
   "source": [
    "train_writer = tf.summary.FileWriter(MODEL_PATH, graph=tf.get_default_graph())\n",
    "sum_ops = []\n",
    "for v in tf.trainable_variables():\n",
    "    sum_ops.append(tf.summary.histogram(v.name[:-2], v))\n",
    "    sum_ops.append(tf.summary.histogram('gradients/'+v.name[:-2], tf.gradients(loss, v)))\n",
    "\n",
    "sum_ops.append(tf.summary.scalar('weighted_loss', loss))\n",
    "sum_ops.append(tf.summary.scalar('unweighted_loss', unweighted_loss))\n",
    "sum_ops.append(tf.summary.scalar('accuracy', acc))\n",
    "sum_ops.append(tf.summary.image('confusion_matrix', conf_op[None, ..., None], max_outputs=10))\n",
    "summaries = tf.summary.merge(sum_ops)\n",
    "eval_summaries = tf.summary.merge([tf.summary.scalar('eval_accuracy', acc), \n",
    "    tf.summary.image('confusion_matrix', conf_op[None, ..., None], max_outputs=10)])"
   ]
  },
  {
   "cell_type": "code",
   "execution_count": null,
   "metadata": {
    "collapsed": false,
    "deletable": true,
    "editable": true
   },
   "outputs": [
    {
     "name": "stdout",
     "output_type": "stream",
     "text": [
      "Sess started\n",
      "Initializing model\n",
      "Training\n",
      "1/20000 time:40.554707 loss:1.668305 acc:0.100000\n",
      "2/20000 time:4.303600 loss:1.417930 acc:0.361562\n",
      "3/20000 time:4.321317 loss:1.359022 acc:0.503571\n",
      "4/20000 time:4.353394 loss:1.628947 acc:0.264753\n",
      "5/20000 time:4.271616 loss:1.666512 acc:0.333213\n",
      "6/20000 time:39.715581 loss:1.308988 acc:0.436041\n",
      "7/20000 time:4.314733 loss:1.506171 acc:0.361742\n",
      "8/20000 time:4.363753 loss:1.427180 acc:0.335901\n"
     ]
    }
   ],
   "source": [
    "saver = tf.train.Saver(keep_checkpoint_every_n_hours=1)\n",
    "#with open('test.txt', 'w') as f:\n",
    "    #metagraph = saver.export_meta_graph(as_text=True)\n",
    "    #f.write(str(metagraph.ListFields()))\n",
    "    \n",
    "TRAIN_STEPS = 20000\n",
    "with tf.Session() as sess:\n",
    "    print('Sess started')\n",
    "    \n",
    "    print('Initializing model')\n",
    "    tf.global_variables_initializer().run()\n",
    "        \n",
    "    coord = tf.train.Coordinator()\n",
    "    threads = tf.train.start_queue_runners(sess=sess, coord=coord)\n",
    "\n",
    "    print('Training')\n",
    "    for i in range(TRAIN_STEPS):\n",
    "        t = time.time()\n",
    "        fetch = sess.run([opt, loss, acc, global_step])\n",
    "        step = fetch[-1]\n",
    "        print('%d/%d'%(step, TRAIN_STEPS), \n",
    "              'time:%f'%(time.time()-t), \n",
    "              'loss:%f'%fetch[1],\n",
    "              'acc:%f'%fetch[2]\n",
    "              )\n",
    "        if step % 50 == 0:\n",
    "            print('Evaluating TRAIN summaries...')\n",
    "            train_writer.add_summary(summaries.eval(), global_step=fetch[-1])\n",
    "        if step % 100 == 0:\n",
    "            print('Evaluating VALIDATION summaries...')\n",
    "            train_writer.add_summary(\n",
    "                eval_summaries.eval(validation_feed_dict), \n",
    "                global_step=fetch[-1])\n",
    "        if step % 250 == 0:\n",
    "            print('Saving model...')\n",
    "            print(saver.save(sess, MODEL_PATH, global_step=fetch[-1]))\n",
    "    \n",
    "    print('Ending, closing producer threads')\n",
    "    coord.request_stop()\n",
    "    coord.join(threads)"
   ]
  }
 ],
 "metadata": {
  "kernelspec": {
   "display_name": "Python 3",
   "language": "python",
   "name": "python3"
  },
  "language_info": {
   "codemirror_mode": {
    "name": "ipython",
    "version": 3
   },
   "file_extension": ".py",
   "mimetype": "text/x-python",
   "name": "python",
   "nbconvert_exporter": "python",
   "pygments_lexer": "ipython3",
   "version": "3.5.3"
  }
 },
 "nbformat": 4,
 "nbformat_minor": 2
}
