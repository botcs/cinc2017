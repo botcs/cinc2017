{
 "cells": [
  {
   "cell_type": "code",
   "execution_count": 1,
   "metadata": {
    "collapsed": false,
    "deletable": true,
    "editable": true
   },
   "outputs": [],
   "source": [
    "#! /usr/bin/env python3.5\n",
    "import tensorflow as tf\n",
    "import numpy as np\n",
    "\n",
    "import data.ops\n",
    "import model.cnn as cnn\n",
    "import model.rnn as rnn\n",
    "import model.classifier as classifier\n",
    "\n",
    "import time\n",
    "import os\n",
    "import shutil\n",
    "import json\n",
    "\n",
    "flags = tf.app.flags\n",
    "flags.DEFINE_integer('gpu', 0, 'device to train on [0]')\n",
    "flags.DEFINE_string('model_def', './hyperparams/test_model.json', 'load hyperparameters from [\"model.json\"]')\n",
    "FLAGS = flags.FLAGS\n",
    "FLAGS._parse_flags()\n",
    "\n",
    "os.environ['CUDA_VISIBLE_DEVICES'] = str(FLAGS.gpu)\n",
    "\n",
    "paths = [\n",
    "    './data/NORMAL_CLASS_REF.TFRecord', \n",
    "    './data/OTHER_CLASS_REF.TFRecord',\n",
    "    './data/ATRIUM_CLASS_REF.TFRecord',\n",
    "    './data/NOISE_CLASS_REF.TFRecord'\n",
    "]"
   ]
  },
  {
   "cell_type": "code",
   "execution_count": 2,
   "metadata": {
    "collapsed": false,
    "deletable": true,
    "editable": true
   },
   "outputs": [
    {
     "name": "stdout",
     "output_type": "stream",
     "text": [
      "CNN_block--cnn128x64-256x64-256x64\n",
      "Tensor(\"CNN_block/Conv1/dropout/mul:0\", shape=(?, ?, 1, 128), dtype=float32)\n",
      "Tensor(\"CNN_block/Conv2/dropout/mul:0\", shape=(?, ?, 1, 256), dtype=float32)\n",
      "Tensor(\"CNN_block/Conv3/dropout/mul:0\", shape=(?, ?, 1, 256), dtype=float32)\n",
      "CNN_block_1--cnn128x64-256x64-256x64\n",
      "Tensor(\"CNN_block_1/Conv1/dropout/mul:0\", shape=(?, ?, 1, 128), dtype=float32)\n",
      "Tensor(\"CNN_block_1/Conv2/dropout/mul:0\", shape=(?, ?, 1, 256), dtype=float32)\n",
      "Tensor(\"CNN_block_1/Conv3/dropout/mul:0\", shape=(?, ?, 1, 256), dtype=float32)\n",
      "CNN_block_2--cnn128x64-256x64-256x64\n",
      "Tensor(\"CNN_block_2/Conv1/dropout/mul:0\", shape=(?, ?, 1, 128), dtype=float32)\n",
      "Tensor(\"CNN_block_2/Conv2/dropout/mul:0\", shape=(?, ?, 1, 256), dtype=float32)\n",
      "Tensor(\"CNN_block_2/Conv3/dropout/mul:0\", shape=(?, ?, 1, 256), dtype=float32)\n",
      "CNN_block_3--cnn128x64-256x64-256x64\n",
      "Tensor(\"CNN_block_3/Conv1/dropout/mul:0\", shape=(?, ?, 1, 128), dtype=float32)\n",
      "Tensor(\"CNN_block_3/Conv2/dropout/mul:0\", shape=(?, ?, 1, 256), dtype=float32)\n",
      "Tensor(\"CNN_block_3/Conv3/dropout/mul:0\", shape=(?, ?, 1, 256), dtype=float32)\n",
      "\n",
      "FC--fc16\n",
      "Tensor(\"classifier/hidden_layer0/fully_connected/Relu:0\", shape=(?, 16), dtype=float32)\n",
      "Tensor(\"classifier/logits/BiasAdd:0\", shape=(?, 4), dtype=float32)\n",
      "Tensor(\"classifier/predictions:0\", shape=(?, 4), dtype=float32)\n"
     ]
    }
   ],
   "source": [
    "tf.reset_default_graph()\n",
    "batch_size = tf.placeholder_with_default(16, [], name='batch_size')\n",
    "(input_op, seq_len, label), input_prods = data.ops.get_even_batch_producer(\n",
    "    paths=paths, batch_size=batch_size)\n",
    "\n",
    "val_input_op, val_seq_len, val_label = data.ops.get_batch_producer(\n",
    "    batch_size=batch_size, path='./data/VALIDATION.TFRecord')\n",
    "\n",
    "validation_feed_dict = {\n",
    "    input_op: val_input_op,\n",
    "    seq_len: val_seq_len,\n",
    "    label: val_label,\n",
    "    batch_size: 128\n",
    "}\n",
    "\n",
    "cnn_params = {\n",
    "    'out_dims' : [128, 256, 256],\n",
    "    'kernel_sizes' : 64,\n",
    "    'pool_sizes' : 1\n",
    "}\n",
    "\n",
    "c = cnn.model(\n",
    "    seq_len=seq_len, \n",
    "    input_op=input_op, \n",
    "    model_name='CNN_block',\n",
    "    **cnn_params)\n",
    "\n",
    "RESIDUAL_POOL = 3\n",
    "residual_input = c.output[..., None, :]\n",
    "\n",
    "for i in range(1, 4):    \n",
    "    residual_input = tf.contrib.layers.max_pool2d(\n",
    "        residual_input, \n",
    "        kernel_size=[RESIDUAL_POOL, 1], \n",
    "        stride=[RESIDUAL_POOL, 1])\n",
    "    \n",
    "    c = cnn.model(\n",
    "        seq_len=seq_len, \n",
    "        input_op=residual_input, \n",
    "        residual=True, \n",
    "        model_name='CNN_block_%d'%i,\n",
    "        **cnn_params)\n",
    "    residual_input += c.output\n",
    "\n",
    "res_out = tf.squeeze(residual_input, axis=2)\n",
    "a = tf.reduce_mean(res_out, axis=1)\n",
    "fc = classifier.model(input_op=a, fc_sizes=[16])\n",
    "\n",
    "logits = fc.logits\n",
    "pred = fc.pred\n",
    "\n",
    "MODEL_PATH = '/tmp/balanced/resnet/' + c.name + fc.name\n",
    "MODEL_EXISTS = os.path.exists(MODEL_PATH)\n",
    "if MODEL_EXISTS:\n",
    "    print('Model directory is not empty, removing old files')\n",
    "    shutil.rmtree(MODEL_PATH)"
   ]
  },
  {
   "cell_type": "code",
   "execution_count": 3,
   "metadata": {
    "collapsed": false,
    "deletable": true,
    "editable": true
   },
   "outputs": [],
   "source": [
    "def measure_time(op, feed_dict={}, n_times=10):\n",
    "    with tf.Session() as sess:\n",
    "        print('Sess started')\n",
    "        coord = tf.train.Coordinator()\n",
    "        tf.global_variables_initializer().run()\n",
    "        threads = tf.train.start_queue_runners(sess=sess, coord=coord)\n",
    "        \n",
    "        print('Evaluating')\n",
    "        for _ in range(n_times):\n",
    "            t = time.time()\n",
    "            fetch = sess.run(op, feed_dict)\n",
    "            print('Eval time:', time.time() - t)\n",
    "            \n",
    "        print('Closing threads')\n",
    "        coord.request_stop()\n",
    "        coord.join(threads)\n",
    "\n",
    "        return fetch"
   ]
  },
  {
   "cell_type": "code",
   "execution_count": 4,
   "metadata": {
    "collapsed": false,
    "deletable": true,
    "editable": true
   },
   "outputs": [
    {
     "name": "stdout",
     "output_type": "stream",
     "text": [
      "Sess started\n",
      "Evaluating\n",
      "Eval time: 10.123024463653564\n",
      "Closing threads\n"
     ]
    },
    {
     "data": {
      "text/plain": [
       "(16, 4)"
      ]
     },
     "execution_count": 4,
     "metadata": {},
     "output_type": "execute_result"
    }
   ],
   "source": [
    "res = measure_time(pred, n_times=1)\n",
    "res.shape"
   ]
  },
  {
   "cell_type": "markdown",
   "metadata": {
    "deletable": true,
    "editable": true
   },
   "source": [
    "# Evaluation\n",
    "\n",
    "## **Confusion matrix**\n",
    "\n",
    "## **Accuracy operator**"
   ]
  },
  {
   "cell_type": "code",
   "execution_count": 5,
   "metadata": {
    "collapsed": true,
    "deletable": true,
    "editable": true
   },
   "outputs": [],
   "source": [
    "with tf.name_scope('evaluation'):\n",
    "    with tf.name_scope('one_hot_encoding'):\n",
    "        y_oh = tf.cast(tf.equal(\n",
    "            logits, tf.reduce_max(logits, axis=1)[:, None]), tf.float32)\n",
    "\n",
    "        label_oh = tf.one_hot(label, depth=4)\n",
    "    with tf.name_scope('confusion_matrix'):\n",
    "        conf_op = tf.reduce_sum(tf.transpose(\n",
    "            y_oh[..., None], perm=[0, 2, 1]) * label_oh[..., None],\n",
    "            axis=0, name='result')\n",
    "\n",
    "    with tf.name_scope('accuracy'):\n",
    "        y_tot = tf.reduce_sum(conf_op, axis=0, name='label_class_sum')\n",
    "        label_tot = tf.reduce_sum(conf_op, axis=1, name='pred_class_sum')\n",
    "        correct_op = tf.diag_part(conf_op, name='correct_class_sum')\n",
    "        eps = tf.constant([1e-10] * 4, name='eps')\n",
    "        acc = tf.reduce_mean(2*correct_op / (y_tot + label_tot + eps), name='result')"
   ]
  },
  {
   "cell_type": "code",
   "execution_count": 6,
   "metadata": {
    "collapsed": false,
    "deletable": true,
    "editable": true
   },
   "outputs": [],
   "source": [
    "class_hist = np.load('./data/class_histogramTRAIN.npy')\n",
    "with tf.name_scope('loss'):\n",
    "    #weight = tf.constant([.1, 1, .2, 3])\n",
    "    weight = tf.constant(1 - np.sqrt(class_hist/class_hist.sum()), name='weights')\n",
    "    weight = tf.gather(weight, label, name='weight_selector')\n",
    "    train_loss = tf.losses.softmax_cross_entropy(\n",
    "        label_oh, logits, weight, scope='weighted_loss')\n",
    "    unweighted_loss = tf.losses.softmax_cross_entropy(\n",
    "        label_oh, logits, scope='unweighted_loss')\n",
    "    \n",
    "    l2_loss = tf.reduce_sum([tf.nn.l2_loss(v, name='L2_reg_loss') \n",
    "                            for v in tf.trainable_variables()])\n",
    "    beta = 0.0001\n",
    "    loss = unweighted_loss + beta * l2_loss\n",
    "#class_hist, weight"
   ]
  },
  {
   "cell_type": "code",
   "execution_count": null,
   "metadata": {
    "collapsed": false,
    "deletable": true,
    "editable": true
   },
   "outputs": [],
   "source": [
    "with tf.name_scope('train'):\n",
    "    TS = tf.constant(7000, name='TRAIN_STEPS')\n",
    "    global_step = tf.Variable(initial_value=0, trainable=False, name='global_step')\n",
    "    boundaries = [TS//5, 2*TS//5, 3*TS//5, 4*TS//5]\n",
    "    values = [0.001, 0.0005, 0.001, 0.0005, 0.00001]\n",
    "    learning_rate = tf.train.piecewise_constant(global_step, boundaries, values)\n",
    "\n",
    "    grad_clip = tf.Variable(initial_value=3., trainable=False, name='grad_clip')\n",
    "    optimizer = tf.train.AdamOptimizer(learning_rate=learning_rate)\n",
    "    gvs = optimizer.compute_gradients(loss)\n",
    "    with tf.name_scope('gradient_clipping'):\n",
    "        capped_gvs = [(tf.clip_by_value(grad, -grad_clip, grad_clip), var) \n",
    "                      for grad, var in gvs]\n",
    "        \n",
    "    opt = optimizer.apply_gradients(capped_gvs, global_step)\n",
    "    \n",
    "    #opt = optimizer.minimize(1-max)"
   ]
  },
  {
   "cell_type": "raw",
   "metadata": {
    "collapsed": true,
    "deletable": true,
    "editable": true
   },
   "source": [
    "train_writer = tf.summary.FileWriter(MODEL_PATH, graph=tf.get_default_graph())\n",
    "sum_ops = []\n",
    "for v in tf.trainable_variables():\n",
    "    sum_ops.append(tf.summary.histogram(v.name[:-2], v))\n",
    "    sum_ops.append(tf.summary.histogram('gradients/'+v.name[:-2], tf.gradients(loss, v)))\n",
    "\n",
    "sum_ops.append(tf.summary.scalar('weighted_loss', loss))\n",
    "sum_ops.append(tf.summary.scalar('unweighted_loss', unweighted_loss))\n",
    "sum_ops.append(tf.summary.scalar('accuracy', acc))\n",
    "sum_ops.append(tf.summary.image('confusion_matrix', conf_op[None, ..., None], max_outputs=10))\n",
    "summaries = tf.summary.merge(sum_ops)\n",
    "eval_summaries = tf.summary.merge([tf.summary.scalar('eval_accuracy', acc), \n",
    "    tf.summary.image('confusion_matrix', conf_op[None, ..., None], max_outputs=10)])"
   ]
  },
  {
   "cell_type": "code",
   "execution_count": null,
   "metadata": {
    "collapsed": false,
    "deletable": true,
    "editable": true,
    "scrolled": true
   },
   "outputs": [
    {
     "name": "stdout",
     "output_type": "stream",
     "text": [
      "Sess started\n",
      "Initializing model\n",
      "Training\n",
      "000001/000100 time:22.85 loss:9.9783 acc:0.119\n",
      "000002/000100 time:38.84 loss:6.0731 acc:0.125\n",
      "000003/000100 time:11.58 loss:4.7113 acc:0.279\n",
      "000004/000100 time:20.39 loss:7.4865 acc:0.217\n",
      "000005/000100 time:11.65 loss:5.4731 acc:0.170\n",
      "000006/000100 time:11.53 loss:4.4862 acc:0.224\n",
      "000007/000100 time:11.57 loss:3.7032 acc:0.479\n",
      "000008/000100 time:11.52 loss:3.6465 acc:0.217\n",
      "000009/000100 time:24.41 loss:3.6011 acc:0.133\n",
      "000010/000100 time:11.55 loss:3.3697 acc:0.217\n",
      "000011/000100 time:38.65 loss:4.0059 acc:0.205\n",
      "000012/000100 time:11.61 loss:2.9659 acc:0.107\n",
      "000013/000100 time:11.63 loss:1.9550 acc:0.171\n",
      "000014/000100 time:25.59 loss:2.6676 acc:0.204\n",
      "000015/000100 time:23.57 loss:2.6914 acc:0.178\n",
      "000016/000100 time:12.00 loss:1.7712 acc:0.265\n",
      "000017/000100 time:28.13 loss:3.0741 acc:0.132\n",
      "000018/000100 time:11.53 loss:2.4357 acc:0.167\n",
      "000019/000100 time:39.26 loss:2.2026 acc:0.125\n",
      "000020/000100 time:11.58 loss:2.1955 acc:0.286\n"
     ]
    }
   ],
   "source": [
    "saver = tf.train.Saver(keep_checkpoint_every_n_hours=1)\n",
    "#with open('test.txt', 'w') as f:\n",
    "    #metagraph = saver.export_meta_graph(as_text=True)\n",
    "    #f.write(str(metagraph.ListFields()))\n",
    "    \n",
    "TRAIN_STEPS = 100\n",
    "with tf.Session() as sess:\n",
    "    print('Sess started')\n",
    "    \n",
    "    print('Initializing model')\n",
    "    tf.global_variables_initializer().run()\n",
    "        \n",
    "    coord = tf.train.Coordinator()\n",
    "    threads = tf.train.start_queue_runners(sess=sess, coord=coord)\n",
    "\n",
    "    print('Training')\n",
    "    step = 0\n",
    "    while step < TRAIN_STEPS:\n",
    "        t = time.time()\n",
    "        fetch = sess.run([opt, loss, acc, global_step])\n",
    "        step = fetch[-1]\n",
    "        print('%06d/%06d'%(step, TRAIN_STEPS), \n",
    "              'time:%03.2f'%(time.time()-t), \n",
    "              'loss:%02.4f'%fetch[1],\n",
    "              'acc:%1.3f'%fetch[2]\n",
    "              )\n",
    "        if step % 50 == 0:\n",
    "            print('Evaluating TRAIN summaries...')\n",
    "            train_writer.add_summary(summaries.eval(), global_step=fetch[-1])\n",
    "        if step % 100 == 0:\n",
    "            print('Evaluating VALIDATION summaries...')\n",
    "            train_writer.add_summary(\n",
    "                eval_summaries.eval(validation_feed_dict), \n",
    "                global_step=fetch[-1])\n",
    "        if step % 250 == 0:\n",
    "            print('Saving model...')\n",
    "            print(saver.save(sess, MODEL_PATH, global_step=fetch[-1]))\n",
    "    \n",
    "    print('Ending, closing producer threads')\n",
    "    coord.request_stop()\n",
    "    coord.join(threads)"
   ]
  },
  {
   "cell_type": "code",
   "execution_count": null,
   "metadata": {
    "collapsed": true
   },
   "outputs": [],
   "source": []
  }
 ],
 "metadata": {
  "kernelspec": {
   "display_name": "Python 3",
   "language": "python",
   "name": "python3"
  },
  "language_info": {
   "codemirror_mode": {
    "name": "ipython",
    "version": 3
   },
   "file_extension": ".py",
   "mimetype": "text/x-python",
   "name": "python",
   "nbconvert_exporter": "python",
   "pygments_lexer": "ipython3",
   "version": "3.5.3"
  }
 },
 "nbformat": 4,
 "nbformat_minor": 2
}
