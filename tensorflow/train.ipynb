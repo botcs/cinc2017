{
 "cells": [
  {
   "cell_type": "code",
   "execution_count": 1,
   "metadata": {
    "collapsed": false,
    "deletable": true,
    "editable": true
   },
   "outputs": [],
   "source": [
    "import tensorflow as tf\n",
    "import numpy as np\n",
    "\n",
    "import model.cnn as cnn\n",
    "import model.rnn as rnn\n",
    "import model.classifier as classifier\n",
    "\n",
    "import data.ops\n",
    "\n",
    "import time\n",
    "import matplotlib.pyplot as plt\n",
    "%matplotlib inline"
   ]
  },
  {
   "cell_type": "markdown",
   "metadata": {
    "deletable": true,
    "editable": true
   },
   "source": [
    "# Model definition"
   ]
  },
  {
   "cell_type": "code",
   "execution_count": 2,
   "metadata": {
    "collapsed": false,
    "deletable": true,
    "editable": true
   },
   "outputs": [
    {
     "name": "stdout",
     "output_type": "stream",
     "text": [
      "\n",
      "CNN--cnn10x32\n",
      "Tensor(\"CNN/conv_module/MaxPool2D/MaxPool:0\", shape=(?, ?, 1, 10), dtype=float32)\n",
      "\n",
      "RNN--rnn--steps100--sizes10\n",
      "LSTMStateTuple(c=<tf.Tensor 'RNN/LSTM/dynamic_wrapper/rnn/while/Exit_2:0' shape=(?, 10) dtype=float32>, h=<tf.Tensor 'RNN/LSTM/dynamic_wrapper/rnn/while/Exit_3:0' shape=(?, 10) dtype=float32>)\n",
      "\n",
      "FC--fc\n",
      "Tensor(\"classifier/fully_connected/logits/BiasAdd:0\", shape=(?, 4), dtype=float32)\n",
      "Tensor(\"classifier/pred:0\", shape=(?, 4), dtype=float32)\n"
     ]
    }
   ],
   "source": [
    "tf.reset_default_graph()\n",
    "batch_size = tf.placeholder_with_default(32, [])\n",
    "input_op, seq_len, label, weight = data.ops.get_batch_ops(batch_size=batch_size, path='./data/small.TFRecord')\n",
    "\n",
    "cnn_params = {\n",
    "    'out_dims' : [10],\n",
    "    'kernel_sizes' : 32,\n",
    "    'pool_sizes' : 10\n",
    "}\n",
    "rnn_params = {\n",
    "    'rnn_sizes' : [10],\n",
    "    'time_steps' : 100\n",
    "}\n",
    "fc_params = {\n",
    "    'fc_sizes' : []\n",
    "}\n",
    "\n",
    "c = cnn.get_output(seq_len=seq_len, input_op=input_op, **cnn_params)\n",
    "r = rnn.get_model(batch_size=batch_size, seq_len=seq_len, input_op=c, **rnn_params)\n",
    "logits, pred = classifier.get_logits_and_pred(input_op=r.last_output, **fc_params)\n"
   ]
  },
  {
   "cell_type": "markdown",
   "metadata": {
    "deletable": true,
    "editable": true
   },
   "source": [
    "# Sparse, weighted softmax loss"
   ]
  },
  {
   "cell_type": "code",
   "execution_count": 3,
   "metadata": {
    "collapsed": true,
    "deletable": true,
    "editable": true
   },
   "outputs": [],
   "source": [
    "loss = tf.losses.sparse_softmax_cross_entropy(label, logits, weight)\n",
    "unweighted_loss = tf.losses.sparse_softmax_cross_entropy(label, logits)"
   ]
  },
  {
   "cell_type": "code",
   "execution_count": 4,
   "metadata": {
    "collapsed": true,
    "deletable": true,
    "editable": true
   },
   "outputs": [],
   "source": [
    "def measure_time(op, n_times=10):\n",
    "    with tf.Session() as sess:\n",
    "        print('Sess started')\n",
    "        coord = tf.train.Coordinator()\n",
    "        tf.global_variables_initializer().run()\n",
    "        threads = tf.train.start_queue_runners(sess=sess, coord=coord)\n",
    "        \n",
    "        init_state = sess.run(r.zero_state)\n",
    "        feed_dict = {r.init_state : init_state}\n",
    "        print('Evaluating')\n",
    "        for _ in range(n_times):\n",
    "            t = time.time()\n",
    "            test_output = sess.run(op, feed_dict)\n",
    "            print(test_output, 'Eval time:', time.time() - t)\n",
    "            \n",
    "        print('Closing threads')\n",
    "        coord.request_stop()\n",
    "        coord.join(threads)\n",
    "        sess.close()\n",
    "\n",
    "        return test_output"
   ]
  },
  {
   "cell_type": "code",
   "execution_count": 5,
   "metadata": {
    "collapsed": false,
    "deletable": true,
    "editable": true
   },
   "outputs": [
    {
     "name": "stdout",
     "output_type": "stream",
     "text": [
      "Sess started\n",
      "Evaluating\n",
      "[0.63111538, 1.399884] Eval time: 2.642584800720215\n",
      "[0.63263184, 1.3917959] Eval time: 0.48341822624206543\n",
      "[0.63062447, 1.4083436] Eval time: 0.4236116409301758\n",
      "[0.63225257, 1.4131725] Eval time: 0.43683934211730957\n",
      "[0.64441735, 1.4087191] Eval time: 0.4515969753265381\n",
      "[0.63168967, 1.3782289] Eval time: 0.39233875274658203\n",
      "[0.62079853, 1.3822248] Eval time: 0.472182035446167\n",
      "[0.63041484, 1.4059429] Eval time: 0.465831995010376\n",
      "[0.65027702, 1.4190985] Eval time: 0.4581892490386963\n",
      "[0.63651252, 1.3986623] Eval time: 0.46692919731140137\n",
      "Closing threads\n"
     ]
    },
    {
     "data": {
      "text/plain": [
       "[0.63651252, 1.3986623]"
      ]
     },
     "execution_count": 5,
     "metadata": {},
     "output_type": "execute_result"
    }
   ],
   "source": [
    "measure_time([loss, unweighted_loss])"
   ]
  },
  {
   "cell_type": "markdown",
   "metadata": {
    "deletable": true,
    "editable": true
   },
   "source": [
    "# Train operator"
   ]
  },
  {
   "cell_type": "code",
   "execution_count": 6,
   "metadata": {
    "collapsed": false,
    "deletable": true,
    "editable": true
   },
   "outputs": [],
   "source": [
    "learning_rate = tf.Variable(initial_value=.05, trainable=False, name='learning_rate')\n",
    "global_step = tf.Variable(initial_value=0, trainable=False, name='global_step')\n",
    "grad_clip = tf.Variable(initial_value=3., trainable=False, name='grad_clip')\n",
    "\n",
    "with tf.name_scope('train'):\n",
    "    optimizer = tf.train.AdamOptimizer(learning_rate=learning_rate)\n",
    "    gvs = optimizer.compute_gradients(loss)\n",
    "    with tf.name_scope('gradient_clipping'):\n",
    "        capped_gvs = [(tf.clip_by_value(grad, -grad_clip, grad_clip), var) \n",
    "                      for grad, var in gvs]\n",
    "        \n",
    "    opt = optimizer.apply_gradients(capped_gvs, global_step)"
   ]
  },
  {
   "cell_type": "code",
   "execution_count": 7,
   "metadata": {
    "collapsed": false,
    "deletable": true,
    "editable": true
   },
   "outputs": [
    {
     "name": "stdout",
     "output_type": "stream",
     "text": [
      "Sess started\n",
      "Evaluating\n",
      "[0.63634324, 1.3790075, None] Eval time: 3.5148799419403076\n",
      "[0.57901454, 1.3113109, None] Eval time: 1.4440007209777832\n",
      "[0.50173265, 1.2342627, None] Eval time: 1.5418884754180908\n",
      "[0.38051069, 1.0149763, None] Eval time: 1.4092023372650146\n",
      "[0.32744494, 1.042408, None] Eval time: 1.6080615520477295\n",
      "[0.24281341, 0.97298557, None] Eval time: 1.568976879119873\n",
      "[0.26619786, 1.1944469, None] Eval time: 1.768803358078003\n",
      "[0.25964981, 1.2531438, None] Eval time: 1.4534945487976074\n",
      "[0.21640766, 1.1407042, None] Eval time: 1.6723036766052246\n",
      "[0.24752289, 1.1663011, None] Eval time: 1.5473780632019043\n",
      "[0.20086487, 1.0661288, None] Eval time: 1.4607608318328857\n",
      "[0.24243683, 1.1949792, None] Eval time: 1.56355881690979\n",
      "[0.21813297, 1.1018785, None] Eval time: 1.5268046855926514\n",
      "[0.2327787, 1.16009, None] Eval time: 1.514350414276123\n",
      "[0.23085181, 1.0898123, None] Eval time: 1.5247688293457031\n",
      "[0.20573896, 1.2300351, None] Eval time: 1.5255327224731445\n",
      "[0.23222397, 1.1322289, None] Eval time: 1.463233470916748\n",
      "[0.22150046, 1.1993508, None] Eval time: 1.643315076828003\n",
      "[0.24468951, 1.2689066, None] Eval time: 1.5437664985656738\n",
      "[0.20748758, 1.0092814, None] Eval time: 1.6173503398895264\n",
      "[0.17585549, 0.96243405, None] Eval time: 1.57686448097229\n",
      "[0.22846511, 1.1149611, None] Eval time: 1.526778221130371\n",
      "[0.21267992, 1.030012, None] Eval time: 1.6088833808898926\n",
      "[0.19901085, 0.93751895, None] Eval time: 1.5748755931854248\n",
      "[0.21663548, 0.91600889, None] Eval time: 1.4269521236419678\n",
      "[0.18025464, 0.93251103, None] Eval time: 1.5031604766845703\n",
      "[0.22343355, 0.92305124, None] Eval time: 1.4890339374542236\n",
      "[0.20615903, 0.94810086, None] Eval time: 1.563143253326416\n",
      "[0.18837777, 0.87010133, None] Eval time: 1.4727303981781006\n",
      "[0.22750394, 0.94109756, None] Eval time: 1.5756278038024902\n",
      "[0.1748136, 0.89124763, None] Eval time: 1.5944159030914307\n",
      "[0.23383339, 1.0465813, None] Eval time: 1.49623441696167\n",
      "[0.18370464, 0.80052125, None] Eval time: 1.6662228107452393\n",
      "[0.20638978, 0.94838208, None] Eval time: 1.648888111114502\n",
      "[0.22550485, 0.93877995, None] Eval time: 1.6136910915374756\n",
      "[0.17706797, 0.91499209, None] Eval time: 1.4976906776428223\n",
      "[0.21760345, 0.90687287, None] Eval time: 1.5173041820526123\n",
      "[0.19204877, 0.90016675, None] Eval time: 1.599867582321167\n",
      "[0.20311156, 0.95375353, None] Eval time: 1.5254099369049072\n",
      "[0.21683152, 0.92908382, None] Eval time: 1.8103201389312744\n",
      "[0.19247183, 0.92394584, None] Eval time: 1.6076483726501465\n",
      "[0.2090725, 0.99466479, None] Eval time: 1.6039798259735107\n",
      "[0.18550327, 0.93325132, None] Eval time: 1.5435094833374023\n",
      "[0.2085183, 1.0134807, None] Eval time: 1.6882262229919434\n",
      "[0.21791402, 0.97449172, None] Eval time: 1.6487884521484375\n",
      "[0.17889825, 0.99362922, None] Eval time: 1.533613920211792\n",
      "[0.2163997, 0.95801926, None] Eval time: 1.617990255355835\n",
      "[0.18631677, 0.93635195, None] Eval time: 1.793212890625\n",
      "[0.22699259, 1.0590301, None] Eval time: 1.5407040119171143\n",
      "[0.19502337, 0.86308789, None] Eval time: 1.533663272857666\n",
      "[0.18144751, 0.95085549, None] Eval time: 1.4421207904815674\n",
      "[0.21463473, 0.91863471, None] Eval time: 1.610696792602539\n",
      "[0.20520684, 0.96710873, None] Eval time: 1.7504827976226807\n",
      "[0.18729554, 0.89533412, None] Eval time: 1.6103129386901855\n",
      "[0.21664624, 0.9335202, None] Eval time: 1.5527467727661133\n",
      "[0.17424586, 0.93121254, None] Eval time: 1.5767254829406738\n",
      "[0.21642196, 0.93617493, None] Eval time: 1.5602355003356934\n",
      "[0.20405757, 0.96911824, None] Eval time: 1.599449872970581\n",
      "[0.19476509, 0.90515554, None] Eval time: 1.6214661598205566\n",
      "[0.21378872, 0.90712357, None] Eval time: 1.586151361465454\n",
      "[0.17994849, 0.91893506, None] Eval time: 1.614964485168457\n",
      "[0.21394224, 0.90715444, None] Eval time: 1.542231798171997\n",
      "[0.18281804, 0.8878755, None] Eval time: 1.49611496925354\n",
      "[0.20531285, 0.9663828, None] Eval time: 1.5822575092315674\n",
      "[0.2214821, 0.95512283, None] Eval time: 1.5315606594085693\n",
      "[0.17581001, 0.94099671, None] Eval time: 1.6163246631622314\n",
      "[0.21482342, 0.93126982, None] Eval time: 1.6578395366668701\n",
      "[0.18501067, 0.90394276, None] Eval time: 1.570861577987671\n",
      "[0.20624384, 0.9725548, None] Eval time: 1.5966651439666748\n",
      "[0.21751636, 1.026698, None] Eval time: 1.5830271244049072\n",
      "[0.17076047, 0.83862931, None] Eval time: 1.519775629043579\n",
      "[0.21310282, 0.92142856, None] Eval time: 1.5798842906951904\n",
      "[0.20038459, 0.96060002, None] Eval time: 1.4663300514221191\n",
      "[0.20460533, 0.96333724, None] Eval time: 1.6068673133850098\n",
      "[0.17653252, 0.78875494, None] Eval time: 1.5310862064361572\n",
      "[0.18737808, 0.99521923, None] Eval time: 1.5313856601715088\n",
      "[0.21489531, 0.93199539, None] Eval time: 1.511650800704956\n",
      "[0.19781703, 0.95596451, None] Eval time: 1.544929027557373\n",
      "[0.18589334, 0.89520025, None] Eval time: 1.6110882759094238\n",
      "[0.21136288, 0.90885365, None] Eval time: 1.5647358894348145\n",
      "[0.19427817, 0.99147916, None] Eval time: 1.6496102809906006\n",
      "[0.19594106, 0.84999293, None] Eval time: 1.6097970008850098\n",
      "[0.1801099, 0.88240296, None] Eval time: 1.52828049659729\n",
      "[0.20217699, 0.95792884, None] Eval time: 1.5853333473205566\n",
      "[0.21952766, 1.016108, None] Eval time: 1.5560047626495361\n",
      "[0.17536792, 0.77714545, None] Eval time: 1.467660665512085\n",
      "[0.2053073, 0.94336343, None] Eval time: 1.5221314430236816\n",
      "[0.19710642, 0.93830514, None] Eval time: 1.629035472869873\n",
      "[0.19098783, 0.89239454, None] Eval time: 1.4960579872131348\n",
      "[0.20903161, 0.9069581, None] Eval time: 1.6196928024291992\n",
      "[0.1724205, 0.92383993, None] Eval time: 1.512984037399292\n",
      "[0.21058048, 0.92466331, None] Eval time: 1.5787873268127441\n",
      "[0.18091762, 0.89569455, None] Eval time: 1.6062161922454834\n",
      "[0.20693958, 0.99340475, None] Eval time: 1.5903222560882568\n",
      "[0.21042514, 0.92878318, None] Eval time: 1.4354915618896484\n",
      "[0.17593899, 0.92645872, None] Eval time: 1.5781373977661133\n",
      "[0.21503508, 0.89852405, None] Eval time: 1.6097924709320068\n",
      "[0.18092297, 0.86435169, None] Eval time: 1.5748481750488281\n",
      "[0.19989128, 0.93978405, None] Eval time: 1.4038968086242676\n",
      "[0.21181808, 0.91633737, None] Eval time: 1.7332909107208252\n",
      "Closing threads\n"
     ]
    },
    {
     "data": {
      "text/plain": [
       "[0.21181808, 0.91633737, None]"
      ]
     },
     "execution_count": 7,
     "metadata": {},
     "output_type": "execute_result"
    }
   ],
   "source": [
    "measure_time([loss, unweighted_loss, opt], n_times=100)"
   ]
  },
  {
   "cell_type": "code",
   "execution_count": null,
   "metadata": {
    "collapsed": true
   },
   "outputs": [],
   "source": []
  }
 ],
 "metadata": {
  "kernelspec": {
   "display_name": "Python 3",
   "language": "python",
   "name": "python3"
  },
  "language_info": {
   "codemirror_mode": {
    "name": "ipython",
    "version": 3
   },
   "file_extension": ".py",
   "mimetype": "text/x-python",
   "name": "python",
   "nbconvert_exporter": "python",
   "pygments_lexer": "ipython3",
   "version": "3.5.3"
  }
 },
 "nbformat": 4,
 "nbformat_minor": 2
}
